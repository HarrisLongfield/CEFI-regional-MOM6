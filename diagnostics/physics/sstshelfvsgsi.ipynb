{
 "cells": [
  {
   "cell_type": "code",
   "execution_count": 1,
   "id": "1c5bc77d-8c52-4ffa-ab87-445ce8fe49bc",
   "metadata": {},
   "outputs": [],
   "source": [
    "import cartopy.feature as feature\n",
    "import cartopy.crs as ccrs\n",
    "from calendar import month_abbr\n",
    "import matplotlib.dates as mdates\n",
    "from pathlib import Path \n",
    "import subprocess \n",
    "from cartopy.mpl.geoaxes import GeoAxes\n",
    "import matplotlib.gridspec as gridspec\n",
    "from matplotlib.lines import Line2D\n",
    "import matplotlib.pyplot as plt\n",
    "from mpl_toolkits.axes_grid1 import AxesGrid\n",
    "import datetime\n",
    "import numpy as np\n",
    "import pandas as pd\n",
    "import xarray\n",
    "import xesmf\n",
    "import os \n",
    "from glob import glob\n",
    "from plot_common import autoextend_colorbar, corners, get_map_norm, open_var, add_ticks, annotate_skill, save_figure"
   ]
  },
  {
   "cell_type": "code",
   "execution_count": 2,
   "id": "5f51788f-f189-4c8c-8eeb-f6ea19dc1cd3",
   "metadata": {},
   "outputs": [],
   "source": [
    "def compute_gs(ssh, data_grid=None):\n",
    "    lons = np.arange(360-72, 360-51.9, 1)\n",
    "    lats = np.arange(36, 42, 0.1)\n",
    "    target_grid = {'lat': lats, 'lon': lons}\n",
    "\n",
    "    if data_grid is None:\n",
    "        data_grid = {'lat': ssh.lat, 'lon': ssh.lon}\n",
    "\n",
    "    ssh_to_grid = xesmf.Regridder(\n",
    "        data_grid,\n",
    "        target_grid,\n",
    "        method='bilinear'\n",
    "    )\n",
    "\n",
    "    # Interpolate the SSH data onto the index grid.\n",
    "    regridded = ssh_to_grid(ssh)\n",
    "\n",
    "    # Find anomalies relative to the calendar month mean SSH over the full model run.\n",
    "    anom = regridded.groupby('time.month') - regridded.groupby('time.month').mean('time')\n",
    "\n",
    "    # For each longitude point, the Gulf Stream is located at the latitude with the maximum SSH anomaly variance.\n",
    "    stdev = anom.std('time')\n",
    "    amax = stdev.argmax('lat').compute()\n",
    "    gs_points = stdev.lat.isel(lat=amax).compute()\n",
    "\n",
    "    # The index is the mean latitude of the Gulf Stream, divided by the standard deviation of the mean latitude of the Gulf Stream.\n",
    "    index = ((anom.isel(lat=amax).mean('lon')) / anom.isel(lat=amax).mean('lon').std('time')).compute()\n",
    "\n",
    "    # Move times to the beginning of the month to match observations.\n",
    "    monthly_index = index.to_pandas().resample('1MS').first()\n",
    "    return monthly_index, gs_points\n"
   ]
  },
  {
   "cell_type": "code",
   "execution_count": 3,
   "id": "2b4ea0d3-9645-439c-9012-542b330c49e5",
   "metadata": {},
   "outputs": [],
   "source": [
    "def open_var(pp_root, kind, var):\n",
    "    freq = 'daily' if 'daily' in kind else 'monthly'\n",
    "    longslice = '19930101-19981231' if freq == 'daily' else '199301-199812'\n",
    "    longfile = os.path.join(pp_root, 'pp', kind, 'ts', freq, '5yr', f'{kind}.{longslice}.{var}.nc')\n",
    "    if os.path.isfile(longfile):\n",
    "        os.system(f'dmget {longfile}')\n",
    "        return xarray.open_dataset(longfile)[var]\n",
    "    elif len(glob(os.path.join(pp_root, 'pp', kind, 'ts', freq, '1yr', f'{kind}.*.{var}.nc'))) > 0:\n",
    "        files = glob(os.path.join(pp_root, 'pp', kind, 'ts', freq, '1yr', f'{kind}.*.{var}.nc'))\n",
    "        os.system(f'dmget {\" \".join(files)}')\n",
    "        return xarray.open_mfdataset(files)[var]\n",
    "    elif len(glob(os.path.join(pp_root, 'pp', kind, 'ts', freq, '5yr', f'{kind}.*.{var}.nc'))) > 0:\n",
    "        files = glob(os.path.join(pp_root, 'pp', kind, 'ts', freq, '5yr', f'{kind}.*.{var}.nc'))\n",
    "        os.system(f'dmget {\" \".join(files)}')\n",
    "        return xarray.open_mfdataset(files)[var]\n",
    "    else:\n",
    "        raise Exception('Did not find postprocessed files')"
   ]
  },
  {
   "cell_type": "code",
   "execution_count": 4,
   "id": "ce80f90b-c9d2-4e5c-987f-ae40360926ce",
   "metadata": {},
   "outputs": [],
   "source": [
    "rootmed = Path('/archive/Harris.Longfield/fre/NWA/2024_06/NWA12_COBALT_2024_06_medatm_ens_1/gfdl.ncrc5-intel22-prod') \n",
    "rootlow = Path('/archive/Harris.Longfield/fre/NWA/2024_06/NWA12_COBALT_2024_06_lowatm_ens_1/gfdl.ncrc5-intel22-prod')\n",
    "rootobs = Path('/work/vnk/obs_and_reanalyses/oisst_v2/sst.mon.mean.nc') \n",
    "sstwholemed = open_var(rootmed, 'ocean_monthly', 'tos').resample(time = \"1MS\").first() \n",
    "sstwholelow = open_var(rootlow, 'ocean_monthly', 'tos').resample(time = \"1MS\").first() \n",
    "obs = xarray.open_mfdataset('/work/vnk/obs_and_reanalyses/oisst_v2/sst.mon.mean.nc')['sst']\n",
    "obsgsipts = pd.read_pickle('/home/Andrew.C.Ross/git/nwa12/experiments/COBALT_2023_04/data/satellite_ssh_index.pkl').resample('1YS').mean()\n",
    "model_grid = xarray.open_dataset('../data/geography/ocean_static.nc')\n",
    "obs_grid = xarray.open_mfdataset('/work/vnk/obs_and_reanalyses/oisst_v2/sst.mon.mean.grid.nc')  "
   ]
  },
  {
   "cell_type": "code",
   "execution_count": 5,
   "id": "5f05dc29-cd23-480e-9e23-db6869fc244e",
   "metadata": {},
   "outputs": [],
   "source": [
    "#OISST TO MOM \n",
    "\n",
    "obsregrd = xesmf.Regridder(obs_grid, {'lat': model_grid.geolat, 'lon': model_grid.geolon}, \n",
    "        method='bilinear', \n",
    "        unmapped_to_nan=True)\n",
    "\n",
    "obs_regriddeda = obsregrd(obs)"
   ]
  },
  {
   "cell_type": "code",
   "execution_count": 6,
   "id": "5c035613-9e66-4ebc-b688-68a020069cc3",
   "metadata": {},
   "outputs": [],
   "source": [
    "obs_regridded = obs_regriddeda.sel(time=slice('1993','2007')) "
   ]
  },
  {
   "cell_type": "code",
   "execution_count": 7,
   "id": "31ca04c9-92fe-4a2a-95b3-9ba88712bb9a",
   "metadata": {},
   "outputs": [
    {
     "name": "stderr",
     "output_type": "stream",
     "text": [
      "/nbhome/Harris.Longfield/python/envs/py311_20240611/lib/python3.11/site-packages/xarray/core/indexing.py:1617: PerformanceWarning: Slicing with an out-of-order index is generating 15 times more chunks\n",
      "  return self.array[key]\n",
      "/nbhome/Harris.Longfield/python/envs/py311_20240611/lib/python3.11/site-packages/dask/array/numpy_compat.py:53: RuntimeWarning: invalid value encountered in divide\n",
      "  x = np.divide(x1, x2, out)\n",
      "/nbhome/Harris.Longfield/python/envs/py311_20240611/lib/python3.11/site-packages/xarray/core/indexing.py:1617: PerformanceWarning: Slicing with an out-of-order index is generating 15 times more chunks\n",
      "  return self.array[key]\n",
      "/nbhome/Harris.Longfield/python/envs/py311_20240611/lib/python3.11/site-packages/dask/array/numpy_compat.py:53: RuntimeWarning: invalid value encountered in divide\n",
      "  x = np.divide(x1, x2, out)\n",
      "/nbhome/Harris.Longfield/python/envs/py311_20240611/lib/python3.11/site-packages/xarray/core/indexing.py:1617: PerformanceWarning: Slicing with an out-of-order index is generating 15 times more chunks\n",
      "  return self.array[key]\n",
      "/nbhome/Harris.Longfield/python/envs/py311_20240611/lib/python3.11/site-packages/dask/array/numpy_compat.py:53: RuntimeWarning: invalid value encountered in divide\n",
      "  x = np.divide(x1, x2, out)\n"
     ]
    }
   ],
   "source": [
    "modelgsiindexmed, modelgsipointsmed = compute_gs(sstwholemed, data_grid=model_grid[['geolon', 'geolat']].rename({'geolon': 'lon', 'geolat': 'lat'}))\n",
    "modelgsiindexlow, modelgsipointslow = compute_gs(sstwholelow, data_grid=model_grid[['geolon', 'geolat']].rename({'geolon': 'lon', 'geolat': 'lat'}))\n",
    "modelgsiindexobs, modelgsipointsobs = compute_gs(obs_regridded, data_grid=model_grid[['geolon', 'geolat']].rename({'geolon': 'lon', 'geolat': 'lat'}))"
   ]
  },
  {
   "cell_type": "code",
   "execution_count": 8,
   "id": "f85f8e0d-2eb8-48c3-b4ea-3ba73ff3f7cf",
   "metadata": {},
   "outputs": [],
   "source": [
    "masks = xarray.open_dataset('/home/Andrew.C.Ross/git/nwa12/data/geography/masks/regions_30m.nc') "
   ]
  },
  {
   "cell_type": "code",
   "execution_count": 9,
   "id": "48da325b-2f21-4a3e-9943-c65b59846f97",
   "metadata": {},
   "outputs": [
    {
     "data": {
      "text/plain": [
       "Data variables:\n",
       "    areacello  (yh, xh) float32 3MB ...\n",
       "    geolat     (yh, xh) float32 3MB ...\n",
       "    geolon     (yh, xh) float32 3MB ...\n",
       "    MAB        (yh, xh) bool 655kB ...\n",
       "    GOM        (yh, xh) bool 655kB ...\n",
       "    SS         (yh, xh) bool 655kB ...\n",
       "    GB         (yh, xh) bool 655kB ...\n",
       "    SS_LME     (yh, xh) bool 655kB ...\n",
       "    NEUS_LME   (yh, xh) bool 655kB ...\n",
       "    SEUS_LME   (yh, xh) bool 655kB ...\n",
       "    GOMEX      (yh, xh) bool 655kB ...\n",
       "    Floridian  (yh, xh) bool 655kB ...\n",
       "    GSL        (yh, xh) bool 655kB ...\n",
       "    NGOMEX     (yh, xh) bool 655kB ...\n",
       "    SGOMEX     (yh, xh) bool 655kB ...\n",
       "    Antilles   (yh, xh) bool 655kB ..."
      ]
     },
     "execution_count": 9,
     "metadata": {},
     "output_type": "execute_result"
    }
   ],
   "source": [
    "masks.data_vars"
   ]
  },
  {
   "cell_type": "code",
   "execution_count": 17,
   "id": "5b119d31-0ace-493f-b8f3-09d105d08212",
   "metadata": {},
   "outputs": [
    {
     "data": {
      "text/plain": [
       "<matplotlib.collections.QuadMesh at 0x2ae9d0f47d90>"
      ]
     },
     "execution_count": 17,
     "metadata": {},
     "output_type": "execute_result"
    },
    {
     "data": {
      "image/png": "[encoded data removed]",
      "text/plain": [
       "<Figure size 640x480 with 2 Axes>"
      ]
     },
     "metadata": {},
     "output_type": "display_data"
    }
   ],
   "source": [
    "masks['GOMEX'].plot()"
   ]
  },
  {
   "cell_type": "code",
   "execution_count": 8,
   "id": "4cc0ba14-1e98-48ef-b18f-6c3fc03245f6",
   "metadata": {},
   "outputs": [],
   "source": [
    "weights_gom = masks['areacello'].where(masks['GOM']).fillna(0) \n",
    "weights_neus = masks['areacello'].where(masks['NEUS_LME']).fillna(0)"
   ]
  },
  {
   "cell_type": "code",
   "execution_count": null,
   "id": "12714663-180f-45cf-b707-bf47e4709b87",
   "metadata": {},
   "outputs": [],
   "source": [
    "mean_sst_neus_med = sstwholemed.weighted(weights_neus).mean(['yh', 'xh']).compute() \n",
    "mean_sst_neus_low = sstwholelow.weighted(weights_neus).mean(['yh', 'xh']).compute() "
   ]
  },
  {
   "cell_type": "code",
   "execution_count": null,
   "id": "cbe506bf-84ef-4f40-b8e5-d85713b6aa25",
   "metadata": {},
   "outputs": [],
   "source": [
    "mean_sst_neus_obs = obs_regridded.weighted(weights_neus).mean(['yh', 'xh'])"
   ]
  },
  {
   "cell_type": "code",
   "execution_count": null,
   "id": "68b3ab1d-7af6-42b1-b678-7e6785309bc2",
   "metadata": {},
   "outputs": [],
   "source": [
    "mean_sst_gom_med = sstwholemed.weighted(weights_gom).mean(['yh', 'xh']).compute() \n",
    "mean_sst_gom_low = sstwholelow.weighted(weights_gom).mean(['yh', 'xh']).compute() "
   ]
  },
  {
   "cell_type": "code",
   "execution_count": null,
   "id": "eb6b8453-6cc7-4b86-b697-e702fe20d679",
   "metadata": {},
   "outputs": [],
   "source": [
    "annual_gsi_index_med = modelgsiindexmed.resample('1YS').mean()\n",
    "annual_gsi_index_low = modelgsiindexlow.resample('1YS').mean()\n",
    "annual_gsi_index_obs = modelgsiindexobs.resample('1YS').mean() \n",
    "annual_gom_med = mean_sst_gom_med.resample(time='1YS').mean()\n",
    "annual_gom_low = mean_sst_gom_low.resample(time='1YS').mean()\n",
    "annual_neus_med = mean_sst_neus_med.resample(time='1YS').mean()\n",
    "annual_neus_low = mean_sst_neus_low.resample(time='1YS').mean()\n",
    "annual_neus_obs = mean_sst_neus_obs.resample(time='1YS').mean() "
   ]
  },
  {
   "cell_type": "code",
   "execution_count": null,
   "id": "ebf6a28d-e579-4cc5-9f6c-5b98e7077a84",
   "metadata": {},
   "outputs": [],
   "source": [
    "annual_neus_obs = mean_sst_neus_obs.resample(time='1YS').mean()"
   ]
  },
  {
   "cell_type": "code",
   "execution_count": null,
   "id": "44d2b4db-20a6-4746-b2ef-27cd1a501a44",
   "metadata": {},
   "outputs": [],
   "source": [
    "annual_neus_obs.sel(time=slice('1995', '2007')) "
   ]
  },
  {
   "cell_type": "code",
   "execution_count": null,
   "id": "d8625a00-c90b-4e9b-a57c-11319ca78f3b",
   "metadata": {},
   "outputs": [],
   "source": [
    "pd.DataFrame.to_xarray(annual_gsi_index_obs)['time'] "
   ]
  },
  {
   "cell_type": "code",
   "execution_count": null,
   "id": "0e0aa6cb-3402-40da-ba87-44bef8ff85d4",
   "metadata": {},
   "outputs": [],
   "source": [
    "annual_low_gom_corr = xarray.corr(annual_gom_low.sel(time=slice('1995','2007')), pd.DataFrame.to_xarray(annual_gsi_index_low), dim='time').item() \n",
    "annual_med_gom_corr = xarray.corr(annual_gom_med.sel(time=slice('1995','2007')), pd.DataFrame.to_xarray(annual_gsi_index_med), dim='time').item() \n",
    "annual_neus_low_corr = xarray.corr(annual_neus_low.sel(time=slice('1995','2007')), pd.DataFrame.to_xarray(annual_gsi_index_low), dim='time').item() \n",
    "annual_neus_med_corr = xarray.corr(annual_neus_med.sel(time=slice('1995','2007')), pd.DataFrame.to_xarray(annual_gsi_index_med), dim='time').item() \n",
    "annual_neus_obs_corr = xarray.corr(annual_neus_obs.sel(time=slice('1995', '2007')), pd.DataFrame.to_xarray(annual_gsi_index_obs), dim='time')"
   ]
  },
  {
   "cell_type": "code",
   "execution_count": null,
   "id": "679ef343-8c8f-4f2e-b9bc-7af191620794",
   "metadata": {},
   "outputs": [],
   "source": [
    "annual_neus_obs_corr = xarray.corr(annual_neus_obs.sel(time=slice('1995', '2007')).load(), pd.DataFrame.to_xarray(annual_gsi_index_obs).sel(time=slice('1995', '2007')), dim='time')"
   ]
  },
  {
   "cell_type": "code",
   "execution_count": null,
   "id": "641a3334-ba24-4775-b806-01e432d85bbe",
   "metadata": {},
   "outputs": [],
   "source": [
    "annual_neus_obs_corr"
   ]
  },
  {
   "cell_type": "code",
   "execution_count": null,
   "id": "37e2291a-b342-4b62-96fd-b136485fe8c1",
   "metadata": {},
   "outputs": [],
   "source": [
    "x = annual_neus_obs.sel(time=slice('1995', '2007')).load()"
   ]
  },
  {
   "cell_type": "code",
   "execution_count": null,
   "id": "3e4dfadf-0bf9-4d0c-b305-3e14e1da1e46",
   "metadata": {},
   "outputs": [],
   "source": [
    "y = pd.DataFrame.to_xarray(annual_gsi_index_obs).sel(time=slice('1995', '2007'))"
   ]
  },
  {
   "cell_type": "code",
   "execution_count": null,
   "id": "01a5f0ca-96ef-431c-9aba-9b277e6c44b8",
   "metadata": {},
   "outputs": [],
   "source": [
    "xarray.corr(x,y,dim='time')"
   ]
  },
  {
   "cell_type": "code",
   "execution_count": null,
   "id": "281dc788-be21-45ef-9e1d-1119772b5685",
   "metadata": {},
   "outputs": [],
   "source": []
  },
  {
   "cell_type": "code",
   "execution_count": null,
   "id": "049e5801-6245-4119-bba1-d9111bf0a758",
   "metadata": {},
   "outputs": [],
   "source": [
    "annual_low_gom_corr"
   ]
  },
  {
   "cell_type": "code",
   "execution_count": null,
   "id": "a17bef16-8e0c-4be7-b9cf-2d124de4437d",
   "metadata": {},
   "outputs": [],
   "source": [
    "annual_med_gom_corr"
   ]
  },
  {
   "cell_type": "code",
   "execution_count": null,
   "id": "6c177afa-8b3b-4bfb-94e7-0f05c807eed6",
   "metadata": {},
   "outputs": [],
   "source": [
    "annual_neus_low_corr"
   ]
  },
  {
   "cell_type": "code",
   "execution_count": null,
   "id": "45b58369-b5f7-46d2-9942-44d3baa5444e",
   "metadata": {},
   "outputs": [],
   "source": [
    "annual_neus_med_corr"
   ]
  },
  {
   "cell_type": "code",
   "execution_count": null,
   "id": "851f999d-0c6c-4608-ae4e-125feb08491f",
   "metadata": {},
   "outputs": [],
   "source": [
    "annual_neus_obs_corr"
   ]
  },
  {
   "cell_type": "code",
   "execution_count": null,
   "id": "bde73fa3-bfe7-4cdb-ace8-a03778b336fd",
   "metadata": {},
   "outputs": [],
   "source": [
    "'''import xskillscore as xs\n",
    "\n",
    "def plot_timeseries(ax, data, gsi_data, color, label, gsi_label):\n",
    "    y = data.sel(epu=4).tos\n",
    "    x = data.time.values\n",
    "    x_gsi = gsi_data.time.values\n",
    "    \n",
    "    if 'member' in gsi_data.dims:\n",
    "        y_gsi = gsi_data.mean(dim='member')\n",
    "    else:\n",
    "        y_gsi = gsi_data\n",
    "        \n",
    "    t = data.sel(time=slice('1993-01-01','2007-12-31')).time.values\n",
    "    slope,intercept,r_value,p_value,std_err = stats.linregress(np.arange(len(t)),\n",
    "                        y.sel(time=slice('1993-01-01','2007-12-31')).values)\n",
    "    \n",
    "    y_aligned, y_gsi_aligned = xr.align(y, y_gsi)\n",
    "\n",
    "    # Calculate correlation and effective sample size\n",
    "    corr = xs.pearson_r(y_aligned.sel(time=slice('1993','2022')), \n",
    "                        y_gsi_aligned.sel(time=slice('1993','2022')), dim='time')\n",
    "\n",
    "    # Calculate p-value using adjusted degrees of freedom\n",
    "    p_val_corr = xs.pearson_r_eff_p_value(y_aligned.sel(time=slice('1993','2022')), \n",
    "                                          y_gsi_aligned.sel(time=slice('1993','2022')), dim='time')\n",
    "\n",
    "    ax.plot(x,y, c=color, alpha=0.5, label=label)\n",
    "    ax.plot(x_gsi,y_gsi, c=color, linestyle='--', alpha=0.5, label=gsi_label)\n",
    "    \n",
    "    ax.text(0.1, 0.9, f'r (SST vs GSI) : {corr:.2f}', transform=ax.transAxes, fontsize=6)\n",
    "    \n",
    "    if p_val_corr < 0.05:\n",
    "        ax.text(0.1, 0.8, f'p<0.05', transform=ax.transAxes, fontsize=6)\n",
    "    else:\n",
    "        ax.text(0.1, 0.8, f'p: {p_val_corr:.2f}', transform=ax.transAxes, fontsize=6)\n",
    "        \n",
    "    #ax.text(0.22, 0.85, f'Trend: {slope:.2f} °C/year', transform=ax.transAxes, fontsize=6)\n",
    "    ax.legend(loc='lower left', fontsize='xx-small', frameon= False)\n",
    "    ax.set_ylim(-3, 3)\n",
    "\n",
    "ax9 = fig.add_subplot(4, 3, 3)\n",
    "plot_timeseries(ax9, oisst_epu, satellite_gsi_norm, 'black', 'OISST', 'Altimeter_GSI')\n",
    "ax10 = fig.add_subplot(4, 3, 6)\n",
    "plot_timeseries(ax10, glorys_epu, glorys_gsi_norm, 'darkblue', 'GLORYS', 'GLORYS_GSI')\n",
    "ax11 = fig.add_subplot(4, 3, 9)\n",
    "plot_timeseries(ax11,spear_a1_epu, spear_a1_gsi_norm, '#648fff', 'SPEAR_LO','SPEAR_LO_GSI')\n",
    "ax12 = fig.add_subplot(4, 3, 12)\n",
    "plot_timeseries(ax12,nwa12_a1_epu, nwa12_a1_gsi_norm, '#fe6100', 'MOM6_NWA12','MOM6_NWA12_GSI')\n",
    "ax12.tick_params(axis='x', labelsize=8)\n",
    "ax12.set_xlabel('Year', fontsize=8)\n",
    "'''"
   ]
  },
  {
   "cell_type": "code",
   "execution_count": null,
   "id": "43b5dc55-0c6f-4896-b838-0dbc701a3bb5",
   "metadata": {},
   "outputs": [],
   "source": [
    "nwa12_a1_gsi = xarray.open_dataset('/work/vnk/outdata_for_analysis/nwa12_a1_gsi.nc').__xarray_dataarray_variable__"
   ]
  },
  {
   "cell_type": "code",
   "execution_count": null,
   "id": "391d0067-7b14-4d25-9c11-b0d1a239175e",
   "metadata": {},
   "outputs": [],
   "source": [
    "obsds = xarray.open_mfdataset('/work/vnk/obs_and_reanalyses/oisst_v2/sst.mon.mean.nc') "
   ]
  },
  {
   "cell_type": "code",
   "execution_count": null,
   "id": "c757e70d-d80b-45ed-89fb-daeda86482a9",
   "metadata": {},
   "outputs": [],
   "source": [
    "obsds['sst']"
   ]
  },
  {
   "cell_type": "code",
   "execution_count": null,
   "id": "7252873b-16b1-49a3-b2fb-e7d81839ace0",
   "metadata": {},
   "outputs": [],
   "source": [
    "nwa12_a1_gsi.mean(dim='member').sel(time=slice('1995','2007')).plot()\n",
    "pd.DataFrame.to_xarray(annual_gsi_index_med).sel(time=slice('1995','2007')).plot() \n",
    "pd.DataFrame.to_xarray(annual_gsi_index_low).sel(time=slice('1995','2007')).plot() "
   ]
  },
  {
   "cell_type": "code",
   "execution_count": 10,
   "id": "44edc663-7974-4d09-8112-9a4f88a8828b",
   "metadata": {},
   "outputs": [
    {
     "ename": "NameError",
     "evalue": "name 'annual_neus_obs' is not defined",
     "output_type": "error",
     "traceback": [
      "\u001b[0;31m---------------------------------------------------------------------------\u001b[0m",
      "\u001b[0;31mNameError\u001b[0m                                 Traceback (most recent call last)",
      "Cell \u001b[0;32mIn[10], line 1\u001b[0m\n\u001b[0;32m----> 1\u001b[0m \u001b[43mannual_neus_obs\u001b[49m\u001b[38;5;241m.\u001b[39mplot() \n",
      "\u001b[0;31mNameError\u001b[0m: name 'annual_neus_obs' is not defined"
     ]
    }
   ],
   "source": [
    "annual_neus_obs.plot() "
   ]
  },
  {
   "cell_type": "code",
   "execution_count": null,
   "id": "5fb1dca5-deef-47d8-b893-7dcbfd1bf569",
   "metadata": {},
   "outputs": [],
   "source": [
    "((annual_neus_med - annual_neus_med.mean('time'))/(annual_neus_med).std('time')).sel(time=slice('1995','2007')).plot() \n",
    "((pd.DataFrame.to_xarray(annual_gsi_index_med) - pd.DataFrame.to_xarray(annual_gsi_index_med).mean('time'))/(pd.DataFrame.to_xarray(annual_gsi_index_med)).std('time')).sel(time=slice('1995','2007')).plot()"
   ]
  },
  {
   "cell_type": "code",
   "execution_count": null,
   "id": "4a2d1e8f-438a-4833-96c3-cfa1ea46d78e",
   "metadata": {},
   "outputs": [],
   "source": [
    "((annual_neus_low - annual_neus_low.mean('time'))/(annual_neus_low).std('time')).sel(time=slice('1995','2007')).plot() \n",
    "((pd.DataFrame.to_xarray(annual_gsi_index_low) - pd.DataFrame.to_xarray(annual_gsi_index_low).mean('time'))/(pd.DataFrame.to_xarray(annual_gsi_index_low)).std('time')).sel(time=slice('1995','2007')).plot()"
   ]
  },
  {
   "cell_type": "code",
   "execution_count": null,
   "id": "ebbd7712-a990-4f47-a7b6-b3112dac566b",
   "metadata": {},
   "outputs": [],
   "source": [
    "((annual_neus_obs - annual_neus_obs.mean('time'))/(annual_neus_obs).std('time')).plot() \n",
    "((obsgsipts - obsgsipts.mean())/(obsgsipts.std())).plot() "
   ]
  },
  {
   "cell_type": "code",
   "execution_count": null,
   "id": "44c0fdab-fcb2-44a5-978e-e870264402b9",
   "metadata": {},
   "outputs": [],
   "source": []
  },
  {
   "cell_type": "code",
   "execution_count": 9,
   "id": "1cbc58f6-65ae-488d-b9da-37dd6cd513e1",
   "metadata": {},
   "outputs": [],
   "source": [
    "rootmed1 = Path('/archive/Harris.Longfield/fre/NWA/2024_06/NWA12_COBALT_2024_06_medatm_ens_1/gfdl.ncrc5-intel22-prod') \n",
    "rootlow1 = Path('/archive/Harris.Longfield/fre/NWA/2024_06/NWA12_COBALT_2024_06_lowatm_ens_1/gfdl.ncrc5-intel22-prod')\n",
    "rootmed2 = Path('/archive/Harris.Longfield/fre/NWA/2024_06/NWA12_COBALT_2024_06_medatm_ens_2/gfdl.ncrc5-intel22-prod') \n",
    "rootlow2 = Path('/archive/Harris.Longfield/fre/NWA/2024_06/NWA12_COBALT_2024_06_lowatm_ens_2/gfdl.ncrc5-intel22-prod')\n",
    "rootmed3 = Path('/archive/Harris.Longfield/fre/NWA/2024_06/NWA12_COBALT_2024_06_medatm_ens_3/gfdl.ncrc5-intel22-prod') \n",
    "rootlow3 = Path('/archive/Harris.Longfield/fre/NWA/2024_06/NWA12_COBALT_2024_06_lowatm_ens_3/gfdl.ncrc5-intel22-prod')\n",
    "rootmed4 = Path('/archive/Harris.Longfield/fre/NWA/2024_06/NWA12_COBALT_2024_06_medatm_ens_4/gfdl.ncrc5-intel22-prod') \n",
    "rootlow4 = Path('/archive/Harris.Longfield/fre/NWA/2024_06/NWA12_COBALT_2024_06_lowatm_ens_4/gfdl.ncrc5-intel22-prod')\n",
    "rootmed5 = Path('/archive/Harris.Longfield/fre/NWA/2024_06/NWA12_COBALT_2024_06_medatm_ens_5/gfdl.ncrc5-intel22-prod') \n",
    "rootlow5 = Path('/archive/Harris.Longfield/fre/NWA/2024_06/NWA12_COBALT_2024_06_lowatm_ens_5/gfdl.ncrc5-intel22-prod')"
   ]
  },
  {
   "cell_type": "code",
   "execution_count": 10,
   "id": "3f397c9e-db53-4370-958e-d48e6567fd88",
   "metadata": {},
   "outputs": [],
   "source": [
    "rootobs = Path('/work/vnk/obs_and_reanalyses/oisst_v2/sst.mon.mean.nc') "
   ]
  },
  {
   "cell_type": "code",
   "execution_count": 11,
   "id": "a4b78687-a4e1-437b-bc02-0ed9d9d6cae2",
   "metadata": {},
   "outputs": [],
   "source": [
    "sstwholemed1 = open_var(rootmed1, 'ocean_monthly', 'tos').resample(time = \"1MS\").first() \n",
    "sstwholelow1 = open_var(rootlow1, 'ocean_monthly', 'tos').resample(time = \"1MS\").first() \n",
    "sstwholemed2 = open_var(rootmed2, 'ocean_monthly', 'tos').resample(time = \"1MS\").first() \n",
    "sstwholelow2 = open_var(rootlow2, 'ocean_monthly', 'tos').resample(time = \"1MS\").first()\n",
    "sstwholemed3 = open_var(rootmed3, 'ocean_monthly', 'tos').resample(time = \"1MS\").first() \n",
    "sstwholelow3 = open_var(rootlow3, 'ocean_monthly', 'tos').resample(time = \"1MS\").first()\n",
    "sstwholemed4 = open_var(rootmed4, 'ocean_monthly', 'tos').resample(time = \"1MS\").first() \n",
    "sstwholelow4 = open_var(rootlow4, 'ocean_monthly', 'tos').resample(time = \"1MS\").first()\n",
    "sstwholemed5 = open_var(rootmed5, 'ocean_monthly', 'tos').resample(time = \"1MS\").first() \n",
    "sstwholelow5 = open_var(rootlow5, 'ocean_monthly', 'tos').resample(time = \"1MS\").first()"
   ]
  },
  {
   "cell_type": "code",
   "execution_count": 12,
   "id": "5e5f440f-87a3-4172-84ed-d1ea83e78741",
   "metadata": {},
   "outputs": [],
   "source": [
    "sshwholemed1 = open_var(rootmed1, 'ocean_monthly', 'ssh').resample(time = \"1MS\").first() \n",
    "sshwholelow1 = open_var(rootlow1, 'ocean_monthly', 'ssh').resample(time = \"1MS\").first() \n",
    "sshwholemed2 = open_var(rootmed2, 'ocean_monthly', 'ssh').resample(time = \"1MS\").first() \n",
    "sshwholelow2 = open_var(rootlow2, 'ocean_monthly', 'ssh').resample(time = \"1MS\").first()\n",
    "sshwholemed3 = open_var(rootmed3, 'ocean_monthly', 'ssh').resample(time = \"1MS\").first() \n",
    "sshwholelow3 = open_var(rootlow3, 'ocean_monthly', 'ssh').resample(time = \"1MS\").first()\n",
    "sshwholemed4 = open_var(rootmed4, 'ocean_monthly', 'ssh').resample(time = \"1MS\").first() \n",
    "sshwholelow4 = open_var(rootlow4, 'ocean_monthly', 'ssh').resample(time = \"1MS\").first()\n",
    "sshwholemed5 = open_var(rootmed5, 'ocean_monthly', 'ssh').resample(time = \"1MS\").first() \n",
    "sshwholelow5 = open_var(rootlow5, 'ocean_monthly', 'ssh').resample(time = \"1MS\").first()"
   ]
  },
  {
   "cell_type": "code",
   "execution_count": 13,
   "id": "17abfdd9-5f10-4f75-bdec-75ccad367a78",
   "metadata": {},
   "outputs": [],
   "source": [
    "sstwholemed_avg = (sstwholemed1 + sstwholemed2 + sstwholemed3 + sstwholemed4 + sstwholemed5)/5"
   ]
  },
  {
   "cell_type": "code",
   "execution_count": 14,
   "id": "d6695058-c417-468d-98cb-f0af693de431",
   "metadata": {},
   "outputs": [],
   "source": [
    "sstwholelow_avg = (sstwholelow1 + sstwholelow2 + sstwholelow3 + sstwholelow4 + sstwholelow5)/5"
   ]
  },
  {
   "cell_type": "code",
   "execution_count": 15,
   "id": "d0219918-9638-4078-92fe-a0090efffab8",
   "metadata": {},
   "outputs": [],
   "source": [
    "sshwholemed_avg = (sshwholemed1 + sshwholemed2 + sshwholemed3 + sshwholemed4 + sshwholemed5)/5"
   ]
  },
  {
   "cell_type": "code",
   "execution_count": 16,
   "id": "f6f7adca-48e5-4ca6-b929-5768d14bec32",
   "metadata": {},
   "outputs": [],
   "source": [
    "sshwholelow_avg = (sshwholelow1 + sshwholelow2 + sshwholelow3 + sshwholelow4 + sshwholelow5)/5"
   ]
  },
  {
   "cell_type": "code",
   "execution_count": 17,
   "id": "44542c35-11dc-4d68-a249-65e09f3c47c7",
   "metadata": {},
   "outputs": [],
   "source": [
    "obs = xarray.open_mfdataset('/work/vnk/obs_and_reanalyses/oisst_v2/sst.mon.mean.nc')['sst']\n",
    "\n",
    "obsgsipts = pd.read_pickle('/home/Andrew.C.Ross/git/nwa12/experiments/COBALT_2023_04/data/satellite_ssh_index.pkl').resample('1YS').mean() \n",
    "\n",
    "model_grid = xarray.open_dataset('../data/geography/ocean_static.nc')\n",
    "obs_grid = xarray.open_mfdataset('/work/vnk/obs_and_reanalyses/oisst_v2/sst.mon.mean.grid.nc') "
   ]
  },
  {
   "cell_type": "code",
   "execution_count": 18,
   "id": "cdfe6296-4e02-4672-a805-47ec45131c15",
   "metadata": {},
   "outputs": [
    {
     "name": "stderr",
     "output_type": "stream",
     "text": [
      "/nbhome/Harris.Longfield/python/envs/py311_20240611/lib/python3.11/site-packages/xarray/core/indexing.py:1617: PerformanceWarning: Slicing with an out-of-order index is generating 15 times more chunks\n",
      "  return self.array[key]\n",
      "/nbhome/Harris.Longfield/python/envs/py311_20240611/lib/python3.11/site-packages/dask/array/numpy_compat.py:53: RuntimeWarning: invalid value encountered in divide\n",
      "  x = np.divide(x1, x2, out)\n",
      "/nbhome/Harris.Longfield/python/envs/py311_20240611/lib/python3.11/site-packages/xarray/core/indexing.py:1617: PerformanceWarning: Slicing with an out-of-order index is generating 15 times more chunks\n",
      "  return self.array[key]\n",
      "/nbhome/Harris.Longfield/python/envs/py311_20240611/lib/python3.11/site-packages/dask/array/numpy_compat.py:53: RuntimeWarning: invalid value encountered in divide\n",
      "  x = np.divide(x1, x2, out)\n",
      "/nbhome/Harris.Longfield/python/envs/py311_20240611/lib/python3.11/site-packages/dask/array/numpy_compat.py:53: RuntimeWarning: invalid value encountered in divide\n",
      "  x = np.divide(x1, x2, out)\n",
      "/nbhome/Harris.Longfield/python/envs/py311_20240611/lib/python3.11/site-packages/dask/array/numpy_compat.py:53: RuntimeWarning: invalid value encountered in divide\n",
      "  x = np.divide(x1, x2, out)\n",
      "/nbhome/Harris.Longfield/python/envs/py311_20240611/lib/python3.11/site-packages/dask/array/numpy_compat.py:53: RuntimeWarning: invalid value encountered in divide\n",
      "  x = np.divide(x1, x2, out)\n",
      "/nbhome/Harris.Longfield/python/envs/py311_20240611/lib/python3.11/site-packages/dask/array/numpy_compat.py:53: RuntimeWarning: invalid value encountered in divide\n",
      "  x = np.divide(x1, x2, out)\n",
      "/nbhome/Harris.Longfield/python/envs/py311_20240611/lib/python3.11/site-packages/dask/array/numpy_compat.py:53: RuntimeWarning: invalid value encountered in divide\n",
      "  x = np.divide(x1, x2, out)\n",
      "/nbhome/Harris.Longfield/python/envs/py311_20240611/lib/python3.11/site-packages/dask/array/numpy_compat.py:53: RuntimeWarning: invalid value encountered in divide\n",
      "  x = np.divide(x1, x2, out)\n",
      "/nbhome/Harris.Longfield/python/envs/py311_20240611/lib/python3.11/site-packages/dask/array/numpy_compat.py:53: RuntimeWarning: invalid value encountered in divide\n",
      "  x = np.divide(x1, x2, out)\n",
      "/nbhome/Harris.Longfield/python/envs/py311_20240611/lib/python3.11/site-packages/dask/array/numpy_compat.py:53: RuntimeWarning: invalid value encountered in divide\n",
      "  x = np.divide(x1, x2, out)\n",
      "/nbhome/Harris.Longfield/python/envs/py311_20240611/lib/python3.11/site-packages/dask/array/numpy_compat.py:53: RuntimeWarning: invalid value encountered in divide\n",
      "  x = np.divide(x1, x2, out)\n",
      "/nbhome/Harris.Longfield/python/envs/py311_20240611/lib/python3.11/site-packages/dask/array/numpy_compat.py:53: RuntimeWarning: invalid value encountered in divide\n",
      "  x = np.divide(x1, x2, out)\n",
      "/nbhome/Harris.Longfield/python/envs/py311_20240611/lib/python3.11/site-packages/dask/array/numpy_compat.py:53: RuntimeWarning: invalid value encountered in divide\n",
      "  x = np.divide(x1, x2, out)\n",
      "/nbhome/Harris.Longfield/python/envs/py311_20240611/lib/python3.11/site-packages/dask/array/numpy_compat.py:53: RuntimeWarning: invalid value encountered in divide\n",
      "  x = np.divide(x1, x2, out)\n",
      "/nbhome/Harris.Longfield/python/envs/py311_20240611/lib/python3.11/site-packages/dask/array/numpy_compat.py:53: RuntimeWarning: invalid value encountered in divide\n",
      "  x = np.divide(x1, x2, out)\n",
      "/nbhome/Harris.Longfield/python/envs/py311_20240611/lib/python3.11/site-packages/dask/array/numpy_compat.py:53: RuntimeWarning: invalid value encountered in divide\n",
      "  x = np.divide(x1, x2, out)\n",
      "/nbhome/Harris.Longfield/python/envs/py311_20240611/lib/python3.11/site-packages/dask/array/numpy_compat.py:53: RuntimeWarning: invalid value encountered in divide\n",
      "  x = np.divide(x1, x2, out)\n"
     ]
    }
   ],
   "source": [
    "modelgsiindexmed_avg, modelgsipointsmed_avg = compute_gs(sshwholemed_avg, data_grid=model_grid[['geolon', 'geolat']].rename({'geolon': 'lon', 'geolat': 'lat'}))\n",
    "modelgsiindexlow_avg, modelgsipointslow_avg = compute_gs(sshwholelow_avg, data_grid=model_grid[['geolon', 'geolat']].rename({'geolon': 'lon', 'geolat': 'lat'}))"
   ]
  },
  {
   "cell_type": "code",
   "execution_count": 19,
   "id": "f51b319a-08e8-410a-916f-cd0aa19cddec",
   "metadata": {},
   "outputs": [
    {
     "name": "stderr",
     "output_type": "stream",
     "text": [
      "/nbhome/Harris.Longfield/python/envs/py311_20240611/lib/python3.11/site-packages/xarray/core/indexing.py:1617: PerformanceWarning: Slicing with an out-of-order index is generating 15 times more chunks\n",
      "  return self.array[key]\n",
      "/nbhome/Harris.Longfield/python/envs/py311_20240611/lib/python3.11/site-packages/xarray/core/indexing.py:1617: PerformanceWarning: Slicing with an out-of-order index is generating 15 times more chunks\n",
      "  return self.array[key]\n",
      "/nbhome/Harris.Longfield/python/envs/py311_20240611/lib/python3.11/site-packages/xarray/core/indexing.py:1617: PerformanceWarning: Slicing with an out-of-order index is generating 20 times more chunks\n",
      "  return self.array[key]\n",
      "/nbhome/Harris.Longfield/python/envs/py311_20240611/lib/python3.11/site-packages/xarray/core/indexing.py:1617: PerformanceWarning: Slicing with an out-of-order index is generating 20 times more chunks\n",
      "  return self.array[key]\n",
      "/nbhome/Harris.Longfield/python/envs/py311_20240611/lib/python3.11/site-packages/xarray/core/indexing.py:1617: PerformanceWarning: Slicing with an out-of-order index is generating 15 times more chunks\n",
      "  return self.array[key]\n",
      "/nbhome/Harris.Longfield/python/envs/py311_20240611/lib/python3.11/site-packages/xarray/core/indexing.py:1617: PerformanceWarning: Slicing with an out-of-order index is generating 20 times more chunks\n",
      "  return self.array[key]\n",
      "/nbhome/Harris.Longfield/python/envs/py311_20240611/lib/python3.11/site-packages/xarray/core/indexing.py:1617: PerformanceWarning: Slicing with an out-of-order index is generating 15 times more chunks\n",
      "  return self.array[key]\n",
      "/nbhome/Harris.Longfield/python/envs/py311_20240611/lib/python3.11/site-packages/xarray/core/indexing.py:1617: PerformanceWarning: Slicing with an out-of-order index is generating 15 times more chunks\n",
      "  return self.array[key]\n",
      "/nbhome/Harris.Longfield/python/envs/py311_20240611/lib/python3.11/site-packages/xarray/core/indexing.py:1617: PerformanceWarning: Slicing with an out-of-order index is generating 15 times more chunks\n",
      "  return self.array[key]\n",
      "/nbhome/Harris.Longfield/python/envs/py311_20240611/lib/python3.11/site-packages/xarray/core/indexing.py:1617: PerformanceWarning: Slicing with an out-of-order index is generating 20 times more chunks\n",
      "  return self.array[key]\n"
     ]
    }
   ],
   "source": [
    "modelgsiindexmed1, modelgsipointsmed1 = compute_gs(sshwholemed1, data_grid=model_grid[['geolon', 'geolat']].rename({'geolon': 'lon', 'geolat': 'lat'}))\n",
    "modelgsiindexlow1, modelgsipointslow1 = compute_gs(sshwholelow1, data_grid=model_grid[['geolon', 'geolat']].rename({'geolon': 'lon', 'geolat': 'lat'}))\n",
    "modelgsiindexmed2, modelgsipointsmed2 = compute_gs(sshwholemed2, data_grid=model_grid[['geolon', 'geolat']].rename({'geolon': 'lon', 'geolat': 'lat'}))\n",
    "modelgsiindexlow2, modelgsipointslow2 = compute_gs(sshwholelow2, data_grid=model_grid[['geolon', 'geolat']].rename({'geolon': 'lon', 'geolat': 'lat'}))\n",
    "modelgsiindexmed3, modelgsipointsmed3 = compute_gs(sshwholemed3, data_grid=model_grid[['geolon', 'geolat']].rename({'geolon': 'lon', 'geolat': 'lat'}))\n",
    "modelgsiindexlow3, modelgsipointslow3 = compute_gs(sshwholelow3, data_grid=model_grid[['geolon', 'geolat']].rename({'geolon': 'lon', 'geolat': 'lat'}))\n",
    "modelgsiindexmed4, modelgsipointsmed4 = compute_gs(sshwholemed4, data_grid=model_grid[['geolon', 'geolat']].rename({'geolon': 'lon', 'geolat': 'lat'}))\n",
    "modelgsiindexlow4, modelgsipointslow4 = compute_gs(sshwholelow4, data_grid=model_grid[['geolon', 'geolat']].rename({'geolon': 'lon', 'geolat': 'lat'}))\n",
    "modelgsiindexmed5, modelgsipointsmed5 = compute_gs(sshwholemed5, data_grid=model_grid[['geolon', 'geolat']].rename({'geolon': 'lon', 'geolat': 'lat'}))\n",
    "modelgsiindexlow5, modelgsipointslow5 = compute_gs(sshwholelow5, data_grid=model_grid[['geolon', 'geolat']].rename({'geolon': 'lon', 'geolat': 'lat'}))"
   ]
  },
  {
   "cell_type": "code",
   "execution_count": 20,
   "id": "aea87e09-d618-4808-a141-51a881d36ec8",
   "metadata": {},
   "outputs": [],
   "source": [
    "mean_sst_neus_med_avg = sstwholemed_avg.weighted(weights_neus).mean(['yh', 'xh']).compute() \n",
    "mean_sst_neus_low_avg = sstwholelow_avg.weighted(weights_neus).mean(['yh', 'xh']).compute() "
   ]
  },
  {
   "cell_type": "code",
   "execution_count": 21,
   "id": "70f6f02e-1453-411d-8c65-208803faa8ec",
   "metadata": {},
   "outputs": [],
   "source": [
    "mean_sst_neus_med1 = sstwholemed1.weighted(weights_neus).mean(['yh', 'xh']).compute() \n",
    "mean_sst_neus_low1 = sstwholelow1.weighted(weights_neus).mean(['yh', 'xh']).compute() \n",
    "mean_sst_neus_med2 = sstwholemed2.weighted(weights_neus).mean(['yh', 'xh']).compute() \n",
    "mean_sst_neus_low2 = sstwholelow2.weighted(weights_neus).mean(['yh', 'xh']).compute() \n",
    "mean_sst_neus_med3 = sstwholemed3.weighted(weights_neus).mean(['yh', 'xh']).compute() \n",
    "mean_sst_neus_low3 = sstwholelow3.weighted(weights_neus).mean(['yh', 'xh']).compute() \n",
    "mean_sst_neus_med4 = sstwholemed4.weighted(weights_neus).mean(['yh', 'xh']).compute() \n",
    "mean_sst_neus_low4 = sstwholelow4.weighted(weights_neus).mean(['yh', 'xh']).compute() \n",
    "mean_sst_neus_med5 = sstwholemed5.weighted(weights_neus).mean(['yh', 'xh']).compute() \n",
    "mean_sst_neus_low5 = sstwholelow5.weighted(weights_neus).mean(['yh', 'xh']).compute() "
   ]
  },
  {
   "cell_type": "code",
   "execution_count": 22,
   "id": "75e74c1e-75de-41f3-8cb1-36994cf26aff",
   "metadata": {},
   "outputs": [],
   "source": [
    "annual_gsi_index_med_avg = modelgsiindexmed_avg.resample('1YS').mean()\n",
    "annual_gsi_index_low_avg = modelgsiindexlow_avg.resample('1YS').mean()"
   ]
  },
  {
   "cell_type": "code",
   "execution_count": 23,
   "id": "edb5473b-7bec-4037-a827-4b8c760d543a",
   "metadata": {},
   "outputs": [],
   "source": [
    "annual_gsi_index_med1 = modelgsiindexmed1.resample('1YS').mean()\n",
    "annual_gsi_index_low1 = modelgsiindexlow1.resample('1YS').mean()\n",
    "annual_gsi_index_med2 = modelgsiindexmed2.resample('1YS').mean()\n",
    "annual_gsi_index_low2 = modelgsiindexlow2.resample('1YS').mean()\n",
    "annual_gsi_index_med3 = modelgsiindexmed3.resample('1YS').mean()\n",
    "annual_gsi_index_low3 = modelgsiindexlow3.resample('1YS').mean()\n",
    "annual_gsi_index_med4 = modelgsiindexmed4.resample('1YS').mean()\n",
    "annual_gsi_index_low4 = modelgsiindexlow4.resample('1YS').mean()\n",
    "annual_gsi_index_med5 = modelgsiindexmed5.resample('1YS').mean()\n",
    "annual_gsi_index_low5 = modelgsiindexlow5.resample('1YS').mean()"
   ]
  },
  {
   "cell_type": "code",
   "execution_count": 24,
   "id": "9eb80a63-8b59-4577-8174-2b6d0e18856e",
   "metadata": {},
   "outputs": [],
   "source": [
    "annual_neus_med_avg = mean_sst_neus_med_avg.resample(time='1YS').mean()\n",
    "annual_neus_low_avg = mean_sst_neus_low_avg.resample(time='1YS').mean()"
   ]
  },
  {
   "cell_type": "code",
   "execution_count": 51,
   "id": "6e64aa5d-caf3-4af5-9b8f-3bcfa3354e44",
   "metadata": {},
   "outputs": [
    {
     "name": "stdout",
     "output_type": "stream",
     "text": [
      "/archive/Harris.Longfield/fre/NWA/2024_06/NWA12_COBALT_2024_06_medatm_ens_1/gfdl.ncrc5-intel22-prod\n",
      "/archive/Harris.Longfield/fre/NWA/2024_06/NWA12_COBALT_2024_06_medatm_ens_2/gfdl.ncrc5-intel22-prod\n",
      "/archive/Harris.Longfield/fre/NWA/2024_06/NWA12_COBALT_2024_06_medatm_ens_3/gfdl.ncrc5-intel22-prod\n",
      "/archive/Harris.Longfield/fre/NWA/2024_06/NWA12_COBALT_2024_06_medatm_ens_4/gfdl.ncrc5-intel22-prod\n",
      "/archive/Harris.Longfield/fre/NWA/2024_06/NWA12_COBALT_2024_06_medatm_ens_5/gfdl.ncrc5-intel22-prod\n"
     ]
    }
   ],
   "source": [
    "members_med_sst = []\n",
    "nens = 5\n",
    "for ens in range(1, nens+1):\n",
    "    root = Path(f'/archive/Harris.Longfield/fre/NWA/2024_06/NWA12_COBALT_2024_06_medatm_ens_{ens}/gfdl.ncrc5-intel22-prod')\n",
    "    print(str(root)) \n",
    "    mld = open_var(root, 'ocean_monthly', 'tos')\n",
    "    members_med_sst.append(mld)\n",
    "\n",
    "all_members_med_sst = xarray.concat(members_med_sst, dim='member')"
   ]
  },
  {
   "cell_type": "code",
   "execution_count": 52,
   "id": "f5f8a925-06b7-47de-9cd8-80767d99720d",
   "metadata": {},
   "outputs": [
    {
     "name": "stdout",
     "output_type": "stream",
     "text": [
      "/archive/Harris.Longfield/fre/NWA/2024_06/NWA12_COBALT_2024_06_medatm_ens_1/gfdl.ncrc5-intel22-prod\n",
      "/archive/Harris.Longfield/fre/NWA/2024_06/NWA12_COBALT_2024_06_medatm_ens_2/gfdl.ncrc5-intel22-prod\n",
      "/archive/Harris.Longfield/fre/NWA/2024_06/NWA12_COBALT_2024_06_medatm_ens_3/gfdl.ncrc5-intel22-prod\n",
      "/archive/Harris.Longfield/fre/NWA/2024_06/NWA12_COBALT_2024_06_medatm_ens_4/gfdl.ncrc5-intel22-prod\n",
      "/archive/Harris.Longfield/fre/NWA/2024_06/NWA12_COBALT_2024_06_medatm_ens_5/gfdl.ncrc5-intel22-prod\n"
     ]
    }
   ],
   "source": [
    "members_low_sst = []\n",
    "nens = 5\n",
    "for ens in range(1, nens+1):\n",
    "    root = Path(f'/archive/Harris.Longfield/fre/NWA/2024_06/NWA12_COBALT_2024_06_medatm_ens_{ens}/gfdl.ncrc5-intel22-prod')\n",
    "    print(str(root)) \n",
    "    mld = open_var(root, 'ocean_monthly', 'tos')\n",
    "    members_low_sst.append(mld)\n",
    "\n",
    "all_members_low_sst = xarray.concat(members_low_sst, dim='member')"
   ]
  },
  {
   "cell_type": "code",
   "execution_count": 53,
   "id": "4cfe6390-e330-41be-8d95-6206775d2eb4",
   "metadata": {},
   "outputs": [
    {
     "name": "stdout",
     "output_type": "stream",
     "text": [
      "/archive/Harris.Longfield/fre/NWA/2024_06/NWA12_COBALT_2024_06_medatm_ens_1/gfdl.ncrc5-intel22-prod\n",
      "/archive/Harris.Longfield/fre/NWA/2024_06/NWA12_COBALT_2024_06_medatm_ens_2/gfdl.ncrc5-intel22-prod\n",
      "/archive/Harris.Longfield/fre/NWA/2024_06/NWA12_COBALT_2024_06_medatm_ens_3/gfdl.ncrc5-intel22-prod\n",
      "/archive/Harris.Longfield/fre/NWA/2024_06/NWA12_COBALT_2024_06_medatm_ens_4/gfdl.ncrc5-intel22-prod\n",
      "/archive/Harris.Longfield/fre/NWA/2024_06/NWA12_COBALT_2024_06_medatm_ens_5/gfdl.ncrc5-intel22-prod\n"
     ]
    }
   ],
   "source": [
    "members_med_ssh = []\n",
    "nens = 5\n",
    "for ens in range(1, nens+1):\n",
    "    root = Path(f'/archive/Harris.Longfield/fre/NWA/2024_06/NWA12_COBALT_2024_06_medatm_ens_{ens}/gfdl.ncrc5-intel22-prod')\n",
    "    print(str(root)) \n",
    "    mld = open_var(root, 'ocean_monthly', 'ssh')\n",
    "    members_med_ssh.append(mld)\n",
    "\n",
    "all_members_med_ssh = xarray.concat(members_med_ssh, dim='member')"
   ]
  },
  {
   "cell_type": "code",
   "execution_count": 50,
   "id": "af3e4d24-56ef-444c-927f-fc26de1c8cf5",
   "metadata": {},
   "outputs": [
    {
     "name": "stdout",
     "output_type": "stream",
     "text": [
      "/archive/Harris.Longfield/fre/NWA/2024_06/NWA12_COBALT_2024_06_medatm_ens_1/gfdl.ncrc5-intel22-prod\n",
      "/archive/Harris.Longfield/fre/NWA/2024_06/NWA12_COBALT_2024_06_medatm_ens_2/gfdl.ncrc5-intel22-prod\n",
      "/archive/Harris.Longfield/fre/NWA/2024_06/NWA12_COBALT_2024_06_medatm_ens_3/gfdl.ncrc5-intel22-prod\n",
      "/archive/Harris.Longfield/fre/NWA/2024_06/NWA12_COBALT_2024_06_medatm_ens_4/gfdl.ncrc5-intel22-prod\n",
      "/archive/Harris.Longfield/fre/NWA/2024_06/NWA12_COBALT_2024_06_medatm_ens_5/gfdl.ncrc5-intel22-prod\n"
     ]
    }
   ],
   "source": [
    "members_low_ssh = []\n",
    "nens = 5\n",
    "for ens in range(1, nens+1):\n",
    "    root = Path(f'/archive/Harris.Longfield/fre/NWA/2024_06/NWA12_COBALT_2024_06_medatm_ens_{ens}/gfdl.ncrc5-intel22-prod')\n",
    "    print(str(root)) \n",
    "    mld = open_var(root, 'ocean_monthly', 'ssh')\n",
    "    members_low_ssh.append(mld)\n",
    "\n",
    "all_members_low_ssh = xarray.concat(members_low_ssh, dim='member')"
   ]
  },
  {
   "cell_type": "code",
   "execution_count": 54,
   "id": "b77a59bf-0ad3-4c0f-b1d8-84092a4a721d",
   "metadata": {},
   "outputs": [
    {
     "name": "stderr",
     "output_type": "stream",
     "text": [
      "/nbhome/Harris.Longfield/python/envs/py311_20240611/lib/python3.11/site-packages/xarray/core/indexing.py:1617: PerformanceWarning: Slicing with an out-of-order index is generating 20 times more chunks\n",
      "  return self.array[key]\n"
     ]
    },
    {
     "ename": "TypeError",
     "evalue": "Only valid with DatetimeIndex, TimedeltaIndex or PeriodIndex, but got an instance of 'RangeIndex'",
     "output_type": "error",
     "traceback": [
      "\u001b[0;31m---------------------------------------------------------------------------\u001b[0m",
      "\u001b[0;31mTypeError\u001b[0m                                 Traceback (most recent call last)",
      "Cell \u001b[0;32mIn[54], line 1\u001b[0m\n\u001b[0;32m----> 1\u001b[0m all_members_gsi_index_med, all_members_gsi_points_med \u001b[38;5;241m=\u001b[39m \u001b[43mcompute_gs\u001b[49m\u001b[43m(\u001b[49m\u001b[43mall_members_med_ssh\u001b[49m\u001b[43m,\u001b[49m\u001b[43m \u001b[49m\u001b[43mdata_grid\u001b[49m\u001b[38;5;241;43m=\u001b[39;49m\u001b[43mmodel_grid\u001b[49m\u001b[43m[\u001b[49m\u001b[43m[\u001b[49m\u001b[38;5;124;43m'\u001b[39;49m\u001b[38;5;124;43mgeolon\u001b[39;49m\u001b[38;5;124;43m'\u001b[39;49m\u001b[43m,\u001b[49m\u001b[43m \u001b[49m\u001b[38;5;124;43m'\u001b[39;49m\u001b[38;5;124;43mgeolat\u001b[39;49m\u001b[38;5;124;43m'\u001b[39;49m\u001b[43m]\u001b[49m\u001b[43m]\u001b[49m\u001b[38;5;241;43m.\u001b[39;49m\u001b[43mrename\u001b[49m\u001b[43m(\u001b[49m\u001b[43m{\u001b[49m\u001b[38;5;124;43m'\u001b[39;49m\u001b[38;5;124;43mgeolon\u001b[39;49m\u001b[38;5;124;43m'\u001b[39;49m\u001b[43m:\u001b[49m\u001b[43m \u001b[49m\u001b[38;5;124;43m'\u001b[39;49m\u001b[38;5;124;43mlon\u001b[39;49m\u001b[38;5;124;43m'\u001b[39;49m\u001b[43m,\u001b[49m\u001b[43m \u001b[49m\u001b[38;5;124;43m'\u001b[39;49m\u001b[38;5;124;43mgeolat\u001b[39;49m\u001b[38;5;124;43m'\u001b[39;49m\u001b[43m:\u001b[49m\u001b[43m \u001b[49m\u001b[38;5;124;43m'\u001b[39;49m\u001b[38;5;124;43mlat\u001b[39;49m\u001b[38;5;124;43m'\u001b[39;49m\u001b[43m}\u001b[49m\u001b[43m)\u001b[49m\u001b[43m)\u001b[49m\n",
      "Cell \u001b[0;32mIn[2], line 30\u001b[0m, in \u001b[0;36mcompute_gs\u001b[0;34m(ssh, data_grid)\u001b[0m\n\u001b[1;32m     27\u001b[0m index \u001b[38;5;241m=\u001b[39m ((anom\u001b[38;5;241m.\u001b[39misel(lat\u001b[38;5;241m=\u001b[39mamax)\u001b[38;5;241m.\u001b[39mmean(\u001b[38;5;124m'\u001b[39m\u001b[38;5;124mlon\u001b[39m\u001b[38;5;124m'\u001b[39m)) \u001b[38;5;241m/\u001b[39m anom\u001b[38;5;241m.\u001b[39misel(lat\u001b[38;5;241m=\u001b[39mamax)\u001b[38;5;241m.\u001b[39mmean(\u001b[38;5;124m'\u001b[39m\u001b[38;5;124mlon\u001b[39m\u001b[38;5;124m'\u001b[39m)\u001b[38;5;241m.\u001b[39mstd(\u001b[38;5;124m'\u001b[39m\u001b[38;5;124mtime\u001b[39m\u001b[38;5;124m'\u001b[39m))\u001b[38;5;241m.\u001b[39mcompute()\n\u001b[1;32m     29\u001b[0m \u001b[38;5;66;03m# Move times to the beginning of the month to match observations.\u001b[39;00m\n\u001b[0;32m---> 30\u001b[0m monthly_index \u001b[38;5;241m=\u001b[39m \u001b[43mindex\u001b[49m\u001b[38;5;241;43m.\u001b[39;49m\u001b[43mto_pandas\u001b[49m\u001b[43m(\u001b[49m\u001b[43m)\u001b[49m\u001b[38;5;241;43m.\u001b[39;49m\u001b[43mresample\u001b[49m\u001b[43m(\u001b[49m\u001b[38;5;124;43m'\u001b[39;49m\u001b[38;5;124;43m1MS\u001b[39;49m\u001b[38;5;124;43m'\u001b[39;49m\u001b[43m)\u001b[49m\u001b[38;5;241m.\u001b[39mfirst()\n\u001b[1;32m     31\u001b[0m \u001b[38;5;28;01mreturn\u001b[39;00m monthly_index, gs_points\n",
      "File \u001b[0;32m/nbhome/Harris.Longfield/python/envs/py311_20240611/lib/python3.11/site-packages/pandas/core/generic.py:9771\u001b[0m, in \u001b[0;36mNDFrame.resample\u001b[0;34m(self, rule, axis, closed, label, convention, kind, on, level, origin, offset, group_keys)\u001b[0m\n\u001b[1;32m   9768\u001b[0m \u001b[38;5;28;01melse\u001b[39;00m:\n\u001b[1;32m   9769\u001b[0m     convention \u001b[38;5;241m=\u001b[39m \u001b[38;5;124m\"\u001b[39m\u001b[38;5;124mstart\u001b[39m\u001b[38;5;124m\"\u001b[39m\n\u001b[0;32m-> 9771\u001b[0m \u001b[38;5;28;01mreturn\u001b[39;00m \u001b[43mget_resampler\u001b[49m\u001b[43m(\u001b[49m\n\u001b[1;32m   9772\u001b[0m \u001b[43m    \u001b[49m\u001b[43mcast\u001b[49m\u001b[43m(\u001b[49m\u001b[38;5;124;43m\"\u001b[39;49m\u001b[38;5;124;43mSeries | DataFrame\u001b[39;49m\u001b[38;5;124;43m\"\u001b[39;49m\u001b[43m,\u001b[49m\u001b[43m \u001b[49m\u001b[38;5;28;43mself\u001b[39;49m\u001b[43m)\u001b[49m\u001b[43m,\u001b[49m\n\u001b[1;32m   9773\u001b[0m \u001b[43m    \u001b[49m\u001b[43mfreq\u001b[49m\u001b[38;5;241;43m=\u001b[39;49m\u001b[43mrule\u001b[49m\u001b[43m,\u001b[49m\n\u001b[1;32m   9774\u001b[0m \u001b[43m    \u001b[49m\u001b[43mlabel\u001b[49m\u001b[38;5;241;43m=\u001b[39;49m\u001b[43mlabel\u001b[49m\u001b[43m,\u001b[49m\n\u001b[1;32m   9775\u001b[0m \u001b[43m    \u001b[49m\u001b[43mclosed\u001b[49m\u001b[38;5;241;43m=\u001b[39;49m\u001b[43mclosed\u001b[49m\u001b[43m,\u001b[49m\n\u001b[1;32m   9776\u001b[0m \u001b[43m    \u001b[49m\u001b[43maxis\u001b[49m\u001b[38;5;241;43m=\u001b[39;49m\u001b[43maxis\u001b[49m\u001b[43m,\u001b[49m\n\u001b[1;32m   9777\u001b[0m \u001b[43m    \u001b[49m\u001b[43mkind\u001b[49m\u001b[38;5;241;43m=\u001b[39;49m\u001b[43mkind\u001b[49m\u001b[43m,\u001b[49m\n\u001b[1;32m   9778\u001b[0m \u001b[43m    \u001b[49m\u001b[43mconvention\u001b[49m\u001b[38;5;241;43m=\u001b[39;49m\u001b[43mconvention\u001b[49m\u001b[43m,\u001b[49m\n\u001b[1;32m   9779\u001b[0m \u001b[43m    \u001b[49m\u001b[43mkey\u001b[49m\u001b[38;5;241;43m=\u001b[39;49m\u001b[43mon\u001b[49m\u001b[43m,\u001b[49m\n\u001b[1;32m   9780\u001b[0m \u001b[43m    \u001b[49m\u001b[43mlevel\u001b[49m\u001b[38;5;241;43m=\u001b[39;49m\u001b[43mlevel\u001b[49m\u001b[43m,\u001b[49m\n\u001b[1;32m   9781\u001b[0m \u001b[43m    \u001b[49m\u001b[43morigin\u001b[49m\u001b[38;5;241;43m=\u001b[39;49m\u001b[43morigin\u001b[49m\u001b[43m,\u001b[49m\n\u001b[1;32m   9782\u001b[0m \u001b[43m    \u001b[49m\u001b[43moffset\u001b[49m\u001b[38;5;241;43m=\u001b[39;49m\u001b[43moffset\u001b[49m\u001b[43m,\u001b[49m\n\u001b[1;32m   9783\u001b[0m \u001b[43m    \u001b[49m\u001b[43mgroup_keys\u001b[49m\u001b[38;5;241;43m=\u001b[39;49m\u001b[43mgroup_keys\u001b[49m\u001b[43m,\u001b[49m\n\u001b[1;32m   9784\u001b[0m \u001b[43m\u001b[49m\u001b[43m)\u001b[49m\n",
      "File \u001b[0;32m/nbhome/Harris.Longfield/python/envs/py311_20240611/lib/python3.11/site-packages/pandas/core/resample.py:2050\u001b[0m, in \u001b[0;36mget_resampler\u001b[0;34m(obj, kind, **kwds)\u001b[0m\n\u001b[1;32m   2046\u001b[0m \u001b[38;5;250m\u001b[39m\u001b[38;5;124;03m\"\"\"\u001b[39;00m\n\u001b[1;32m   2047\u001b[0m \u001b[38;5;124;03mCreate a TimeGrouper and return our resampler.\u001b[39;00m\n\u001b[1;32m   2048\u001b[0m \u001b[38;5;124;03m\"\"\"\u001b[39;00m\n\u001b[1;32m   2049\u001b[0m tg \u001b[38;5;241m=\u001b[39m TimeGrouper(obj, \u001b[38;5;241m*\u001b[39m\u001b[38;5;241m*\u001b[39mkwds)  \u001b[38;5;66;03m# type: ignore[arg-type]\u001b[39;00m\n\u001b[0;32m-> 2050\u001b[0m \u001b[38;5;28;01mreturn\u001b[39;00m \u001b[43mtg\u001b[49m\u001b[38;5;241;43m.\u001b[39;49m\u001b[43m_get_resampler\u001b[49m\u001b[43m(\u001b[49m\u001b[43mobj\u001b[49m\u001b[43m,\u001b[49m\u001b[43m \u001b[49m\u001b[43mkind\u001b[49m\u001b[38;5;241;43m=\u001b[39;49m\u001b[43mkind\u001b[49m\u001b[43m)\u001b[49m\n",
      "File \u001b[0;32m/nbhome/Harris.Longfield/python/envs/py311_20240611/lib/python3.11/site-packages/pandas/core/resample.py:2272\u001b[0m, in \u001b[0;36mTimeGrouper._get_resampler\u001b[0;34m(self, obj, kind)\u001b[0m\n\u001b[1;32m   2263\u001b[0m \u001b[38;5;28;01melif\u001b[39;00m \u001b[38;5;28misinstance\u001b[39m(ax, TimedeltaIndex):\n\u001b[1;32m   2264\u001b[0m     \u001b[38;5;28;01mreturn\u001b[39;00m TimedeltaIndexResampler(\n\u001b[1;32m   2265\u001b[0m         obj,\n\u001b[1;32m   2266\u001b[0m         timegrouper\u001b[38;5;241m=\u001b[39m\u001b[38;5;28mself\u001b[39m,\n\u001b[0;32m   (...)\u001b[0m\n\u001b[1;32m   2269\u001b[0m         gpr_index\u001b[38;5;241m=\u001b[39max,\n\u001b[1;32m   2270\u001b[0m     )\n\u001b[0;32m-> 2272\u001b[0m \u001b[38;5;28;01mraise\u001b[39;00m \u001b[38;5;167;01mTypeError\u001b[39;00m(\n\u001b[1;32m   2273\u001b[0m     \u001b[38;5;124m\"\u001b[39m\u001b[38;5;124mOnly valid with DatetimeIndex, \u001b[39m\u001b[38;5;124m\"\u001b[39m\n\u001b[1;32m   2274\u001b[0m     \u001b[38;5;124m\"\u001b[39m\u001b[38;5;124mTimedeltaIndex or PeriodIndex, \u001b[39m\u001b[38;5;124m\"\u001b[39m\n\u001b[1;32m   2275\u001b[0m     \u001b[38;5;124mf\u001b[39m\u001b[38;5;124m\"\u001b[39m\u001b[38;5;124mbut got an instance of \u001b[39m\u001b[38;5;124m'\u001b[39m\u001b[38;5;132;01m{\u001b[39;00m\u001b[38;5;28mtype\u001b[39m(ax)\u001b[38;5;241m.\u001b[39m\u001b[38;5;18m__name__\u001b[39m\u001b[38;5;132;01m}\u001b[39;00m\u001b[38;5;124m'\u001b[39m\u001b[38;5;124m\"\u001b[39m\n\u001b[1;32m   2276\u001b[0m )\n",
      "\u001b[0;31mTypeError\u001b[0m: Only valid with DatetimeIndex, TimedeltaIndex or PeriodIndex, but got an instance of 'RangeIndex'"
     ]
    }
   ],
   "source": [
    "all_members_gsi_index_med, all_members_gsi_points_med = compute_gs(all_members_med_ssh, data_grid=model_grid[['geolon', 'geolat']].rename({'geolon': 'lon', 'geolat': 'lat'}))"
   ]
  },
  {
   "cell_type": "code",
   "execution_count": 56,
   "id": "0c51cad6-4f35-4ea1-8418-f0dff04e4c98",
   "metadata": {},
   "outputs": [
    {
     "name": "stderr",
     "output_type": "stream",
     "text": [
      "/nbhome/Harris.Longfield/python/envs/py311_20240611/lib/python3.11/site-packages/xarray/util/deprecation_helpers.py:140: PerformanceWarning: Reshaping is producing a large chunk. To accept the large\n",
      "chunk and silence this warning, set the option\n",
      "    >>> with dask.config.set(**{'array.slicing.split_large_chunks': False}):\n",
      "    ...     array.reshape(shape)\n",
      "\n",
      "To avoid creating the large chunks, set the option\n",
      "    >>> with dask.config.set(**{'array.slicing.split_large_chunks': True}):\n",
      "    ...     array.reshape(shape)Explicitly passing ``limit`` to ``reshape`` will also silence this warning\n",
      "    >>> array.reshape(shape, limit='128 MiB')\n",
      "  return func(*args, **kwargs)\n"
     ]
    },
    {
     "ename": "ValueError",
     "evalue": "cannot reduce over dimensions ['time']. expected either '...' to reduce over all dimensions or one or more of ('membertime', 'lat', 'lon'). Try passing .groupby(..., squeeze=False)",
     "output_type": "error",
     "traceback": [
      "\u001b[0;31m---------------------------------------------------------------------------\u001b[0m",
      "\u001b[0;31mValueError\u001b[0m                                Traceback (most recent call last)",
      "Cell \u001b[0;32mIn[56], line 1\u001b[0m\n\u001b[0;32m----> 1\u001b[0m all_members_gsi_index_med, all_members_gsi_points_med \u001b[38;5;241m=\u001b[39m \u001b[43mcompute_gs\u001b[49m\u001b[43m(\u001b[49m\u001b[43mall_members_med_ssh\u001b[49m\u001b[38;5;241;43m.\u001b[39;49m\u001b[43mstack\u001b[49m\u001b[43m(\u001b[49m\u001b[43mmembertime\u001b[49m\u001b[38;5;241;43m=\u001b[39;49m\u001b[43m(\u001b[49m\u001b[38;5;124;43m'\u001b[39;49m\u001b[38;5;124;43mmember\u001b[39;49m\u001b[38;5;124;43m'\u001b[39;49m\u001b[43m,\u001b[49m\u001b[43m \u001b[49m\u001b[38;5;124;43m'\u001b[39;49m\u001b[38;5;124;43mtime\u001b[39;49m\u001b[38;5;124;43m'\u001b[39;49m\u001b[43m)\u001b[49m\u001b[43m)\u001b[49m\u001b[43m,\u001b[49m\u001b[43m \u001b[49m\u001b[43mdata_grid\u001b[49m\u001b[38;5;241;43m=\u001b[39;49m\u001b[43mmodel_grid\u001b[49m\u001b[43m[\u001b[49m\u001b[43m[\u001b[49m\u001b[38;5;124;43m'\u001b[39;49m\u001b[38;5;124;43mgeolon\u001b[39;49m\u001b[38;5;124;43m'\u001b[39;49m\u001b[43m,\u001b[49m\u001b[43m \u001b[49m\u001b[38;5;124;43m'\u001b[39;49m\u001b[38;5;124;43mgeolat\u001b[39;49m\u001b[38;5;124;43m'\u001b[39;49m\u001b[43m]\u001b[49m\u001b[43m]\u001b[49m\u001b[38;5;241;43m.\u001b[39;49m\u001b[43mrename\u001b[49m\u001b[43m(\u001b[49m\u001b[43m{\u001b[49m\u001b[38;5;124;43m'\u001b[39;49m\u001b[38;5;124;43mgeolon\u001b[39;49m\u001b[38;5;124;43m'\u001b[39;49m\u001b[43m:\u001b[49m\u001b[43m \u001b[49m\u001b[38;5;124;43m'\u001b[39;49m\u001b[38;5;124;43mlon\u001b[39;49m\u001b[38;5;124;43m'\u001b[39;49m\u001b[43m,\u001b[49m\u001b[43m \u001b[49m\u001b[38;5;124;43m'\u001b[39;49m\u001b[38;5;124;43mgeolat\u001b[39;49m\u001b[38;5;124;43m'\u001b[39;49m\u001b[43m:\u001b[49m\u001b[43m \u001b[49m\u001b[38;5;124;43m'\u001b[39;49m\u001b[38;5;124;43mlat\u001b[39;49m\u001b[38;5;124;43m'\u001b[39;49m\u001b[43m}\u001b[49m\u001b[43m)\u001b[49m\u001b[43m)\u001b[49m\n",
      "Cell \u001b[0;32mIn[2], line 19\u001b[0m, in \u001b[0;36mcompute_gs\u001b[0;34m(ssh, data_grid)\u001b[0m\n\u001b[1;32m     16\u001b[0m regridded \u001b[38;5;241m=\u001b[39m ssh_to_grid(ssh)\n\u001b[1;32m     18\u001b[0m \u001b[38;5;66;03m# Find anomalies relative to the calendar month mean SSH over the full model run.\u001b[39;00m\n\u001b[0;32m---> 19\u001b[0m anom \u001b[38;5;241m=\u001b[39m regridded\u001b[38;5;241m.\u001b[39mgroupby(\u001b[38;5;124m'\u001b[39m\u001b[38;5;124mtime.month\u001b[39m\u001b[38;5;124m'\u001b[39m) \u001b[38;5;241m-\u001b[39m \u001b[43mregridded\u001b[49m\u001b[38;5;241;43m.\u001b[39;49m\u001b[43mgroupby\u001b[49m\u001b[43m(\u001b[49m\u001b[38;5;124;43m'\u001b[39;49m\u001b[38;5;124;43mtime.month\u001b[39;49m\u001b[38;5;124;43m'\u001b[39;49m\u001b[43m)\u001b[49m\u001b[38;5;241;43m.\u001b[39;49m\u001b[43mmean\u001b[49m\u001b[43m(\u001b[49m\u001b[38;5;124;43m'\u001b[39;49m\u001b[38;5;124;43mtime\u001b[39;49m\u001b[38;5;124;43m'\u001b[39;49m\u001b[43m)\u001b[49m\n\u001b[1;32m     21\u001b[0m \u001b[38;5;66;03m# For each longitude point, the Gulf Stream is located at the latitude with the maximum SSH anomaly variance.\u001b[39;00m\n\u001b[1;32m     22\u001b[0m stdev \u001b[38;5;241m=\u001b[39m anom\u001b[38;5;241m.\u001b[39mstd(\u001b[38;5;124m'\u001b[39m\u001b[38;5;124mtime\u001b[39m\u001b[38;5;124m'\u001b[39m)\n",
      "File \u001b[0;32m/nbhome/Harris.Longfield/python/envs/py311_20240611/lib/python3.11/site-packages/xarray/core/_aggregations.py:5929\u001b[0m, in \u001b[0;36mDataArrayGroupByAggregations.mean\u001b[0;34m(self, dim, skipna, keep_attrs, **kwargs)\u001b[0m\n\u001b[1;32m   5920\u001b[0m     \u001b[38;5;28;01mreturn\u001b[39;00m \u001b[38;5;28mself\u001b[39m\u001b[38;5;241m.\u001b[39m_flox_reduce(\n\u001b[1;32m   5921\u001b[0m         func\u001b[38;5;241m=\u001b[39m\u001b[38;5;124m\"\u001b[39m\u001b[38;5;124mmean\u001b[39m\u001b[38;5;124m\"\u001b[39m,\n\u001b[1;32m   5922\u001b[0m         dim\u001b[38;5;241m=\u001b[39mdim,\n\u001b[0;32m   (...)\u001b[0m\n\u001b[1;32m   5926\u001b[0m         \u001b[38;5;241m*\u001b[39m\u001b[38;5;241m*\u001b[39mkwargs,\n\u001b[1;32m   5927\u001b[0m     )\n\u001b[1;32m   5928\u001b[0m \u001b[38;5;28;01melse\u001b[39;00m:\n\u001b[0;32m-> 5929\u001b[0m     \u001b[38;5;28;01mreturn\u001b[39;00m \u001b[38;5;28;43mself\u001b[39;49m\u001b[38;5;241;43m.\u001b[39;49m\u001b[43m_reduce_without_squeeze_warn\u001b[49m\u001b[43m(\u001b[49m\n\u001b[1;32m   5930\u001b[0m \u001b[43m        \u001b[49m\u001b[43mduck_array_ops\u001b[49m\u001b[38;5;241;43m.\u001b[39;49m\u001b[43mmean\u001b[49m\u001b[43m,\u001b[49m\n\u001b[1;32m   5931\u001b[0m \u001b[43m        \u001b[49m\u001b[43mdim\u001b[49m\u001b[38;5;241;43m=\u001b[39;49m\u001b[43mdim\u001b[49m\u001b[43m,\u001b[49m\n\u001b[1;32m   5932\u001b[0m \u001b[43m        \u001b[49m\u001b[43mskipna\u001b[49m\u001b[38;5;241;43m=\u001b[39;49m\u001b[43mskipna\u001b[49m\u001b[43m,\u001b[49m\n\u001b[1;32m   5933\u001b[0m \u001b[43m        \u001b[49m\u001b[43mkeep_attrs\u001b[49m\u001b[38;5;241;43m=\u001b[39;49m\u001b[43mkeep_attrs\u001b[49m\u001b[43m,\u001b[49m\n\u001b[1;32m   5934\u001b[0m \u001b[43m        \u001b[49m\u001b[38;5;241;43m*\u001b[39;49m\u001b[38;5;241;43m*\u001b[39;49m\u001b[43mkwargs\u001b[49m\u001b[43m,\u001b[49m\n\u001b[1;32m   5935\u001b[0m \u001b[43m    \u001b[49m\u001b[43m)\u001b[49m\n",
      "File \u001b[0;32m/nbhome/Harris.Longfield/python/envs/py311_20240611/lib/python3.11/site-packages/xarray/core/groupby.py:1759\u001b[0m, in \u001b[0;36mDataArrayGroupByBase._reduce_without_squeeze_warn\u001b[0;34m(self, func, dim, axis, keep_attrs, keepdims, shortcut, **kwargs)\u001b[0m\n\u001b[1;32m   1757\u001b[0m \u001b[38;5;28;01mwith\u001b[39;00m warnings\u001b[38;5;241m.\u001b[39mcatch_warnings():\n\u001b[1;32m   1758\u001b[0m     warnings\u001b[38;5;241m.\u001b[39mfilterwarnings(\u001b[38;5;124m\"\u001b[39m\u001b[38;5;124mignore\u001b[39m\u001b[38;5;124m\"\u001b[39m, message\u001b[38;5;241m=\u001b[39m\u001b[38;5;124m\"\u001b[39m\u001b[38;5;124mThe `squeeze` kwarg\u001b[39m\u001b[38;5;124m\"\u001b[39m)\n\u001b[0;32m-> 1759\u001b[0m     \u001b[43mcheck_reduce_dims\u001b[49m\u001b[43m(\u001b[49m\u001b[43mdim\u001b[49m\u001b[43m,\u001b[49m\u001b[43m \u001b[49m\u001b[38;5;28;43mself\u001b[39;49m\u001b[38;5;241;43m.\u001b[39;49m\u001b[43mdims\u001b[49m\u001b[43m)\u001b[49m\n\u001b[1;32m   1761\u001b[0m \u001b[38;5;28;01mreturn\u001b[39;00m \u001b[38;5;28mself\u001b[39m\u001b[38;5;241m.\u001b[39m_map_maybe_warn(reduce_array, shortcut\u001b[38;5;241m=\u001b[39mshortcut, warn_squeeze\u001b[38;5;241m=\u001b[39m\u001b[38;5;28;01mFalse\u001b[39;00m)\n",
      "File \u001b[0;32m/nbhome/Harris.Longfield/python/envs/py311_20240611/lib/python3.11/site-packages/xarray/core/groupby.py:72\u001b[0m, in \u001b[0;36mcheck_reduce_dims\u001b[0;34m(reduce_dims, dimensions)\u001b[0m\n\u001b[1;32m     70\u001b[0m     reduce_dims \u001b[38;5;241m=\u001b[39m [reduce_dims]\n\u001b[1;32m     71\u001b[0m \u001b[38;5;28;01mif\u001b[39;00m \u001b[38;5;28many\u001b[39m(dim \u001b[38;5;129;01mnot\u001b[39;00m \u001b[38;5;129;01min\u001b[39;00m dimensions \u001b[38;5;28;01mfor\u001b[39;00m dim \u001b[38;5;129;01min\u001b[39;00m reduce_dims):\n\u001b[0;32m---> 72\u001b[0m     \u001b[38;5;28;01mraise\u001b[39;00m \u001b[38;5;167;01mValueError\u001b[39;00m(\n\u001b[1;32m     73\u001b[0m         \u001b[38;5;124mf\u001b[39m\u001b[38;5;124m\"\u001b[39m\u001b[38;5;124mcannot reduce over dimensions \u001b[39m\u001b[38;5;132;01m{\u001b[39;00mreduce_dims\u001b[38;5;132;01m!r}\u001b[39;00m\u001b[38;5;124m. expected either \u001b[39m\u001b[38;5;124m'\u001b[39m\u001b[38;5;124m...\u001b[39m\u001b[38;5;124m'\u001b[39m\u001b[38;5;124m \u001b[39m\u001b[38;5;124m\"\u001b[39m\n\u001b[1;32m     74\u001b[0m         \u001b[38;5;124mf\u001b[39m\u001b[38;5;124m\"\u001b[39m\u001b[38;5;124mto reduce over all dimensions or one or more of \u001b[39m\u001b[38;5;132;01m{\u001b[39;00mdimensions\u001b[38;5;132;01m!r}\u001b[39;00m\u001b[38;5;124m.\u001b[39m\u001b[38;5;124m\"\u001b[39m\n\u001b[1;32m     75\u001b[0m         \u001b[38;5;124mf\u001b[39m\u001b[38;5;124m\"\u001b[39m\u001b[38;5;124m Try passing .groupby(..., squeeze=False)\u001b[39m\u001b[38;5;124m\"\u001b[39m\n\u001b[1;32m     76\u001b[0m     )\n",
      "\u001b[0;31mValueError\u001b[0m: cannot reduce over dimensions ['time']. expected either '...' to reduce over all dimensions or one or more of ('membertime', 'lat', 'lon'). Try passing .groupby(..., squeeze=False)"
     ]
    }
   ],
   "source": [
    "all_members_gsi_index_med, all_members_gsi_points_med = compute_gs(all_members_med_ssh.stack(membertime=('member', 'time')), data_grid=model_grid[['geolon', 'geolat']].rename({'geolon': 'lon', 'geolat': 'lat'}))"
   ]
  },
  {
   "cell_type": "code",
   "execution_count": 25,
   "id": "32a0df49-1732-4e99-bb47-936dad69b87c",
   "metadata": {},
   "outputs": [],
   "source": [
    "annual_neus_med1 = mean_sst_neus_med1.resample(time='1YS').mean()\n",
    "annual_neus_low1 = mean_sst_neus_low1.resample(time='1YS').mean()\n",
    "annual_neus_med2 = mean_sst_neus_med2.resample(time='1YS').mean()\n",
    "annual_neus_low2 = mean_sst_neus_low2.resample(time='1YS').mean()\n",
    "annual_neus_med3 = mean_sst_neus_med3.resample(time='1YS').mean()\n",
    "annual_neus_low3 = mean_sst_neus_low3.resample(time='1YS').mean()\n",
    "annual_neus_med4 = mean_sst_neus_med4.resample(time='1YS').mean()\n",
    "annual_neus_low4 = mean_sst_neus_low4.resample(time='1YS').mean()\n",
    "annual_neus_med5 = mean_sst_neus_med5.resample(time='1YS').mean()\n",
    "annual_neus_low5 = mean_sst_neus_low5.resample(time='1YS').mean()"
   ]
  },
  {
   "cell_type": "code",
   "execution_count": null,
   "id": "b1cba13e-d508-4497-8a1e-f167dd18b218",
   "metadata": {},
   "outputs": [],
   "source": []
  },
  {
   "cell_type": "code",
   "execution_count": 26,
   "id": "c073a09b-d588-4b50-bee0-1f41b97d4f17",
   "metadata": {},
   "outputs": [],
   "source": [
    "annual_neus_low_avg_corr = xarray.corr(annual_neus_low_avg.sel(time=slice('1995','2007')), pd.DataFrame.to_xarray(annual_gsi_index_low_avg), dim='time').item() \n",
    "annual_neus_med_avg_corr = xarray.corr(annual_neus_med_avg.sel(time=slice('1995','2007')), pd.DataFrame.to_xarray(annual_gsi_index_med_avg), dim='time').item() "
   ]
  },
  {
   "cell_type": "code",
   "execution_count": 27,
   "id": "3307cab4-b02d-4f55-a74b-4cc00296ead3",
   "metadata": {},
   "outputs": [],
   "source": [
    "annual_neus_low1_corr = xarray.corr(annual_neus_low1.sel(time=slice('1995','2007')), pd.DataFrame.to_xarray(annual_gsi_index_low1), dim='time').item() \n",
    "annual_neus_med1_corr = xarray.corr(annual_neus_med1.sel(time=slice('1995','2007')), pd.DataFrame.to_xarray(annual_gsi_index_med1), dim='time').item() \n",
    "annual_neus_low2_corr = xarray.corr(annual_neus_low2.sel(time=slice('1995','2007')), pd.DataFrame.to_xarray(annual_gsi_index_low2), dim='time').item() \n",
    "annual_neus_med2_corr = xarray.corr(annual_neus_med2.sel(time=slice('1995','2007')), pd.DataFrame.to_xarray(annual_gsi_index_med2), dim='time').item() \n",
    "annual_neus_low3_corr = xarray.corr(annual_neus_low3.sel(time=slice('1995','2007')), pd.DataFrame.to_xarray(annual_gsi_index_low3), dim='time').item() \n",
    "annual_neus_med3_corr = xarray.corr(annual_neus_med3.sel(time=slice('1995','2007')), pd.DataFrame.to_xarray(annual_gsi_index_med3), dim='time').item() \n",
    "annual_neus_low4_corr = xarray.corr(annual_neus_low4.sel(time=slice('1995','2007')), pd.DataFrame.to_xarray(annual_gsi_index_low4), dim='time').item() \n",
    "annual_neus_med4_corr = xarray.corr(annual_neus_med4.sel(time=slice('1995','2007')), pd.DataFrame.to_xarray(annual_gsi_index_med4), dim='time').item() \n",
    "annual_neus_low5_corr = xarray.corr(annual_neus_low5.sel(time=slice('1995','2007')), pd.DataFrame.to_xarray(annual_gsi_index_low5), dim='time').item() \n",
    "annual_neus_med5_corr = xarray.corr(annual_neus_med5.sel(time=slice('1995','2007')), pd.DataFrame.to_xarray(annual_gsi_index_med5), dim='time').item() \n"
   ]
  },
  {
   "cell_type": "code",
   "execution_count": 28,
   "id": "32026a9d-446a-4f9e-982c-87b2a5da7f6a",
   "metadata": {},
   "outputs": [
    {
     "data": {
      "text/plain": [
       "0.5598314177270884"
      ]
     },
     "execution_count": 28,
     "metadata": {},
     "output_type": "execute_result"
    }
   ],
   "source": [
    "annual_neus_low_avg_corr"
   ]
  },
  {
   "cell_type": "code",
   "execution_count": 29,
   "id": "fae91a35-edf4-45dd-8118-44116a9f8e7c",
   "metadata": {},
   "outputs": [
    {
     "data": {
      "text/plain": [
       "0.5625901854557728"
      ]
     },
     "execution_count": 29,
     "metadata": {},
     "output_type": "execute_result"
    }
   ],
   "source": [
    "annual_neus_med_avg_corr"
   ]
  },
  {
   "cell_type": "code",
   "execution_count": 61,
   "id": "614a62b2-4fa9-4d9c-983d-df856184c625",
   "metadata": {},
   "outputs": [
    {
     "data": {
      "text/plain": [
       "Text(0.5, 1.0, 'LOW vs MED Atmospheric Forcing -- All ENS')"
      ]
     },
     "execution_count": 61,
     "metadata": {},
     "output_type": "execute_result"
    },
    {
     "name": "stderr",
     "output_type": "stream",
     "text": [
      "/nbhome/Harris.Longfield/python/envs/py311_20240611/lib/python3.11/site-packages/IPython/core/events.py:82: UserWarning: This figure includes Axes that are not compatible with tight_layout, so results might be incorrect.\n",
      "  func(*args, **kwargs)\n",
      "/nbhome/Harris.Longfield/python/envs/py311_20240611/lib/python3.11/site-packages/IPython/core/pylabtools.py:170: UserWarning: This figure includes Axes that are not compatible with tight_layout, so results might be incorrect.\n",
      "  fig.canvas.print_figure(bytes_io, **kw)\n"
     ]
    },
    {
     "data": {
      "image/png": "[encoded data removed]",
      "text/plain": [
       "<Figure size 1000x600 with 2 Axes>"
      ]
     },
     "metadata": {},
     "output_type": "display_data"
    }
   ],
   "source": [
    "    fig = plt.figure(figsize=(10, 6), tight_layout=True)\n",
    "    gs = gridspec.GridSpec(2, 2, hspace=.25)\n",
    "    PC = ccrs.PlateCarree()\n",
    "    _LAND_50M = feature.NaturalEarthFeature(\n",
    "    'physical', 'land', '50m',\n",
    "    edgecolor='face',\n",
    "    facecolor='#999999'\n",
    "    )\n",
    "\n",
    "    ax = fig.add_subplot(gs[0, 0], projection=PC)\n",
    "    ax.add_feature(_LAND_50M)\n",
    "    ax.plot(modelgsipointsmed_avg.lon-360, modelgsipointsmed_avg, c='r', label = 'Medium resolution')\n",
    "    ax.plot(modelgsipointslow_avg.lon-360, modelgsipointslow_avg, c='b', label = 'Low resolution') \n",
    "    ax.plot(obsgsipts, obsgsipts, c = 'black') \n",
    "    add_ticks(ax, xlabelinterval=5)\n",
    "    ax.set_extent([-82, -50, 25, 44])\n",
    "    ax.set_title('LOW vs. MED Atmospheric Forcing -- AVG')\n",
    "    ax.legend(ncol=4, loc='lower right', frameon=False, fontsize=8)\n",
    "\n",
    "    ax = fig.add_subplot(gs[0, 1], projection=PC)\n",
    "    ax.add_feature(_LAND_50M)\n",
    "    ax.plot(modelgsipointsmed1.lon-360, modelgsipointsmed1, c='r', linewidth='.5', label = 'Medium resolution')\n",
    "    ax.plot(modelgsipointslow1.lon-360, modelgsipointslow1, c='b', linewidth='.5', label = 'Low resloution') \n",
    "    ax.plot(modelgsipointsmed2.lon-360, modelgsipointsmed2, c='r', linewidth='.5')\n",
    "    ax.plot(modelgsipointslow2.lon-360, modelgsipointslow2, c='b', linewidth='.5') \n",
    "    ax.plot(modelgsipointsmed3.lon-360, modelgsipointsmed3, c='r', linewidth='.5')\n",
    "    ax.plot(modelgsipointslow3.lon-360, modelgsipointslow3, c='b', linewidth='.5') \n",
    "    ax.plot(modelgsipointsmed4.lon-360, modelgsipointsmed4, c='r', linewidth='.5')\n",
    "    ax.plot(modelgsipointslow4.lon-360, modelgsipointslow4, c='b', linewidth='.5') \n",
    "    ax.plot(modelgsipointsmed5.lon-360, modelgsipointsmed5, c='r', linewidth='.5')\n",
    "    ax.plot(modelgsipointslow5.lon-360, modelgsipointslow5, c='b', linewidth='.5') \n",
    "    add_ticks(ax, xlabelinterval=5)\n",
    "    ax.legend(ncol=4, loc='lower right', frameon=False, fontsize=8)\n",
    "    ax.set_extent([-82, -50, 25, 44])\n",
    "    ax.set_title('LOW vs MED Atmospheric Forcing -- All ENS')"
   ]
  },
  {
   "cell_type": "code",
   "execution_count": 31,
   "id": "60fab0d5-2d38-4bda-9a05-c3209144399c",
   "metadata": {},
   "outputs": [
    {
     "data": {
      "text/plain": [
       "-0.6148544204561895"
      ]
     },
     "execution_count": 31,
     "metadata": {},
     "output_type": "execute_result"
    }
   ],
   "source": [
    "annual_neus_low1_corr "
   ]
  },
  {
   "cell_type": "code",
   "execution_count": 32,
   "id": "ca779793-52a1-42ac-a792-471b25a7007d",
   "metadata": {},
   "outputs": [
    {
     "data": {
      "text/plain": [
       "0.268211134825567"
      ]
     },
     "execution_count": 32,
     "metadata": {},
     "output_type": "execute_result"
    }
   ],
   "source": [
    "annual_neus_low2_corr"
   ]
  },
  {
   "cell_type": "code",
   "execution_count": 33,
   "id": "fedf594c-1bab-4232-9f97-8c67324b674f",
   "metadata": {},
   "outputs": [
    {
     "data": {
      "text/plain": [
       "0.5612845618999428"
      ]
     },
     "execution_count": 33,
     "metadata": {},
     "output_type": "execute_result"
    }
   ],
   "source": [
    "annual_neus_low3_corr"
   ]
  },
  {
   "cell_type": "code",
   "execution_count": 34,
   "id": "fb37f8b2-f8f2-4c3a-a66f-7ac95fa9ac7c",
   "metadata": {},
   "outputs": [
    {
     "data": {
      "text/plain": [
       "0.31501279985948893"
      ]
     },
     "execution_count": 34,
     "metadata": {},
     "output_type": "execute_result"
    }
   ],
   "source": [
    "annual_neus_low4_corr"
   ]
  },
  {
   "cell_type": "code",
   "execution_count": 35,
   "id": "3d93cbd5-9a49-4246-9522-a1e85e47ab93",
   "metadata": {},
   "outputs": [
    {
     "data": {
      "text/plain": [
       "0.8152443328195023"
      ]
     },
     "execution_count": 35,
     "metadata": {},
     "output_type": "execute_result"
    }
   ],
   "source": [
    "annual_neus_low5_corr"
   ]
  },
  {
   "cell_type": "code",
   "execution_count": 36,
   "id": "62015a61-2a95-45ce-a601-5ddf7f11ee0c",
   "metadata": {},
   "outputs": [
    {
     "data": {
      "text/plain": [
       "0.295600261649129"
      ]
     },
     "execution_count": 36,
     "metadata": {},
     "output_type": "execute_result"
    }
   ],
   "source": [
    "annual_neus_med1_corr"
   ]
  },
  {
   "cell_type": "code",
   "execution_count": 37,
   "id": "aff82c41-91a3-46b0-bbed-88870d0d773e",
   "metadata": {},
   "outputs": [
    {
     "data": {
      "text/plain": [
       "0.6924291378855106"
      ]
     },
     "execution_count": 37,
     "metadata": {},
     "output_type": "execute_result"
    }
   ],
   "source": [
    "annual_neus_med2_corr"
   ]
  },
  {
   "cell_type": "code",
   "execution_count": 38,
   "id": "25e1f5c8-7a7d-4209-8e10-b649912a69ba",
   "metadata": {},
   "outputs": [
    {
     "data": {
      "text/plain": [
       "-0.006552961294197049"
      ]
     },
     "execution_count": 38,
     "metadata": {},
     "output_type": "execute_result"
    }
   ],
   "source": [
    "annual_neus_med3_corr"
   ]
  },
  {
   "cell_type": "code",
   "execution_count": 39,
   "id": "55f2412c-7333-4044-94ed-283fb4353f05",
   "metadata": {},
   "outputs": [
    {
     "data": {
      "text/plain": [
       "0.12366835656284193"
      ]
     },
     "execution_count": 39,
     "metadata": {},
     "output_type": "execute_result"
    }
   ],
   "source": [
    "annual_neus_med4_corr"
   ]
  },
  {
   "cell_type": "code",
   "execution_count": 40,
   "id": "95909324-c889-48e3-a2ff-8fbe94bb9323",
   "metadata": {},
   "outputs": [
    {
     "data": {
      "text/plain": [
       "0.4293361196558418"
      ]
     },
     "execution_count": 40,
     "metadata": {},
     "output_type": "execute_result"
    }
   ],
   "source": [
    "annual_neus_med5_corr"
   ]
  },
  {
   "cell_type": "code",
   "execution_count": 59,
   "id": "775e878c-725c-4dfc-b0d9-be9febfa2d66",
   "metadata": {},
   "outputs": [
    {
     "data": {
      "text/plain": [
       "[<matplotlib.lines.Line2D at 0x2b302db3ebd0>]"
      ]
     },
     "execution_count": 59,
     "metadata": {},
     "output_type": "execute_result"
    },
    {
     "data": {
      "text/plain": [
       "<Figure size 800x600 with 0 Axes>"
      ]
     },
     "metadata": {},
     "output_type": "display_data"
    }
   ],
   "source": [
    "fig = plt.figure(figsize=(8, 6), tight_layout=True)\n",
    "ax.plot(obsgsipts, obsgsipts, c = 'black') "
   ]
  },
  {
   "cell_type": "code",
   "execution_count": 62,
   "id": "f9160514-7b20-4cf7-875d-a3d3d727703d",
   "metadata": {},
   "outputs": [
    {
     "data": {
      "text/plain": [
       "time\n",
       "1993-01-01    0.206436\n",
       "1994-01-01    0.589553\n",
       "1995-01-01    1.415258\n",
       "1996-01-01   -0.344687\n",
       "1997-01-01   -0.768714\n",
       "1998-01-01   -0.921331\n",
       "1999-01-01   -0.371093\n",
       "2000-01-01    1.137956\n",
       "2001-01-01   -0.322869\n",
       "2002-01-01    0.253354\n",
       "2003-01-01   -0.780024\n",
       "2004-01-01   -0.974844\n",
       "2005-01-01   -0.784724\n",
       "2006-01-01   -0.142260\n",
       "2007-01-01   -0.711205\n",
       "2008-01-01   -0.324492\n",
       "2009-01-01    0.025604\n",
       "2010-01-01   -0.536280\n",
       "2011-01-01   -1.067469\n",
       "2012-01-01    0.290823\n",
       "2013-01-01   -0.540524\n",
       "2014-01-01    0.029855\n",
       "2015-01-01    0.459321\n",
       "2016-01-01    0.737590\n",
       "2017-01-01    0.490090\n",
       "2018-01-01    1.432259\n",
       "2019-01-01    1.522417\n",
       "Freq: YS-JAN, dtype: float64"
      ]
     },
     "execution_count": 62,
     "metadata": {},
     "output_type": "execute_result"
    }
   ],
   "source": [
    "obsgsipts"
   ]
  },
  {
   "cell_type": "code",
   "execution_count": null,
   "id": "69fc1830-bc35-46dd-896d-ca5d3a71290f",
   "metadata": {},
   "outputs": [],
   "source": []
  }
 ],
 "metadata": {
  "kernelspec": {
   "display_name": "Python 3 (ipykernel)",
   "language": "python",
   "name": "python3"
  },
  "language_info": {
   "codemirror_mode": {
    "name": "ipython",
    "version": 3
   },
   "file_extension": ".py",
   "mimetype": "text/x-python",
   "name": "python",
   "nbconvert_exporter": "python",
   "pygments_lexer": "ipython3",
   "version": "3.11.9"
  }
 },
 "nbformat": 4,
 "nbformat_minor": 5
}
