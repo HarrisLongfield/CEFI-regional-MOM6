{
 "cells": [
  {
   "cell_type": "code",
   "execution_count": 1,
   "id": "599d498d-8966-4da3-ac93-9da7294516ae",
   "metadata": {},
   "outputs": [],
   "source": [
    "import cartopy.feature as feature\n",
    "import cartopy.crs as ccrs\n",
    "from calendar import month_abbr\n",
    "import matplotlib.dates as mdates\n",
    "from pathlib import Path \n",
    "import subprocess \n",
    "from cartopy.mpl.geoaxes import GeoAxes\n",
    "import matplotlib.gridspec as gridspec\n",
    "from matplotlib.lines import Line2D\n",
    "import matplotlib.pyplot as plt\n",
    "from mpl_toolkits.axes_grid1 import AxesGrid\n",
    "import datetime\n",
    "import numpy as np\n",
    "import pandas as pd\n",
    "import xarray\n",
    "import xesmf\n",
    "import os \n",
    "from glob import glob\n",
    "from plot_common import autoextend_colorbar, corners, get_map_norm, open_var, add_ticks, annotate_skill, save_figure"
   ]
  },
  {
   "cell_type": "code",
   "execution_count": 2,
   "id": "b4de3915-f792-4300-86e3-2165837fe5f6",
   "metadata": {},
   "outputs": [],
   "source": [
    "from scipy.stats import ttest_1samp\n",
    "import statistics\n",
    "import scipy "
   ]
  },
  {
   "cell_type": "markdown",
   "id": "2a33eacb-830b-4144-acab-5d44d9c4e0a7",
   "metadata": {},
   "source": [
    "\n",
    "\n",
    "\n",
    "                                FUNCTION TO COMPUTE THE GULF STREAM INDEX AND POINTS\n",
    "\n"
   ]
  },
  {
   "cell_type": "code",
   "execution_count": 3,
   "id": "62f7687b-4a8c-40ce-bce0-d788f730a633",
   "metadata": {},
   "outputs": [],
   "source": [
    "def compute_gs(ssh, data_grid=None):\n",
    "    lons = np.arange(360-72, 360-51.9, 1)\n",
    "    lats = np.arange(36, 42, 0.1)\n",
    "    target_grid = {'lat': lats, 'lon': lons}\n",
    "\n",
    "    if data_grid is None:\n",
    "        data_grid = {'lat': ssh.lat, 'lon': ssh.lon}\n",
    "\n",
    "    ssh_to_grid = xesmf.Regridder(\n",
    "        data_grid,\n",
    "        target_grid,\n",
    "        method='bilinear'\n",
    "    )\n",
    "\n",
    "    # Interpolate the SSH data onto the index grid.\n",
    "    regridded = ssh_to_grid(ssh)\n",
    "\n",
    "    # Find anomalies relative to the calendar month mean SSH over the full model run.\n",
    "    anom = regridded.groupby('time.month') - regridded.groupby('time.month').mean('time')\n",
    "\n",
    "    # For each longitude point, the Gulf Stream is located at the latitude with the maximum SSH anomaly variance.\n",
    "    stdev = anom.std('time')\n",
    "    amax = stdev.argmax('lat').compute()\n",
    "    gs_points = stdev.lat.isel(lat=amax).compute()\n",
    "\n",
    "    # The index is the mean latitude of the Gulf Stream, divided by the standard deviation of the mean latitude of the Gulf Stream.\n",
    "    index = ((anom.isel(lat=amax).mean('lon')) / anom.isel(lat=amax).mean('lon').std('time')).compute()\n",
    "\n",
    "    # Move times to the beginning of the month to match observations.\n",
    "    monthly_index = index.to_pandas().resample('1MS').first()\n",
    "    return monthly_index, gs_points"
   ]
  },
  {
   "cell_type": "markdown",
   "id": "64730389-4967-49cf-bb8a-ab4989ff716e",
   "metadata": {},
   "source": [
    "\n",
    "                                        \n",
    "                                        \n",
    "                                        FUNCTION TO OPEN NETCDF FILES "
   ]
  },
  {
   "cell_type": "code",
   "execution_count": 4,
   "id": "f65b04c4-ad7b-420b-81fb-5c302dd904bd",
   "metadata": {},
   "outputs": [],
   "source": [
    "def open_var(pp_root, kind, var):\n",
    "    freq = 'daily' if 'daily' in kind else 'monthly'\n",
    "    longslice = '19930101-19981231' if freq == 'daily' else '199301-199812'\n",
    "    longfile = os.path.join(pp_root, 'pp', kind, 'ts', freq, '5yr', f'{kind}.{longslice}.{var}.nc')\n",
    "    if os.path.isfile(longfile):\n",
    "        os.system(f'dmget {longfile}')\n",
    "        return xarray.open_dataset(longfile)[var]\n",
    "    elif len(glob(os.path.join(pp_root, 'pp', kind, 'ts', freq, '1yr', f'{kind}.*.{var}.nc'))) > 0:\n",
    "        files = glob(os.path.join(pp_root, 'pp', kind, 'ts', freq, '1yr', f'{kind}.*.{var}.nc'))\n",
    "        os.system(f'dmget {\" \".join(files)}')\n",
    "        return xarray.open_mfdataset(files)[var]\n",
    "    elif len(glob(os.path.join(pp_root, 'pp', kind, 'ts', freq, '5yr', f'{kind}.*.{var}.nc'))) > 0:\n",
    "        files = glob(os.path.join(pp_root, 'pp', kind, 'ts', freq, '5yr', f'{kind}.*.{var}.nc'))\n",
    "        os.system(f'dmget {\" \".join(files)}')\n",
    "        return xarray.open_mfdataset(files)[var]\n",
    "    else:\n",
    "        raise Exception('Did not find postprocessed files')"
   ]
  },
  {
   "cell_type": "markdown",
   "id": "a35e8ed6-0f00-4820-a952-ce333029c37d",
   "metadata": {},
   "source": [
    "\n",
    "                                                \n",
    "                                                \n",
    "                                                \n",
    "                                            OBSERVED DATA AND MODELS"
   ]
  },
  {
   "cell_type": "code",
   "execution_count": 5,
   "id": "9bb690d9-7478-41d0-afe4-182e0c0ed927",
   "metadata": {},
   "outputs": [],
   "source": [
    "obs_sst = xarray.open_mfdataset('/work/vnk/obs_and_reanalyses/oisst_v2/sst.mon.mean.nc')['sst']\n",
    "obs_ssh_points = xarray.open_mfdataset('/home/Andrew.C.Ross/git/nwa12/experiments/COBALT_2023_04/data/satellite_ssh_points.nc') \n",
    "obs_ssh_indexes = pd.read_pickle('/home/Andrew.C.Ross/git/nwa12/experiments/COBALT_2023_04/data/satellite_ssh_index.pkl').resample('1YS').mean()"
   ]
  },
  {
   "cell_type": "code",
   "execution_count": 6,
   "id": "29caadd2-fcf4-414e-a5a0-21e652efe459",
   "metadata": {},
   "outputs": [],
   "source": [
    "model_grid = xarray.open_dataset('../data/geography/ocean_static.nc')\n",
    "obs_sst_grid = xarray.open_mfdataset('/work/vnk/obs_and_reanalyses/oisst_v2/sst.mon.mean.grid.nc')  "
   ]
  },
  {
   "cell_type": "code",
   "execution_count": 7,
   "id": "41a9a74a-bcaf-478a-9b93-fa7b7604ddbf",
   "metadata": {},
   "outputs": [],
   "source": [
    "obsregrd = xesmf.Regridder(obs_sst_grid, {'lat': model_grid.geolat, 'lon': model_grid.geolon}, \n",
    "        method='bilinear', \n",
    "        unmapped_to_nan=True)\n",
    "\n",
    "obs_regriddeda = obsregrd(obs_sst)\n",
    "obs_regridded = obs_regriddeda.sel(time=slice('1993','2007'))"
   ]
  },
  {
   "cell_type": "code",
   "execution_count": 8,
   "id": "ea3295bb-81d3-4a60-9724-7d51e191f4b0",
   "metadata": {},
   "outputs": [],
   "source": [
    "rootmed1 = Path('/archive/Harris.Longfield/fre/NWA/2024_06/NWA12_COBALT_2024_06_medatm_ens_1/gfdl.ncrc5-intel22-prod') \n",
    "rootlow1 = Path('/archive/Harris.Longfield/fre/NWA/2024_06/NWA12_COBALT_2024_06_lowatm_ens_1/gfdl.ncrc5-intel22-prod')\n",
    "rootmed2 = Path('/archive/Harris.Longfield/fre/NWA/2024_06/NWA12_COBALT_2024_06_medatm_ens_2/gfdl.ncrc5-intel22-prod') \n",
    "rootlow2 = Path('/archive/Harris.Longfield/fre/NWA/2024_06/NWA12_COBALT_2024_06_lowatm_ens_2/gfdl.ncrc5-intel22-prod')\n",
    "rootmed3 = Path('/archive/Harris.Longfield/fre/NWA/2024_06/NWA12_COBALT_2024_06_medatm_ens_3/gfdl.ncrc5-intel22-prod') \n",
    "rootlow3 = Path('/archive/Harris.Longfield/fre/NWA/2024_06/NWA12_COBALT_2024_06_lowatm_ens_3/gfdl.ncrc5-intel22-prod')\n",
    "rootmed4 = Path('/archive/Harris.Longfield/fre/NWA/2024_06/NWA12_COBALT_2024_06_medatm_ens_4/gfdl.ncrc5-intel22-prod') \n",
    "rootlow4 = Path('/archive/Harris.Longfield/fre/NWA/2024_06/NWA12_COBALT_2024_06_lowatm_ens_4/gfdl.ncrc5-intel22-prod')\n",
    "rootmed5 = Path('/archive/Harris.Longfield/fre/NWA/2024_06/NWA12_COBALT_2024_06_medatm_ens_5/gfdl.ncrc5-intel22-prod') \n",
    "rootlow5 = Path('/archive/Harris.Longfield/fre/NWA/2024_06/NWA12_COBALT_2024_06_lowatm_ens_5/gfdl.ncrc5-intel22-prod')"
   ]
  },
  {
   "cell_type": "markdown",
   "id": "d8f3f3e9-4392-49f7-821c-be96128f83f7",
   "metadata": {},
   "source": [
    "\n",
    "                                            \n",
    "                                            \n",
    "                                            \n",
    "                                            GRABBING VARS"
   ]
  },
  {
   "cell_type": "code",
   "execution_count": 9,
   "id": "c5f92b37-593b-4333-bdcf-73b0729ca4d2",
   "metadata": {},
   "outputs": [],
   "source": [
    "sstwholemed1 = open_var(rootmed1, 'ocean_monthly', 'tos').resample(time = \"1MS\").first().sel(time=slice(\"1997\",\"2007\")) \n",
    "sstwholelow1 = open_var(rootlow1, 'ocean_monthly', 'tos').resample(time = \"1MS\").first().sel(time=slice(\"1997\",\"2007\")) \n",
    "sstwholemed2 = open_var(rootmed2, 'ocean_monthly', 'tos').resample(time = \"1MS\").first().sel(time=slice(\"1997\",\"2007\")) \n",
    "sstwholelow2 = open_var(rootlow2, 'ocean_monthly', 'tos').resample(time = \"1MS\").first().sel(time=slice(\"1997\",\"2007\"))\n",
    "sstwholemed3 = open_var(rootmed3, 'ocean_monthly', 'tos').resample(time = \"1MS\").first().sel(time=slice(\"1997\",\"2007\")) \n",
    "sstwholelow3 = open_var(rootlow3, 'ocean_monthly', 'tos').resample(time = \"1MS\").first().sel(time=slice(\"1997\",\"2007\")) \n",
    "sstwholemed4 = open_var(rootmed4, 'ocean_monthly', 'tos').resample(time = \"1MS\").first().sel(time=slice(\"1997\",\"2007\"))  \n",
    "sstwholelow4 = open_var(rootlow4, 'ocean_monthly', 'tos').resample(time = \"1MS\").first().sel(time=slice(\"1997\",\"2007\")) \n",
    "sstwholemed5 = open_var(rootmed5, 'ocean_monthly', 'tos').resample(time = \"1MS\").first().sel(time=slice(\"1997\",\"2007\"))  \n",
    "sstwholelow5 = open_var(rootlow5, 'ocean_monthly', 'tos').resample(time = \"1MS\").first().sel(time=slice(\"1997\",\"2007\")) "
   ]
  },
  {
   "cell_type": "code",
   "execution_count": 10,
   "id": "b96ae55b-a7fd-433c-8119-baf4866304e1",
   "metadata": {},
   "outputs": [],
   "source": [
    "sshwholemed1 = open_var(rootmed1, 'ocean_monthly', 'ssh').resample(time = \"1MS\").first().sel(time=slice(\"1997\",\"2007\")) \n",
    "sshwholelow1 = open_var(rootlow1, 'ocean_monthly', 'ssh').resample(time = \"1MS\").first().sel(time=slice(\"1997\",\"2007\")) \n",
    "sshwholemed2 = open_var(rootmed2, 'ocean_monthly', 'ssh').resample(time = \"1MS\").first().sel(time=slice(\"1997\",\"2007\")) \n",
    "sshwholelow2 = open_var(rootlow2, 'ocean_monthly', 'ssh').resample(time = \"1MS\").first().sel(time=slice(\"1997\",\"2007\")) \n",
    "sshwholemed3 = open_var(rootmed3, 'ocean_monthly', 'ssh').resample(time = \"1MS\").first().sel(time=slice(\"1997\",\"2007\")) \n",
    "sshwholelow3 = open_var(rootlow3, 'ocean_monthly', 'ssh').resample(time = \"1MS\").first().sel(time=slice(\"1997\",\"2007\")) \n",
    "sshwholemed4 = open_var(rootmed4, 'ocean_monthly', 'ssh').resample(time = \"1MS\").first().sel(time=slice(\"1997\",\"2007\")) \n",
    "sshwholelow4 = open_var(rootlow4, 'ocean_monthly', 'ssh').resample(time = \"1MS\").first().sel(time=slice(\"1997\",\"2007\")) \n",
    "sshwholemed5 = open_var(rootmed5, 'ocean_monthly', 'ssh').resample(time = \"1MS\").first().sel(time=slice(\"1997\",\"2007\")) \n",
    "sshwholelow5 = open_var(rootlow5, 'ocean_monthly', 'ssh').resample(time = \"1MS\").first().sel(time=slice(\"1997\",\"2007\")) "
   ]
  },
  {
   "cell_type": "code",
   "execution_count": 11,
   "id": "4917a3d8-fc20-45d4-88a0-79df175edbf3",
   "metadata": {},
   "outputs": [
    {
     "name": "stderr",
     "output_type": "stream",
     "text": [
      "/nbhome/Harris.Longfield/python/envs/py311_20240611/lib/python3.11/site-packages/xarray/core/indexing.py:1617: PerformanceWarning: Slicing with an out-of-order index is generating 11 times more chunks\n",
      "  return self.array[key]\n",
      "/nbhome/Harris.Longfield/python/envs/py311_20240611/lib/python3.11/site-packages/dask/array/numpy_compat.py:53: RuntimeWarning: invalid value encountered in divide\n",
      "  x = np.divide(x1, x2, out)\n",
      "/nbhome/Harris.Longfield/python/envs/py311_20240611/lib/python3.11/site-packages/xarray/core/indexing.py:1617: PerformanceWarning: Slicing with an out-of-order index is generating 11 times more chunks\n",
      "  return self.array[key]\n",
      "/nbhome/Harris.Longfield/python/envs/py311_20240611/lib/python3.11/site-packages/dask/array/numpy_compat.py:53: RuntimeWarning: invalid value encountered in divide\n",
      "  x = np.divide(x1, x2, out)\n",
      "/nbhome/Harris.Longfield/python/envs/py311_20240611/lib/python3.11/site-packages/xarray/core/indexing.py:1617: PerformanceWarning: Slicing with an out-of-order index is generating 11 times more chunks\n",
      "  return self.array[key]\n",
      "/nbhome/Harris.Longfield/python/envs/py311_20240611/lib/python3.11/site-packages/dask/array/numpy_compat.py:53: RuntimeWarning: invalid value encountered in divide\n",
      "  x = np.divide(x1, x2, out)\n",
      "/nbhome/Harris.Longfield/python/envs/py311_20240611/lib/python3.11/site-packages/xarray/core/indexing.py:1617: PerformanceWarning: Slicing with an out-of-order index is generating 11 times more chunks\n",
      "  return self.array[key]\n",
      "/nbhome/Harris.Longfield/python/envs/py311_20240611/lib/python3.11/site-packages/dask/array/numpy_compat.py:53: RuntimeWarning: invalid value encountered in divide\n",
      "  x = np.divide(x1, x2, out)\n",
      "/nbhome/Harris.Longfield/python/envs/py311_20240611/lib/python3.11/site-packages/xarray/core/indexing.py:1617: PerformanceWarning: Slicing with an out-of-order index is generating 11 times more chunks\n",
      "  return self.array[key]\n",
      "/nbhome/Harris.Longfield/python/envs/py311_20240611/lib/python3.11/site-packages/dask/array/numpy_compat.py:53: RuntimeWarning: invalid value encountered in divide\n",
      "  x = np.divide(x1, x2, out)\n",
      "/nbhome/Harris.Longfield/python/envs/py311_20240611/lib/python3.11/site-packages/xarray/core/indexing.py:1617: PerformanceWarning: Slicing with an out-of-order index is generating 11 times more chunks\n",
      "  return self.array[key]\n",
      "/nbhome/Harris.Longfield/python/envs/py311_20240611/lib/python3.11/site-packages/dask/array/numpy_compat.py:53: RuntimeWarning: invalid value encountered in divide\n",
      "  x = np.divide(x1, x2, out)\n",
      "/nbhome/Harris.Longfield/python/envs/py311_20240611/lib/python3.11/site-packages/xarray/core/indexing.py:1617: PerformanceWarning: Slicing with an out-of-order index is generating 11 times more chunks\n",
      "  return self.array[key]\n",
      "/nbhome/Harris.Longfield/python/envs/py311_20240611/lib/python3.11/site-packages/dask/array/numpy_compat.py:53: RuntimeWarning: invalid value encountered in divide\n",
      "  x = np.divide(x1, x2, out)\n",
      "/nbhome/Harris.Longfield/python/envs/py311_20240611/lib/python3.11/site-packages/xarray/core/indexing.py:1617: PerformanceWarning: Slicing with an out-of-order index is generating 11 times more chunks\n",
      "  return self.array[key]\n",
      "/nbhome/Harris.Longfield/python/envs/py311_20240611/lib/python3.11/site-packages/dask/array/numpy_compat.py:53: RuntimeWarning: invalid value encountered in divide\n",
      "  x = np.divide(x1, x2, out)\n",
      "/nbhome/Harris.Longfield/python/envs/py311_20240611/lib/python3.11/site-packages/xarray/core/indexing.py:1617: PerformanceWarning: Slicing with an out-of-order index is generating 11 times more chunks\n",
      "  return self.array[key]\n",
      "/nbhome/Harris.Longfield/python/envs/py311_20240611/lib/python3.11/site-packages/dask/array/numpy_compat.py:53: RuntimeWarning: invalid value encountered in divide\n",
      "  x = np.divide(x1, x2, out)\n",
      "/nbhome/Harris.Longfield/python/envs/py311_20240611/lib/python3.11/site-packages/xarray/core/indexing.py:1617: PerformanceWarning: Slicing with an out-of-order index is generating 11 times more chunks\n",
      "  return self.array[key]\n",
      "/nbhome/Harris.Longfield/python/envs/py311_20240611/lib/python3.11/site-packages/dask/array/numpy_compat.py:53: RuntimeWarning: invalid value encountered in divide\n",
      "  x = np.divide(x1, x2, out)\n"
     ]
    }
   ],
   "source": [
    "modelgsiindexmed1, modelgsipointsmed1 = compute_gs(sshwholemed1, data_grid=model_grid[['geolon', 'geolat']].rename({'geolon': 'lon', 'geolat': 'lat'}))\n",
    "modelgsiindexlow1, modelgsipointslow1 = compute_gs(sshwholelow1, data_grid=model_grid[['geolon', 'geolat']].rename({'geolon': 'lon', 'geolat': 'lat'}))\n",
    "modelgsiindexmed2, modelgsipointsmed2 = compute_gs(sshwholemed2, data_grid=model_grid[['geolon', 'geolat']].rename({'geolon': 'lon', 'geolat': 'lat'}))\n",
    "modelgsiindexlow2, modelgsipointslow2 = compute_gs(sshwholelow2, data_grid=model_grid[['geolon', 'geolat']].rename({'geolon': 'lon', 'geolat': 'lat'}))\n",
    "modelgsiindexmed3, modelgsipointsmed3 = compute_gs(sshwholemed3, data_grid=model_grid[['geolon', 'geolat']].rename({'geolon': 'lon', 'geolat': 'lat'}))\n",
    "modelgsiindexlow3, modelgsipointslow3 = compute_gs(sshwholelow3, data_grid=model_grid[['geolon', 'geolat']].rename({'geolon': 'lon', 'geolat': 'lat'}))\n",
    "modelgsiindexmed4, modelgsipointsmed4 = compute_gs(sshwholemed4, data_grid=model_grid[['geolon', 'geolat']].rename({'geolon': 'lon', 'geolat': 'lat'}))\n",
    "modelgsiindexlow4, modelgsipointslow4 = compute_gs(sshwholelow4, data_grid=model_grid[['geolon', 'geolat']].rename({'geolon': 'lon', 'geolat': 'lat'}))\n",
    "modelgsiindexmed5, modelgsipointsmed5 = compute_gs(sshwholemed5, data_grid=model_grid[['geolon', 'geolat']].rename({'geolon': 'lon', 'geolat': 'lat'}))\n",
    "modelgsiindexlow5, modelgsipointslow5 = compute_gs(sshwholelow5, data_grid=model_grid[['geolon', 'geolat']].rename({'geolon': 'lon', 'geolat': 'lat'}))"
   ]
  },
  {
   "cell_type": "code",
   "execution_count": 11,
   "id": "80094945-e115-4c80-9c31-7576d7ac857c",
   "metadata": {},
   "outputs": [],
   "source": [
    "masks = xarray.open_dataset('/home/Andrew.C.Ross/git/nwa12/data/geography/masks/regions_30m.nc') "
   ]
  },
  {
   "cell_type": "code",
   "execution_count": 12,
   "id": "b4d5f912-2cdd-4aeb-a947-279c8dab6de6",
   "metadata": {},
   "outputs": [],
   "source": [
    "weights_gom = masks['areacello'].where(masks['GOM']).fillna(0) \n",
    "weights_neus = masks['areacello'].where(masks['NEUS_LME']).fillna(0)\n",
    "weights_mab = masks['areacello'].where(masks['MAB']).fillna(0) "
   ]
  },
  {
   "cell_type": "code",
   "execution_count": 13,
   "id": "140fa7b3-36b6-4cc2-9ea6-0c2abc78f30c",
   "metadata": {},
   "outputs": [],
   "source": [
    "mean_sst_neus_obs = obs_regridded.weighted(weights_neus).mean(['yh', 'xh'])\n",
    "mean_sst_gom_obs = obs_regridded.weighted(weights_gom).mean(['yh', 'xh']) \n",
    "mean_sst_mab_obs = obs_regridded.weighted(weights_mab).mean(['yh', 'xh']) "
   ]
  },
  {
   "cell_type": "code",
   "execution_count": 14,
   "id": "ebd119b4-e4b0-4555-aa4d-5d389a2b5710",
   "metadata": {},
   "outputs": [],
   "source": [
    "annual_neus_obs = mean_sst_neus_obs.resample(time='1YS').mean() \n",
    "annual_gom_obs = mean_sst_gom_obs.resample(time='1YS').mean() \n",
    "annual_mab_obs = mean_sst_mab_obs.resample(time='1YS').mean() "
   ]
  },
  {
   "cell_type": "code",
   "execution_count": 15,
   "id": "238ef0c5-c71f-454a-b716-9ed5c4b9c94e",
   "metadata": {},
   "outputs": [],
   "source": [
    "mean_sst_neus_med1 = sstwholemed1.weighted(weights_neus).mean(['yh', 'xh']).compute() \n",
    "mean_sst_neus_low1 = sstwholelow1.weighted(weights_neus).mean(['yh', 'xh']).compute() \n",
    "mean_sst_neus_med2 = sstwholemed2.weighted(weights_neus).mean(['yh', 'xh']).compute() \n",
    "mean_sst_neus_low2 = sstwholelow2.weighted(weights_neus).mean(['yh', 'xh']).compute() \n",
    "mean_sst_neus_med3 = sstwholemed3.weighted(weights_neus).mean(['yh', 'xh']).compute() \n",
    "mean_sst_neus_low3 = sstwholelow3.weighted(weights_neus).mean(['yh', 'xh']).compute() \n",
    "mean_sst_neus_med4 = sstwholemed4.weighted(weights_neus).mean(['yh', 'xh']).compute() \n",
    "mean_sst_neus_low4 = sstwholelow4.weighted(weights_neus).mean(['yh', 'xh']).compute() \n",
    "mean_sst_neus_med5 = sstwholemed5.weighted(weights_neus).mean(['yh', 'xh']).compute() \n",
    "mean_sst_neus_low5 = sstwholelow5.weighted(weights_neus).mean(['yh', 'xh']).compute() "
   ]
  },
  {
   "cell_type": "code",
   "execution_count": 16,
   "id": "0c0b8ff7-5dca-412a-9d16-8c6af684a5cb",
   "metadata": {},
   "outputs": [],
   "source": [
    "mean_sst_gom_med1 = sstwholemed1.weighted(weights_gom).mean(['yh', 'xh']).compute() \n",
    "mean_sst_gom_low1 = sstwholelow1.weighted(weights_gom).mean(['yh', 'xh']).compute() \n",
    "mean_sst_gom_med2 = sstwholemed2.weighted(weights_gom).mean(['yh', 'xh']).compute() \n",
    "mean_sst_gom_low2 = sstwholelow2.weighted(weights_gom).mean(['yh', 'xh']).compute() \n",
    "mean_sst_gom_med3 = sstwholemed3.weighted(weights_gom).mean(['yh', 'xh']).compute() \n",
    "mean_sst_gom_low3 = sstwholelow3.weighted(weights_gom).mean(['yh', 'xh']).compute() \n",
    "mean_sst_gom_med4 = sstwholemed4.weighted(weights_gom).mean(['yh', 'xh']).compute() \n",
    "mean_sst_gom_low4 = sstwholelow4.weighted(weights_gom).mean(['yh', 'xh']).compute() \n",
    "mean_sst_gom_med5 = sstwholemed5.weighted(weights_gom).mean(['yh', 'xh']).compute() \n",
    "mean_sst_gom_low5 = sstwholelow5.weighted(weights_gom).mean(['yh', 'xh']).compute() "
   ]
  },
  {
   "cell_type": "code",
   "execution_count": 17,
   "id": "5b7656a5-7c96-4124-9ff3-98e71b49aec8",
   "metadata": {},
   "outputs": [],
   "source": [
    "mean_sst_mab_med1 = sstwholemed1.weighted(weights_mab).mean(['yh', 'xh']).compute() \n",
    "mean_sst_mab_low1 = sstwholelow1.weighted(weights_mab).mean(['yh', 'xh']).compute() \n",
    "mean_sst_mab_med2 = sstwholemed2.weighted(weights_mab).mean(['yh', 'xh']).compute() \n",
    "mean_sst_mab_low2 = sstwholelow2.weighted(weights_mab).mean(['yh', 'xh']).compute() \n",
    "mean_sst_mab_med3 = sstwholemed3.weighted(weights_mab).mean(['yh', 'xh']).compute() \n",
    "mean_sst_mab_low3 = sstwholelow3.weighted(weights_mab).mean(['yh', 'xh']).compute() \n",
    "mean_sst_mab_med4 = sstwholemed4.weighted(weights_mab).mean(['yh', 'xh']).compute() \n",
    "mean_sst_mab_low4 = sstwholelow4.weighted(weights_mab).mean(['yh', 'xh']).compute() \n",
    "mean_sst_mab_med5 = sstwholemed5.weighted(weights_mab).mean(['yh', 'xh']).compute() \n",
    "mean_sst_mab_low5 = sstwholelow5.weighted(weights_mab).mean(['yh', 'xh']).compute() "
   ]
  },
  {
   "cell_type": "code",
   "execution_count": 19,
   "id": "8d265b4e-5b62-446d-88c3-b37a44111efd",
   "metadata": {},
   "outputs": [],
   "source": [
    "annual_gsi_index_med1 = modelgsiindexmed1.resample('1YS').mean()\n",
    "annual_gsi_index_low1 = modelgsiindexlow1.resample('1YS').mean()\n",
    "annual_gsi_index_med2 = modelgsiindexmed2.resample('1YS').mean()\n",
    "annual_gsi_index_low2 = modelgsiindexlow2.resample('1YS').mean()\n",
    "annual_gsi_index_med3 = modelgsiindexmed3.resample('1YS').mean()\n",
    "annual_gsi_index_low3 = modelgsiindexlow3.resample('1YS').mean()\n",
    "annual_gsi_index_med4 = modelgsiindexmed4.resample('1YS').mean()\n",
    "annual_gsi_index_low4 = modelgsiindexlow4.resample('1YS').mean()\n",
    "annual_gsi_index_med5 = modelgsiindexmed5.resample('1YS').mean()\n",
    "annual_gsi_index_low5 = modelgsiindexlow5.resample('1YS').mean()"
   ]
  },
  {
   "cell_type": "code",
   "execution_count": 20,
   "id": "dad91261-4439-4665-8cbf-638c23794f4c",
   "metadata": {},
   "outputs": [],
   "source": [
    "annual_neus_med1 = mean_sst_neus_med1.resample(time='1YS').mean()\n",
    "annual_neus_low1 = mean_sst_neus_low1.resample(time='1YS').mean()\n",
    "annual_neus_med2 = mean_sst_neus_med2.resample(time='1YS').mean()\n",
    "annual_neus_low2 = mean_sst_neus_low2.resample(time='1YS').mean()\n",
    "annual_neus_med3 = mean_sst_neus_med3.resample(time='1YS').mean()\n",
    "annual_neus_low3 = mean_sst_neus_low3.resample(time='1YS').mean()\n",
    "annual_neus_med4 = mean_sst_neus_med4.resample(time='1YS').mean()\n",
    "annual_neus_low4 = mean_sst_neus_low4.resample(time='1YS').mean()\n",
    "annual_neus_med5 = mean_sst_neus_med5.resample(time='1YS').mean()\n",
    "annual_neus_low5 = mean_sst_neus_low5.resample(time='1YS').mean()"
   ]
  },
  {
   "cell_type": "code",
   "execution_count": 21,
   "id": "79a3884c-9ae9-4d1c-b54d-065838c76abe",
   "metadata": {},
   "outputs": [],
   "source": [
    "annual_gom_med1 = mean_sst_gom_med1.resample(time='1YS').mean()\n",
    "annual_gom_low1 = mean_sst_gom_low1.resample(time='1YS').mean()\n",
    "annual_gom_med2 = mean_sst_gom_med2.resample(time='1YS').mean()\n",
    "annual_gom_low2 = mean_sst_gom_low2.resample(time='1YS').mean()\n",
    "annual_gom_med3 = mean_sst_gom_med3.resample(time='1YS').mean()\n",
    "annual_gom_low3 = mean_sst_gom_low3.resample(time='1YS').mean()\n",
    "annual_gom_med4 = mean_sst_gom_med4.resample(time='1YS').mean()\n",
    "annual_gom_low4 = mean_sst_gom_low4.resample(time='1YS').mean()\n",
    "annual_gom_med5 = mean_sst_gom_med5.resample(time='1YS').mean()\n",
    "annual_gom_low5 = mean_sst_gom_low5.resample(time='1YS').mean()"
   ]
  },
  {
   "cell_type": "code",
   "execution_count": 22,
   "id": "3c64cd40-6207-4027-93d1-0063869bbd66",
   "metadata": {},
   "outputs": [],
   "source": [
    "annual_mab_med1 = mean_sst_mab_med1.resample(time='1YS').mean()\n",
    "annual_mab_low1 = mean_sst_mab_low1.resample(time='1YS').mean()\n",
    "annual_mab_med2 = mean_sst_mab_med2.resample(time='1YS').mean()\n",
    "annual_mab_low2 = mean_sst_mab_low2.resample(time='1YS').mean()\n",
    "annual_mab_med3 = mean_sst_mab_med3.resample(time='1YS').mean()\n",
    "annual_mab_low3 = mean_sst_mab_low3.resample(time='1YS').mean()\n",
    "annual_mab_med4 = mean_sst_mab_med4.resample(time='1YS').mean()\n",
    "annual_mab_low4 = mean_sst_mab_low4.resample(time='1YS').mean()\n",
    "annual_mab_med5 = mean_sst_mab_med5.resample(time='1YS').mean()\n",
    "annual_mab_low5 = mean_sst_mab_low5.resample(time='1YS').mean()"
   ]
  },
  {
   "cell_type": "code",
   "execution_count": 23,
   "id": "a3327c39-c6f2-4a51-a710-6ff28b1f3307",
   "metadata": {},
   "outputs": [],
   "source": [
    "annual_neus_obs_corr = xarray.corr(annual_neus_obs.sel(time=slice('1995', '2007')).load(), pd.DataFrame.to_xarray(obs_ssh_indexes).sel(time=slice('1995', '2007')), dim='time').item()\n",
    "annual_gom_obs_corr = xarray.corr(annual_gom_obs.sel(time=slice('1995', '2007')).load(), pd.DataFrame.to_xarray(obs_ssh_indexes).sel(time=slice('1995', '2007')), dim='time').item()\n",
    "annual_mab_obs_corr = xarray.corr(annual_mab_obs.sel(time=slice('1995', '2007')).load(), pd.DataFrame.to_xarray(obs_ssh_indexes).sel(time=slice('1995', '2007')), dim='time').item()"
   ]
  },
  {
   "cell_type": "code",
   "execution_count": 24,
   "id": "96c58aa7-4156-4940-8cd1-8103418eb8d5",
   "metadata": {},
   "outputs": [],
   "source": [
    "annual_neus_low1_corr = xarray.corr(annual_neus_low1.sel(time=slice('1995','2007')), pd.DataFrame.to_xarray(annual_gsi_index_low1), dim='time').item() \n",
    "annual_neus_med1_corr = xarray.corr(annual_neus_med1.sel(time=slice('1995','2007')), pd.DataFrame.to_xarray(annual_gsi_index_med1), dim='time').item() \n",
    "annual_neus_low2_corr = xarray.corr(annual_neus_low2.sel(time=slice('1995','2007')), pd.DataFrame.to_xarray(annual_gsi_index_low2), dim='time').item() \n",
    "annual_neus_med2_corr = xarray.corr(annual_neus_med2.sel(time=slice('1995','2007')), pd.DataFrame.to_xarray(annual_gsi_index_med2), dim='time').item() \n",
    "annual_neus_low3_corr = xarray.corr(annual_neus_low3.sel(time=slice('1995','2007')), pd.DataFrame.to_xarray(annual_gsi_index_low3), dim='time').item() \n",
    "annual_neus_med3_corr = xarray.corr(annual_neus_med3.sel(time=slice('1995','2007')), pd.DataFrame.to_xarray(annual_gsi_index_med3), dim='time').item() \n",
    "annual_neus_low4_corr = xarray.corr(annual_neus_low4.sel(time=slice('1995','2007')), pd.DataFrame.to_xarray(annual_gsi_index_low4), dim='time').item() \n",
    "annual_neus_med4_corr = xarray.corr(annual_neus_med4.sel(time=slice('1995','2007')), pd.DataFrame.to_xarray(annual_gsi_index_med4), dim='time').item() \n",
    "annual_neus_low5_corr = xarray.corr(annual_neus_low5.sel(time=slice('1995','2007')), pd.DataFrame.to_xarray(annual_gsi_index_low5), dim='time').item() \n",
    "annual_neus_med5_corr = xarray.corr(annual_neus_med5.sel(time=slice('1995','2007')), pd.DataFrame.to_xarray(annual_gsi_index_med5), dim='time').item() "
   ]
  },
  {
   "cell_type": "code",
   "execution_count": 25,
   "id": "e9a58d82-77b2-411c-bce6-707b5cc74483",
   "metadata": {},
   "outputs": [],
   "source": [
    "annual_gom_low1_corr = xarray.corr(annual_gom_low1.sel(time=slice('1995','2007')), pd.DataFrame.to_xarray(annual_gsi_index_low1), dim='time').item() \n",
    "annual_gom_med1_corr = xarray.corr(annual_gom_med1.sel(time=slice('1995','2007')), pd.DataFrame.to_xarray(annual_gsi_index_med1), dim='time').item() \n",
    "annual_gom_low2_corr = xarray.corr(annual_gom_low2.sel(time=slice('1995','2007')), pd.DataFrame.to_xarray(annual_gsi_index_low2), dim='time').item() \n",
    "annual_gom_med2_corr = xarray.corr(annual_gom_med2.sel(time=slice('1995','2007')), pd.DataFrame.to_xarray(annual_gsi_index_med2), dim='time').item() \n",
    "annual_gom_low3_corr = xarray.corr(annual_gom_low3.sel(time=slice('1995','2007')), pd.DataFrame.to_xarray(annual_gsi_index_low3), dim='time').item() \n",
    "annual_gom_med3_corr = xarray.corr(annual_gom_med3.sel(time=slice('1995','2007')), pd.DataFrame.to_xarray(annual_gsi_index_med3), dim='time').item() \n",
    "annual_gom_low4_corr = xarray.corr(annual_gom_low4.sel(time=slice('1995','2007')), pd.DataFrame.to_xarray(annual_gsi_index_low4), dim='time').item() \n",
    "annual_gom_med4_corr = xarray.corr(annual_gom_med4.sel(time=slice('1995','2007')), pd.DataFrame.to_xarray(annual_gsi_index_med4), dim='time').item() \n",
    "annual_gom_low5_corr = xarray.corr(annual_gom_low5.sel(time=slice('1995','2007')), pd.DataFrame.to_xarray(annual_gsi_index_low5), dim='time').item() \n",
    "annual_gom_med5_corr = xarray.corr(annual_gom_med5.sel(time=slice('1995','2007')), pd.DataFrame.to_xarray(annual_gsi_index_med5), dim='time').item() "
   ]
  },
  {
   "cell_type": "code",
   "execution_count": 26,
   "id": "cb889461-a702-4fae-9b16-0dc7a716678f",
   "metadata": {},
   "outputs": [],
   "source": [
    "annual_mab_low1_corr = xarray.corr(annual_mab_low1.sel(time=slice('1995','2007')), pd.DataFrame.to_xarray(annual_gsi_index_low1), dim='time').item() \n",
    "annual_mab_med1_corr = xarray.corr(annual_mab_med1.sel(time=slice('1995','2007')), pd.DataFrame.to_xarray(annual_gsi_index_med1), dim='time').item() \n",
    "annual_mab_low2_corr = xarray.corr(annual_mab_low2.sel(time=slice('1995','2007')), pd.DataFrame.to_xarray(annual_gsi_index_low2), dim='time').item() \n",
    "annual_mab_med2_corr = xarray.corr(annual_mab_med2.sel(time=slice('1995','2007')), pd.DataFrame.to_xarray(annual_gsi_index_med2), dim='time').item() \n",
    "annual_mab_low3_corr = xarray.corr(annual_mab_low3.sel(time=slice('1995','2007')), pd.DataFrame.to_xarray(annual_gsi_index_low3), dim='time').item() \n",
    "annual_mab_med3_corr = xarray.corr(annual_mab_med3.sel(time=slice('1995','2007')), pd.DataFrame.to_xarray(annual_gsi_index_med3), dim='time').item() \n",
    "annual_mab_low4_corr = xarray.corr(annual_mab_low4.sel(time=slice('1995','2007')), pd.DataFrame.to_xarray(annual_gsi_index_low4), dim='time').item() \n",
    "annual_mab_med4_corr = xarray.corr(annual_mab_med4.sel(time=slice('1995','2007')), pd.DataFrame.to_xarray(annual_gsi_index_med4), dim='time').item() \n",
    "annual_mab_low5_corr = xarray.corr(annual_mab_low5.sel(time=slice('1995','2007')), pd.DataFrame.to_xarray(annual_gsi_index_low5), dim='time').item() \n",
    "annual_mab_med5_corr = xarray.corr(annual_mab_med5.sel(time=slice('1995','2007')), pd.DataFrame.to_xarray(annual_gsi_index_med5), dim='time').item() "
   ]
  },
  {
   "cell_type": "code",
   "execution_count": 27,
   "id": "172917fd-d54b-42b8-9785-514154fa9edf",
   "metadata": {},
   "outputs": [],
   "source": [
    "lowcorrs = [(annual_neus_low1_corr,1),(annual_neus_low2_corr,2),(annual_neus_low3_corr,3), (annual_neus_low4_corr,4), (annual_neus_low5_corr,5) ]\n",
    "medcorrs = [(annual_neus_med1_corr,1), (annual_neus_med2_corr,2), (annual_neus_med3_corr,3), (annual_neus_med4_corr,4), (annual_neus_med5_corr,5) ]"
   ]
  },
  {
   "cell_type": "code",
   "execution_count": 28,
   "id": "6fbf7a08-ad01-434b-b424-8a6b3707d327",
   "metadata": {},
   "outputs": [],
   "source": [
    "lowcorrsgom = [(annual_gom_low1_corr,1), (annual_gom_low2_corr,2), (annual_gom_low3_corr,3), (annual_gom_low4_corr,4), (annual_gom_low5_corr,5)]\n",
    "medcorrsgom = [(annual_gom_med1_corr,1), (annual_gom_med2_corr,2), (annual_gom_med3_corr,3), (annual_gom_med4_corr,4), (annual_gom_med5_corr,5)]"
   ]
  },
  {
   "cell_type": "code",
   "execution_count": 29,
   "id": "8a0aa287-c366-45df-b697-b0633b40578f",
   "metadata": {},
   "outputs": [],
   "source": [
    "lowcorrsmab = [(annual_mab_low1_corr,1), (annual_mab_low2_corr,2), (annual_mab_low3_corr,3), (annual_mab_low4_corr,4), (annual_mab_low5_corr,5)]\n",
    "medcorrsmab = [(annual_mab_med1_corr,1), (annual_mab_med2_corr,2), (annual_mab_med3_corr,3), (annual_mab_med4_corr,4), (annual_mab_med5_corr,5)]"
   ]
  },
  {
   "cell_type": "code",
   "execution_count": 30,
   "id": "8793eaae-2d42-4ce8-ab97-cb903f029732",
   "metadata": {},
   "outputs": [
    {
     "data": {
      "text/plain": [
       "0.46763337005438305"
      ]
     },
     "execution_count": 30,
     "metadata": {},
     "output_type": "execute_result"
    }
   ],
   "source": [
    "annual_neus_obs_corr"
   ]
  },
  {
   "cell_type": "code",
   "execution_count": 31,
   "id": "8f842f1f-724a-4cea-8a19-1d2c7652a088",
   "metadata": {},
   "outputs": [
    {
     "data": {
      "text/plain": [
       "0.40133468167962494"
      ]
     },
     "execution_count": 31,
     "metadata": {},
     "output_type": "execute_result"
    }
   ],
   "source": [
    "annual_gom_obs_corr"
   ]
  },
  {
   "cell_type": "code",
   "execution_count": 32,
   "id": "36329e8d-01c5-461c-99e7-9e77c4039b2d",
   "metadata": {},
   "outputs": [
    {
     "data": {
      "text/plain": [
       "0.45297028685367174"
      ]
     },
     "execution_count": 32,
     "metadata": {},
     "output_type": "execute_result"
    }
   ],
   "source": [
    "annual_mab_obs_corr"
   ]
  },
  {
   "cell_type": "code",
   "execution_count": 33,
   "id": "e7f534f9-cecb-4e7d-b02e-3975ff72d100",
   "metadata": {},
   "outputs": [
    {
     "data": {
      "text/plain": [
       "-0.6267034016274918"
      ]
     },
     "execution_count": 33,
     "metadata": {},
     "output_type": "execute_result"
    }
   ],
   "source": [
    "annual_neus_low1_corr"
   ]
  },
  {
   "cell_type": "code",
   "execution_count": 34,
   "id": "dd79484f-1bb4-470c-a327-c782eac1fd8e",
   "metadata": {},
   "outputs": [
    {
     "data": {
      "text/plain": [
       "-0.7026934484357419"
      ]
     },
     "execution_count": 34,
     "metadata": {},
     "output_type": "execute_result"
    }
   ],
   "source": [
    "annual_gom_low1_corr"
   ]
  },
  {
   "cell_type": "code",
   "execution_count": 35,
   "id": "aaae97b0-bd06-4729-95e0-b2c53d1beb95",
   "metadata": {},
   "outputs": [
    {
     "data": {
      "text/plain": [
       "Text(0, 0.5, 'Correlation Coefficient')"
      ]
     },
     "execution_count": 35,
     "metadata": {},
     "output_type": "execute_result"
    },
    {
     "data": {
      "image/png": "[encoded data removed]",
      "text/plain": [
       "<Figure size 640x480 with 1 Axes>"
      ]
     },
     "metadata": {},
     "output_type": "display_data"
    }
   ],
   "source": [
    "lowcorrsptsx = [x[0] for x in lowcorrs]\n",
    "lowcorrsptsy = [x[1] for x in lowcorrs] \n",
    "medcorrsptsx = [x[0] for x in medcorrs]\n",
    "medcorrsptsy = [x[1] for x in medcorrs]\n",
    "plt.title('Correlation Coefficient of NEUS SST and GSI All Ensembles', fontsize='16', pad='20') \n",
    "plt.scatter(lowcorrsptsy, lowcorrsptsx, c='r', label='Low Resolution')\n",
    "plt.scatter(medcorrsptsy, medcorrsptsx, c='b', label='Med Resolution')\n",
    "plt.axhline(y = annual_neus_obs_corr, color = \"black\")\n",
    "plt.xticks([1,2,3,4,5], ['1', '2', '3', '4', '5']) \n",
    "plt.legend(ncol=4, loc='lower right', frameon=False, fontsize=12, bbox_to_anchor=(0.5, 0., 0.5, 0.5))\n",
    "plt.xlabel('Ensemble') \n",
    "plt.ylabel('Correlation Coefficient') "
   ]
  },
  {
   "cell_type": "code",
   "execution_count": 36,
   "id": "b54d6d62-7d93-4217-a211-c0ba39558a6b",
   "metadata": {},
   "outputs": [
    {
     "data": {
      "text/plain": [
       "Text(0, 0.5, 'Correlation Coefficient')"
      ]
     },
     "execution_count": 36,
     "metadata": {},
     "output_type": "execute_result"
    },
    {
     "data": {
      "image/png": "[encoded data removed]",
      "text/plain": [
       "<Figure size 640x480 with 1 Axes>"
      ]
     },
     "metadata": {},
     "output_type": "display_data"
    }
   ],
   "source": [
    "lowcorrsptsgomx = [x[0] for x in lowcorrsgom]\n",
    "lowcorrsptsgomy = [x[1] for x in lowcorrsgom] \n",
    "medcorrsptsgomx = [x[0] for x in medcorrsgom]\n",
    "medcorrsptsgomy = [x[1] for x in medcorrsgom]\n",
    "plt.title('Correlation Coefficient of GOM SST and GSI All Ensembles', fontsize='16', pad='20') \n",
    "plt.scatter(lowcorrsptsgomy, lowcorrsptsgomx, c='lightcoral', label='Low Resolution')\n",
    "plt.scatter(medcorrsptsgomy, medcorrsptsgomx, c='lightblue', label='Med Resolution')\n",
    "plt.axhline(y = annual_gom_obs_corr, color = \"black\")\n",
    "plt.xticks([1,2,3,4,5], ['1', '2', '3', '4', '5']) \n",
    "plt.legend(ncol=4, loc='lower right', frameon=False, fontsize=12, bbox_to_anchor=(0.5, 0., 0.5, 0.5))\n",
    "plt.xlabel('Ensemble') \n",
    "plt.ylabel('Correlation Coefficient') "
   ]
  },
  {
   "cell_type": "code",
   "execution_count": 37,
   "id": "5b3873d0-b0b2-40c6-9385-f40e57aae186",
   "metadata": {},
   "outputs": [
    {
     "data": {
      "text/plain": [
       "Text(0, 0.5, 'Correlation Coefficient')"
      ]
     },
     "execution_count": 37,
     "metadata": {},
     "output_type": "execute_result"
    },
    {
     "data": {
      "image/png": "[encoded data removed]",
      "text/plain": [
       "<Figure size 640x480 with 1 Axes>"
      ]
     },
     "metadata": {},
     "output_type": "display_data"
    }
   ],
   "source": [
    "lowcorrsptsxmab = [x[0] for x in lowcorrsmab]\n",
    "lowcorrsptsymab = [x[1] for x in lowcorrsmab] \n",
    "medcorrsptsxmab = [x[0] for x in medcorrsmab]\n",
    "medcorrsptsymab = [x[1] for x in medcorrsmab]\n",
    "plt.title('Correlation Coefficient of MAB SST and GSI All Ensembles', fontsize='16', pad='20') \n",
    "plt.scatter(lowcorrsptsymab, lowcorrsptsxmab, c='r', label='Low Resolution')\n",
    "plt.scatter(medcorrsptsymab, medcorrsptsxmab, c='b', label='Med Resolution')\n",
    "plt.axhline(y = annual_neus_obs_corr, color = \"black\")\n",
    "plt.xticks([1,2,3,4,5], ['1', '2', '3', '4', '5']) \n",
    "plt.legend(ncol=4, loc='lower right', frameon=False, fontsize=12, bbox_to_anchor=(0.5, 0., 0.5, 0.5))\n",
    "plt.xlabel('Ensemble') \n",
    "plt.ylabel('Correlation Coefficient') "
   ]
  },
  {
   "cell_type": "code",
   "execution_count": 38,
   "id": "13f6cc2c-bb30-4a45-b082-f1eb9c6892cd",
   "metadata": {},
   "outputs": [],
   "source": [
    "nullhypothesisvaluegom = annual_gom_obs_corr\n",
    "corrlowgom = np.array(lowcorrsptsgomx)\n",
    "corrmedgom = np.array(medcorrsptsgomx)\n",
    "t_obslowgom, p_valuelowgom = ttest_1samp(corrlowgom, nullhypothesisvaluegom)\n",
    "t_obsmedgom, p_valuemedgom = ttest_1samp(corrmedgom, nullhypothesisvaluegom)"
   ]
  },
  {
   "cell_type": "code",
   "execution_count": 39,
   "id": "74be7d65-4923-4de4-a2e7-4b71b0f3180c",
   "metadata": {},
   "outputs": [
    {
     "data": {
      "text/plain": [
       "0.2111063058333432"
      ]
     },
     "execution_count": 39,
     "metadata": {},
     "output_type": "execute_result"
    }
   ],
   "source": [
    "p_valuelowgom"
   ]
  },
  {
   "cell_type": "code",
   "execution_count": 40,
   "id": "dca5e11c-6f51-4534-be1f-e0f370b90353",
   "metadata": {},
   "outputs": [
    {
     "data": {
      "text/plain": [
       "0.1362721533582231"
      ]
     },
     "execution_count": 40,
     "metadata": {},
     "output_type": "execute_result"
    }
   ],
   "source": [
    "p_valuemedgom"
   ]
  },
  {
   "cell_type": "code",
   "execution_count": 41,
   "id": "6b2d0833-23e2-4f9b-93e3-c69504eb834d",
   "metadata": {},
   "outputs": [],
   "source": [
    "nullhypothesisvalue = annual_neus_obs_corr\n",
    "corrlow = np.array(lowcorrsptsx)\n",
    "corrmed = np.array(medcorrsptsx)\n",
    "t_obslow, p_valuelow = ttest_1samp(corrlow, nullhypothesisvalue)\n",
    "t_obsmed, p_valuemed = ttest_1samp(corrmed, nullhypothesisvalue)"
   ]
  },
  {
   "cell_type": "code",
   "execution_count": 42,
   "id": "ab5562f3-fb17-41ab-a617-6d558729de90",
   "metadata": {},
   "outputs": [],
   "source": [
    "t_statisticlow = scipy.stats.t.ppf(1-0.05, 4)"
   ]
  },
  {
   "cell_type": "code",
   "execution_count": 43,
   "id": "ec4c7634-a94d-4e33-bbe9-cac7d9a50fa8",
   "metadata": {},
   "outputs": [],
   "source": [
    "t_statisticmed = scipy.stats.t.ppf(1-0.05, 4)"
   ]
  },
  {
   "cell_type": "code",
   "execution_count": 44,
   "id": "01990267-5229-4846-8e4f-f40745397226",
   "metadata": {},
   "outputs": [
    {
     "data": {
      "text/plain": [
       "0.3013338481910916"
      ]
     },
     "execution_count": 44,
     "metadata": {},
     "output_type": "execute_result"
    }
   ],
   "source": [
    "p_valuelow"
   ]
  },
  {
   "cell_type": "code",
   "execution_count": 45,
   "id": "faf258f5-1756-4e8a-9457-6d433ded63b1",
   "metadata": {},
   "outputs": [
    {
     "data": {
      "text/plain": [
       "0.27529215242728444"
      ]
     },
     "execution_count": 45,
     "metadata": {},
     "output_type": "execute_result"
    }
   ],
   "source": [
    "p_valuemed"
   ]
  },
  {
   "cell_type": "code",
   "execution_count": 46,
   "id": "2d540fcf-6bf1-4fb7-85bf-84eacf477620",
   "metadata": {},
   "outputs": [],
   "source": [
    "nullhypothesisvaluemab = annual_mab_obs_corr\n",
    "corrlowmab = np.array(lowcorrsptsxmab)\n",
    "corrmedmab = np.array(medcorrsptsxmab)\n",
    "t_obslowmab, p_valuelowmab = ttest_1samp(corrlowmab, nullhypothesisvaluemab)\n",
    "t_obsmedmab, p_valuemedmab = ttest_1samp(corrmedmab, nullhypothesisvaluemab)"
   ]
  },
  {
   "cell_type": "code",
   "execution_count": 47,
   "id": "e85af854-8f95-4cd0-b6f0-b51633511ed7",
   "metadata": {},
   "outputs": [
    {
     "data": {
      "text/plain": [
       "0.6472271566044193"
      ]
     },
     "execution_count": 47,
     "metadata": {},
     "output_type": "execute_result"
    }
   ],
   "source": [
    "p_valuelowmab"
   ]
  },
  {
   "cell_type": "code",
   "execution_count": 48,
   "id": "f09eb681-6da8-4134-b358-65c00de134f2",
   "metadata": {},
   "outputs": [
    {
     "data": {
      "text/plain": [
       "0.39475938817006606"
      ]
     },
     "execution_count": 48,
     "metadata": {},
     "output_type": "execute_result"
    }
   ],
   "source": [
    "p_valuemedmab"
   ]
  },
  {
   "cell_type": "code",
   "execution_count": 49,
   "id": "ae14975c-a4c5-410d-9aff-07487258a797",
   "metadata": {},
   "outputs": [],
   "source": [
    "lowcorravg = (annual_neus_low1_corr + annual_neus_low2_corr + annual_neus_low3_corr + annual_neus_low4_corr + annual_neus_low5_corr)/5\n",
    "medcorravg = (annual_neus_med1_corr + annual_neus_med2_corr + annual_neus_med3_corr + annual_neus_med4_corr + annual_neus_med5_corr)/5"
   ]
  },
  {
   "cell_type": "code",
   "execution_count": 50,
   "id": "bcb8ed0e-2feb-4c19-a55e-ba8708a93688",
   "metadata": {},
   "outputs": [],
   "source": [
    "lowcorravggom = (annual_gom_low1_corr + annual_gom_low2_corr + annual_gom_low3_corr + annual_gom_low4_corr + annual_gom_low5_corr)/5\n",
    "medcorravggom = (annual_gom_med1_corr + annual_gom_med2_corr + annual_gom_med3_corr + annual_gom_med4_corr + annual_gom_med5_corr)/5"
   ]
  },
  {
   "cell_type": "code",
   "execution_count": 51,
   "id": "f671a23c-d0fe-4328-adcb-2d8346d693f9",
   "metadata": {},
   "outputs": [
    {
     "data": {
      "text/plain": [
       "0.1931230873563547"
      ]
     },
     "execution_count": 51,
     "metadata": {},
     "output_type": "execute_result"
    }
   ],
   "source": [
    "lowcorravg "
   ]
  },
  {
   "cell_type": "code",
   "execution_count": 52,
   "id": "06bc92f4-665c-44fe-ba4d-cb1e90f70159",
   "metadata": {},
   "outputs": [],
   "source": [
    "lowcorrerror = abs(t_statisticlow * (statistics.stdev([annual_neus_low1_corr, annual_neus_low2_corr, annual_neus_low3_corr, annual_neus_low4_corr, annual_neus_low5_corr])/(5**.5)))"
   ]
  },
  {
   "cell_type": "code",
   "execution_count": 53,
   "id": "e78c5c6b-d144-4acb-836b-c4c33aa47d0f",
   "metadata": {},
   "outputs": [],
   "source": [
    "lowcorrerrorgom = abs(t_statisticlow * (statistics.stdev([annual_gom_low1_corr, annual_gom_low2_corr, annual_gom_low3_corr, annual_gom_low4_corr, annual_gom_low5_corr])/(5**.5)))"
   ]
  },
  {
   "cell_type": "code",
   "execution_count": 54,
   "id": "e587f012-d68f-4388-9bd2-8dee19587b67",
   "metadata": {},
   "outputs": [
    {
     "data": {
      "text/plain": [
       "2.131846786326649"
      ]
     },
     "execution_count": 54,
     "metadata": {},
     "output_type": "execute_result"
    }
   ],
   "source": [
    "t_statisticlow"
   ]
  },
  {
   "cell_type": "code",
   "execution_count": 55,
   "id": "8f546c46-15c2-4bfa-b4cd-232716382a1a",
   "metadata": {},
   "outputs": [
    {
     "data": {
      "text/plain": [
       "0.49352550902736203"
      ]
     },
     "execution_count": 55,
     "metadata": {},
     "output_type": "execute_result"
    }
   ],
   "source": [
    "lowcorrerror"
   ]
  },
  {
   "cell_type": "code",
   "execution_count": 56,
   "id": "58815407-67b7-4b79-bda9-df40fb8f29f3",
   "metadata": {},
   "outputs": [
    {
     "data": {
      "text/plain": [
       "0.30304695161821715"
      ]
     },
     "execution_count": 56,
     "metadata": {},
     "output_type": "execute_result"
    }
   ],
   "source": [
    "medcorravg"
   ]
  },
  {
   "cell_type": "code",
   "execution_count": 57,
   "id": "ff2c2538-b046-4d30-b742-d059990dd026",
   "metadata": {},
   "outputs": [],
   "source": [
    "medcorrerror = abs(t_statisticmed * (statistics.stdev([annual_neus_med1_corr, annual_neus_med2_corr, annual_neus_med3_corr, annual_neus_med4_corr, annual_neus_med5_corr])/(5**.5)))"
   ]
  },
  {
   "cell_type": "code",
   "execution_count": 58,
   "id": "5e5de519-2461-4ea5-94f8-d342d5981930",
   "metadata": {},
   "outputs": [],
   "source": [
    "medcorrerrorgom = abs(t_statisticmed * (statistics.stdev([annual_gom_med1_corr, annual_gom_med2_corr, annual_gom_med3_corr, annual_gom_med4_corr, annual_gom_med5_corr])/(5**.5)))"
   ]
  },
  {
   "cell_type": "code",
   "execution_count": 59,
   "id": "cd19f8d1-4ab9-4f7f-aea4-e72befa7e17d",
   "metadata": {},
   "outputs": [
    {
     "data": {
      "text/plain": [
       "0.27787491775860185"
      ]
     },
     "execution_count": 59,
     "metadata": {},
     "output_type": "execute_result"
    }
   ],
   "source": [
    "medcorrerror"
   ]
  },
  {
   "cell_type": "code",
   "execution_count": 60,
   "id": "0f676ab1-1c12-4b9d-8a02-e8c20e3ead35",
   "metadata": {},
   "outputs": [
    {
     "data": {
      "text/plain": [
       "Text(1.7, -0.15, 'p-value: 0.275')"
      ]
     },
     "execution_count": 60,
     "metadata": {},
     "output_type": "execute_result"
    },
    {
     "data": {
      "image/png": "[encoded data removed]",
      "text/plain": [
       "<Figure size 640x480 with 1 Axes>"
      ]
     },
     "metadata": {},
     "output_type": "display_data"
    }
   ],
   "source": [
    "plt.title('Correlation Coefficient of mean NEUS SST and GSI', fontsize='16', pad='20') \n",
    "plt.errorbar(2, medcorravg, yerr=np.array([medcorrerror]), fmt='o', capsize=5, c='b')\n",
    "plt.errorbar(1, lowcorravg, yerr=np.array([lowcorrerror]), fmt='o', capsize=5, c='r')\n",
    "plt.xlim(0,3) \n",
    "plt.ylim(-1,1) \n",
    "plt.xticks([1, 2], ['Low Corr Avg', 'Med Corr Avg'])\n",
    "plt.ylabel('Correlation Coefficient') \n",
    "plt.axhline(y = annual_neus_obs_corr, color = \"black\")\n",
    "plt.annotate('Observed correlation', (.05,.5)) \n",
    "plt.scatter([1,1,1,1,1], lowcorrsptsx, c='lightcoral', label='Low Resolution',marker='x')\n",
    "plt.scatter([2,2,2,2,2], medcorrsptsx, c='lightblue', label='Med Resolution', marker='x')\n",
    "plt.annotate(f'p-value: {float(str(p_valuelow)[:5])}', (.7, -.4), bbox=dict(boxstyle=\"square,pad=0.3\", fc=\"lightcoral\", ec=\"brown\", lw=2))\n",
    "plt.annotate(f'p-value: {float(str(p_valuemed)[:5])}', (1.7, -.15), bbox=dict(boxstyle=\"square,pad=0.3\", fc=\"lightblue\", ec=\"steelblue\", lw=2))"
   ]
  },
  {
   "cell_type": "code",
   "execution_count": 61,
   "id": "8ab24bfa-3a5b-4241-adf7-097fc8046159",
   "metadata": {},
   "outputs": [
    {
     "data": {
      "text/plain": [
       "Text(1.7, -0.5, 'p-value: 0.136')"
      ]
     },
     "execution_count": 61,
     "metadata": {},
     "output_type": "execute_result"
    },
    {
     "data": {
      "image/png": "[encoded data removed]",
      "text/plain": [
       "<Figure size 640x480 with 1 Axes>"
      ]
     },
     "metadata": {},
     "output_type": "display_data"
    }
   ],
   "source": [
    "plt.title('Correlation Coefficient of mean GOM SST and GSI', fontsize='16', pad='20') \n",
    "plt.errorbar(2, medcorravggom, yerr=np.array([medcorrerrorgom]), fmt='o', capsize=5, c='b')\n",
    "plt.errorbar(1, lowcorravggom, yerr=np.array([lowcorrerrorgom]), fmt='o', capsize=5, c='r')\n",
    "plt.xlim(0,3) \n",
    "plt.ylim(-1,1) \n",
    "plt.xticks([1, 2], ['Low Corr Avg', 'Med Corr Avg'])\n",
    "plt.ylabel('Correlation Coefficient') \n",
    "plt.axhline(y = annual_gom_obs_corr, color = \"black\")\n",
    "plt.annotate('Observed correlation', (.05,.5))\n",
    "plt.scatter([1,1,1,1,1], lowcorrsptsgomx, c='lightcoral', label='Low Resolution',marker='x')\n",
    "plt.scatter([2,2,2,2,2], medcorrsptsgomx, c='lightblue', label='Med Resolution', marker='x')\n",
    "plt.annotate(f'p-value: {float(str(p_valuelowgom)[:5])}', (.7, -.85), bbox=dict(boxstyle=\"square,pad=0.3\", fc=\"lightcoral\", ec=\"brown\", lw=2))\n",
    "plt.annotate(f'p-value: {float(str(p_valuemedgom)[:5])}', (1.7, -.5), bbox=dict(boxstyle=\"square,pad=0.3\", fc=\"lightblue\", ec=\"steelblue\", lw=2))"
   ]
  },
  {
   "cell_type": "code",
   "execution_count": 62,
   "id": "0e69ca3f-57e4-4da6-9c3c-99ce6a29ee78",
   "metadata": {},
   "outputs": [],
   "source": [
    "medmembers = []\n",
    "nens = 5\n",
    "for ens in range(1, nens+1):\n",
    "    root = Path(f'/archive/Harris.Longfield/fre/NWA/2024_06/NWA12_COBALT_2024_06_medatm_ens_{ens}/gfdl.ncrc5-intel22-prod')\n",
    "    mld = open_var(root, 'ocean_monthly', 'ssh')\n",
    "    medmembers.append(mld)\n",
    "\n",
    "all_members_med = xarray.concat(medmembers, dim='member')"
   ]
  },
  {
   "cell_type": "code",
   "execution_count": 63,
   "id": "ca573d97-382b-4c16-9e14-9cc3726af1a3",
   "metadata": {},
   "outputs": [
    {
     "data": {
      "text/plain": [
       "xarray.core.dataarray.DataArray"
      ]
     },
     "execution_count": 63,
     "metadata": {},
     "output_type": "execute_result"
    }
   ],
   "source": [
    "type(all_members_med) "
   ]
  },
  {
   "cell_type": "code",
   "execution_count": 64,
   "id": "5b895e1b-f647-45c9-9ca8-61b23ab7a5a6",
   "metadata": {},
   "outputs": [
    {
     "data": {
      "text/html": [
       "<div><svg style=\"position: absolute; width: 0; height: 0; overflow: hidden\">\n",
       "<defs>\n",
       "<symbol id=\"icon-database\" viewBox=\"0 0 32 32\">\n",
       "<path d=\"M16 0c-8.837 0-16 2.239-16 5v4c0 2.761 7.163 5 16 5s16-2.239 16-5v-4c0-2.761-7.163-5-16-5z\"></path>\n",
       "<path d=\"M16 17c-8.837 0-16-2.239-16-5v6c0 2.761 7.163 5 16 5s16-2.239 16-5v-6c0 2.761-7.163 5-16 5z\"></path>\n",
       "<path d=\"M16 26c-8.837 0-16-2.239-16-5v6c0 2.761 7.163 5 16 5s16-2.239 16-5v-6c0 2.761-7.163 5-16 5z\"></path>\n",
       "</symbol>\n",
       "<symbol id=\"icon-file-text2\" viewBox=\"0 0 32 32\">\n",
       "<path d=\"M28.681 7.159c-0.694-0.947-1.662-2.053-2.724-3.116s-2.169-2.030-3.116-2.724c-1.612-1.182-2.393-1.319-2.841-1.319h-15.5c-1.378 0-2.5 1.121-2.5 2.5v27c0 1.378 1.122 2.5 2.5 2.5h23c1.378 0 2.5-1.122 2.5-2.5v-19.5c0-0.448-0.137-1.23-1.319-2.841zM24.543 5.457c0.959 0.959 1.712 1.825 2.268 2.543h-4.811v-4.811c0.718 0.556 1.584 1.309 2.543 2.268zM28 29.5c0 0.271-0.229 0.5-0.5 0.5h-23c-0.271 0-0.5-0.229-0.5-0.5v-27c0-0.271 0.229-0.5 0.5-0.5 0 0 15.499-0 15.5 0v7c0 0.552 0.448 1 1 1h7v19.5z\"></path>\n",
       "<path d=\"M23 26h-14c-0.552 0-1-0.448-1-1s0.448-1 1-1h14c0.552 0 1 0.448 1 1s-0.448 1-1 1z\"></path>\n",
       "<path d=\"M23 22h-14c-0.552 0-1-0.448-1-1s0.448-1 1-1h14c0.552 0 1 0.448 1 1s-0.448 1-1 1z\"></path>\n",
       "<path d=\"M23 18h-14c-0.552 0-1-0.448-1-1s0.448-1 1-1h14c0.552 0 1 0.448 1 1s-0.448 1-1 1z\"></path>\n",
       "</symbol>\n",
       "</defs>\n",
       "</svg>\n",
       "<style>/* CSS stylesheet for displaying xarray objects in jupyterlab.\n",
       " *\n",
       " */\n",
       "\n",
       ":root {\n",
       "  --xr-font-color0: var(--jp-content-font-color0, rgba(0, 0, 0, 1));\n",
       "  --xr-font-color2: var(--jp-content-font-color2, rgba(0, 0, 0, 0.54));\n",
       "  --xr-font-color3: var(--jp-content-font-color3, rgba(0, 0, 0, 0.38));\n",
       "  --xr-border-color: var(--jp-border-color2, #e0e0e0);\n",
       "  --xr-disabled-color: var(--jp-layout-color3, #bdbdbd);\n",
       "  --xr-background-color: var(--jp-layout-color0, white);\n",
       "  --xr-background-color-row-even: var(--jp-layout-color1, white);\n",
       "  --xr-background-color-row-odd: var(--jp-layout-color2, #eeeeee);\n",
       "}\n",
       "\n",
       "html[theme=dark],\n",
       "body[data-theme=dark],\n",
       "body.vscode-dark {\n",
       "  --xr-font-color0: rgba(255, 255, 255, 1);\n",
       "  --xr-font-color2: rgba(255, 255, 255, 0.54);\n",
       "  --xr-font-color3: rgba(255, 255, 255, 0.38);\n",
       "  --xr-border-color: #1F1F1F;\n",
       "  --xr-disabled-color: #515151;\n",
       "  --xr-background-color: #111111;\n",
       "  --xr-background-color-row-even: #111111;\n",
       "  --xr-background-color-row-odd: #313131;\n",
       "}\n",
       "\n",
       ".xr-wrap {\n",
       "  display: block !important;\n",
       "  min-width: 300px;\n",
       "  max-width: 700px;\n",
       "}\n",
       "\n",
       ".xr-text-repr-fallback {\n",
       "  /* fallback to plain text repr when CSS is not injected (untrusted notebook) */\n",
       "  display: none;\n",
       "}\n",
       "\n",
       ".xr-header {\n",
       "  padding-top: 6px;\n",
       "  padding-bottom: 6px;\n",
       "  margin-bottom: 4px;\n",
       "  border-bottom: solid 1px var(--xr-border-color);\n",
       "}\n",
       "\n",
       ".xr-header > div,\n",
       ".xr-header > ul {\n",
       "  display: inline;\n",
       "  margin-top: 0;\n",
       "  margin-bottom: 0;\n",
       "}\n",
       "\n",
       ".xr-obj-type,\n",
       ".xr-array-name {\n",
       "  margin-left: 2px;\n",
       "  margin-right: 10px;\n",
       "}\n",
       "\n",
       ".xr-obj-type {\n",
       "  color: var(--xr-font-color2);\n",
       "}\n",
       "\n",
       ".xr-sections {\n",
       "  padding-left: 0 !important;\n",
       "  display: grid;\n",
       "  grid-template-columns: 150px auto auto 1fr 20px 20px;\n",
       "}\n",
       "\n",
       ".xr-section-item {\n",
       "  display: contents;\n",
       "}\n",
       "\n",
       ".xr-section-item input {\n",
       "  display: none;\n",
       "}\n",
       "\n",
       ".xr-section-item input + label {\n",
       "  color: var(--xr-disabled-color);\n",
       "}\n",
       "\n",
       ".xr-section-item input:enabled + label {\n",
       "  cursor: pointer;\n",
       "  color: var(--xr-font-color2);\n",
       "}\n",
       "\n",
       ".xr-section-item input:enabled + label:hover {\n",
       "  color: var(--xr-font-color0);\n",
       "}\n",
       "\n",
       ".xr-section-summary {\n",
       "  grid-column: 1;\n",
       "  color: var(--xr-font-color2);\n",
       "  font-weight: 500;\n",
       "}\n",
       "\n",
       ".xr-section-summary > span {\n",
       "  display: inline-block;\n",
       "  padding-left: 0.5em;\n",
       "}\n",
       "\n",
       ".xr-section-summary-in:disabled + label {\n",
       "  color: var(--xr-font-color2);\n",
       "}\n",
       "\n",
       ".xr-section-summary-in + label:before {\n",
       "  display: inline-block;\n",
       "  content: '►';\n",
       "  font-size: 11px;\n",
       "  width: 15px;\n",
       "  text-align: center;\n",
       "}\n",
       "\n",
       ".xr-section-summary-in:disabled + label:before {\n",
       "  color: var(--xr-disabled-color);\n",
       "}\n",
       "\n",
       ".xr-section-summary-in:checked + label:before {\n",
       "  content: '▼';\n",
       "}\n",
       "\n",
       ".xr-section-summary-in:checked + label > span {\n",
       "  display: none;\n",
       "}\n",
       "\n",
       ".xr-section-summary,\n",
       ".xr-section-inline-details {\n",
       "  padding-top: 4px;\n",
       "  padding-bottom: 4px;\n",
       "}\n",
       "\n",
       ".xr-section-inline-details {\n",
       "  grid-column: 2 / -1;\n",
       "}\n",
       "\n",
       ".xr-section-details {\n",
       "  display: none;\n",
       "  grid-column: 1 / -1;\n",
       "  margin-bottom: 5px;\n",
       "}\n",
       "\n",
       ".xr-section-summary-in:checked ~ .xr-section-details {\n",
       "  display: contents;\n",
       "}\n",
       "\n",
       ".xr-array-wrap {\n",
       "  grid-column: 1 / -1;\n",
       "  display: grid;\n",
       "  grid-template-columns: 20px auto;\n",
       "}\n",
       "\n",
       ".xr-array-wrap > label {\n",
       "  grid-column: 1;\n",
       "  vertical-align: top;\n",
       "}\n",
       "\n",
       ".xr-preview {\n",
       "  color: var(--xr-font-color3);\n",
       "}\n",
       "\n",
       ".xr-array-preview,\n",
       ".xr-array-data {\n",
       "  padding: 0 5px !important;\n",
       "  grid-column: 2;\n",
       "}\n",
       "\n",
       ".xr-array-data,\n",
       ".xr-array-in:checked ~ .xr-array-preview {\n",
       "  display: none;\n",
       "}\n",
       "\n",
       ".xr-array-in:checked ~ .xr-array-data,\n",
       ".xr-array-preview {\n",
       "  display: inline-block;\n",
       "}\n",
       "\n",
       ".xr-dim-list {\n",
       "  display: inline-block !important;\n",
       "  list-style: none;\n",
       "  padding: 0 !important;\n",
       "  margin: 0;\n",
       "}\n",
       "\n",
       ".xr-dim-list li {\n",
       "  display: inline-block;\n",
       "  padding: 0;\n",
       "  margin: 0;\n",
       "}\n",
       "\n",
       ".xr-dim-list:before {\n",
       "  content: '(';\n",
       "}\n",
       "\n",
       ".xr-dim-list:after {\n",
       "  content: ')';\n",
       "}\n",
       "\n",
       ".xr-dim-list li:not(:last-child):after {\n",
       "  content: ',';\n",
       "  padding-right: 5px;\n",
       "}\n",
       "\n",
       ".xr-has-index {\n",
       "  font-weight: bold;\n",
       "}\n",
       "\n",
       ".xr-var-list,\n",
       ".xr-var-item {\n",
       "  display: contents;\n",
       "}\n",
       "\n",
       ".xr-var-item > div,\n",
       ".xr-var-item label,\n",
       ".xr-var-item > .xr-var-name span {\n",
       "  background-color: var(--xr-background-color-row-even);\n",
       "  margin-bottom: 0;\n",
       "}\n",
       "\n",
       ".xr-var-item > .xr-var-name:hover span {\n",
       "  padding-right: 5px;\n",
       "}\n",
       "\n",
       ".xr-var-list > li:nth-child(odd) > div,\n",
       ".xr-var-list > li:nth-child(odd) > label,\n",
       ".xr-var-list > li:nth-child(odd) > .xr-var-name span {\n",
       "  background-color: var(--xr-background-color-row-odd);\n",
       "}\n",
       "\n",
       ".xr-var-name {\n",
       "  grid-column: 1;\n",
       "}\n",
       "\n",
       ".xr-var-dims {\n",
       "  grid-column: 2;\n",
       "}\n",
       "\n",
       ".xr-var-dtype {\n",
       "  grid-column: 3;\n",
       "  text-align: right;\n",
       "  color: var(--xr-font-color2);\n",
       "}\n",
       "\n",
       ".xr-var-preview {\n",
       "  grid-column: 4;\n",
       "}\n",
       "\n",
       ".xr-index-preview {\n",
       "  grid-column: 2 / 5;\n",
       "  color: var(--xr-font-color2);\n",
       "}\n",
       "\n",
       ".xr-var-name,\n",
       ".xr-var-dims,\n",
       ".xr-var-dtype,\n",
       ".xr-preview,\n",
       ".xr-attrs dt {\n",
       "  white-space: nowrap;\n",
       "  overflow: hidden;\n",
       "  text-overflow: ellipsis;\n",
       "  padding-right: 10px;\n",
       "}\n",
       "\n",
       ".xr-var-name:hover,\n",
       ".xr-var-dims:hover,\n",
       ".xr-var-dtype:hover,\n",
       ".xr-attrs dt:hover {\n",
       "  overflow: visible;\n",
       "  width: auto;\n",
       "  z-index: 1;\n",
       "}\n",
       "\n",
       ".xr-var-attrs,\n",
       ".xr-var-data,\n",
       ".xr-index-data {\n",
       "  display: none;\n",
       "  background-color: var(--xr-background-color) !important;\n",
       "  padding-bottom: 5px !important;\n",
       "}\n",
       "\n",
       ".xr-var-attrs-in:checked ~ .xr-var-attrs,\n",
       ".xr-var-data-in:checked ~ .xr-var-data,\n",
       ".xr-index-data-in:checked ~ .xr-index-data {\n",
       "  display: block;\n",
       "}\n",
       "\n",
       ".xr-var-data > table {\n",
       "  float: right;\n",
       "}\n",
       "\n",
       ".xr-var-name span,\n",
       ".xr-var-data,\n",
       ".xr-index-name div,\n",
       ".xr-index-data,\n",
       ".xr-attrs {\n",
       "  padding-left: 25px !important;\n",
       "}\n",
       "\n",
       ".xr-attrs,\n",
       ".xr-var-attrs,\n",
       ".xr-var-data,\n",
       ".xr-index-data {\n",
       "  grid-column: 1 / -1;\n",
       "}\n",
       "\n",
       "dl.xr-attrs {\n",
       "  padding: 0;\n",
       "  margin: 0;\n",
       "  display: grid;\n",
       "  grid-template-columns: 125px auto;\n",
       "}\n",
       "\n",
       ".xr-attrs dt,\n",
       ".xr-attrs dd {\n",
       "  padding: 0;\n",
       "  margin: 0;\n",
       "  float: left;\n",
       "  padding-right: 10px;\n",
       "  width: auto;\n",
       "}\n",
       "\n",
       ".xr-attrs dt {\n",
       "  font-weight: normal;\n",
       "  grid-column: 1;\n",
       "}\n",
       "\n",
       ".xr-attrs dt:hover span {\n",
       "  display: inline-block;\n",
       "  background: var(--xr-background-color);\n",
       "  padding-right: 10px;\n",
       "}\n",
       "\n",
       ".xr-attrs dd {\n",
       "  grid-column: 2;\n",
       "  white-space: pre-wrap;\n",
       "  word-break: break-all;\n",
       "}\n",
       "\n",
       ".xr-icon-database,\n",
       ".xr-icon-file-text2,\n",
       ".xr-no-icon {\n",
       "  display: inline-block;\n",
       "  vertical-align: middle;\n",
       "  width: 1em;\n",
       "  height: 1.5em !important;\n",
       "  stroke-width: 0;\n",
       "  stroke: currentColor;\n",
       "  fill: currentColor;\n",
       "}\n",
       "</style><pre class='xr-text-repr-fallback'>&lt;xarray.DataArray &#x27;ssh&#x27; (member: 5, time: 360, yh: 845, xh: 775)&gt; Size: 5GB\n",
       "dask.array&lt;concatenate, shape=(5, 360, 845, 775), dtype=float32, chunksize=(1, 60, 845, 775), chunktype=numpy.ndarray&gt;\n",
       "Coordinates:\n",
       "  * time     (time) datetime64[ns] 3kB 1993-01-16T12:00:00 ... 2022-12-16T12:...\n",
       "  * xh       (xh) float64 6kB -98.0 -97.92 -97.84 ... -36.24 -36.16 -36.08\n",
       "  * yh       (yh) float64 7kB 5.273 5.352 5.432 5.511 ... 51.88 51.9 51.91 51.93\n",
       "Dimensions without coordinates: member\n",
       "Attributes:\n",
       "    units:          m\n",
       "    long_name:      Sea Surface Height\n",
       "    cell_methods:   area:mean yh:mean xh:mean time: mean\n",
       "    cell_measures:  area: areacello\n",
       "    time_avg_info:  average_T1,average_T2,average_DT</pre><div class='xr-wrap' style='display:none'><div class='xr-header'><div class='xr-obj-type'>xarray.DataArray</div><div class='xr-array-name'>'ssh'</div><ul class='xr-dim-list'><li><span>member</span>: 5</li><li><span class='xr-has-index'>time</span>: 360</li><li><span class='xr-has-index'>yh</span>: 845</li><li><span class='xr-has-index'>xh</span>: 775</li></ul></div><ul class='xr-sections'><li class='xr-section-item'><div class='xr-array-wrap'><input id='section-77098c2d-878c-4fa6-99f2-03881b8a90ef' class='xr-array-in' type='checkbox' checked><label for='section-77098c2d-878c-4fa6-99f2-03881b8a90ef' title='Show/hide data repr'><svg class='icon xr-icon-database'><use xlink:href='#icon-database'></use></svg></label><div class='xr-array-preview xr-preview'><span>dask.array&lt;chunksize=(1, 60, 845, 775), meta=np.ndarray&gt;</span></div><div class='xr-array-data'><table>\n",
       "    <tr>\n",
       "        <td>\n",
       "            <table style=\"border-collapse: collapse;\">\n",
       "                <thead>\n",
       "                    <tr>\n",
       "                        <td> </td>\n",
       "                        <th> Array </th>\n",
       "                        <th> Chunk </th>\n",
       "                    </tr>\n",
       "                </thead>\n",
       "                <tbody>\n",
       "                    \n",
       "                    <tr>\n",
       "                        <th> Bytes </th>\n",
       "                        <td> 4.39 GiB </td>\n",
       "                        <td> 149.89 MiB </td>\n",
       "                    </tr>\n",
       "                    \n",
       "                    <tr>\n",
       "                        <th> Shape </th>\n",
       "                        <td> (5, 360, 845, 775) </td>\n",
       "                        <td> (1, 60, 845, 775) </td>\n",
       "                    </tr>\n",
       "                    <tr>\n",
       "                        <th> Dask graph </th>\n",
       "                        <td colspan=\"2\"> 30 chunks in 71 graph layers </td>\n",
       "                    </tr>\n",
       "                    <tr>\n",
       "                        <th> Data type </th>\n",
       "                        <td colspan=\"2\"> float32 numpy.ndarray </td>\n",
       "                    </tr>\n",
       "                </tbody>\n",
       "            </table>\n",
       "        </td>\n",
       "        <td>\n",
       "        <svg width=\"380\" height=\"200\" style=\"stroke:rgb(0,0,0);stroke-width:1\" >\n",
       "\n",
       "  <!-- Horizontal lines -->\n",
       "  <line x1=\"0\" y1=\"0\" x2=\"25\" y2=\"0\" style=\"stroke-width:2\" />\n",
       "  <line x1=\"0\" y1=\"25\" x2=\"25\" y2=\"25\" style=\"stroke-width:2\" />\n",
       "\n",
       "  <!-- Vertical lines -->\n",
       "  <line x1=\"0\" y1=\"0\" x2=\"0\" y2=\"25\" style=\"stroke-width:2\" />\n",
       "  <line x1=\"5\" y1=\"0\" x2=\"5\" y2=\"25\" />\n",
       "  <line x1=\"10\" y1=\"0\" x2=\"10\" y2=\"25\" />\n",
       "  <line x1=\"15\" y1=\"0\" x2=\"15\" y2=\"25\" />\n",
       "  <line x1=\"20\" y1=\"0\" x2=\"20\" y2=\"25\" />\n",
       "  <line x1=\"25\" y1=\"0\" x2=\"25\" y2=\"25\" style=\"stroke-width:2\" />\n",
       "\n",
       "  <!-- Colored Rectangle -->\n",
       "  <polygon points=\"0.0,0.0 25.412616514582485,0.0 25.412616514582485,25.412616514582485 0.0,25.412616514582485\" style=\"fill:#ECB172A0;stroke-width:0\"/>\n",
       "\n",
       "  <!-- Text -->\n",
       "  <text x=\"12.706308\" y=\"45.412617\" font-size=\"1.0rem\" font-weight=\"100\" text-anchor=\"middle\" >5</text>\n",
       "  <text x=\"45.412617\" y=\"12.706308\" font-size=\"1.0rem\" font-weight=\"100\" text-anchor=\"middle\" transform=\"rotate(0,45.412617,12.706308)\">1</text>\n",
       "\n",
       "\n",
       "  <!-- Horizontal lines -->\n",
       "  <line x1=\"95\" y1=\"0\" x2=\"125\" y2=\"30\" style=\"stroke-width:2\" />\n",
       "  <line x1=\"95\" y1=\"120\" x2=\"125\" y2=\"150\" style=\"stroke-width:2\" />\n",
       "\n",
       "  <!-- Vertical lines -->\n",
       "  <line x1=\"95\" y1=\"0\" x2=\"95\" y2=\"120\" style=\"stroke-width:2\" />\n",
       "  <line x1=\"100\" y1=\"5\" x2=\"100\" y2=\"125\" />\n",
       "  <line x1=\"105\" y1=\"10\" x2=\"105\" y2=\"130\" />\n",
       "  <line x1=\"110\" y1=\"15\" x2=\"110\" y2=\"135\" />\n",
       "  <line x1=\"115\" y1=\"20\" x2=\"115\" y2=\"140\" />\n",
       "  <line x1=\"120\" y1=\"25\" x2=\"120\" y2=\"145\" />\n",
       "  <line x1=\"125\" y1=\"30\" x2=\"125\" y2=\"150\" style=\"stroke-width:2\" />\n",
       "\n",
       "  <!-- Colored Rectangle -->\n",
       "  <polygon points=\"95.0,0.0 125.07309432648799,30.07309432648799 125.07309432648799,150.073094326488 95.0,120.0\" style=\"fill:#ECB172A0;stroke-width:0\"/>\n",
       "\n",
       "  <!-- Horizontal lines -->\n",
       "  <line x1=\"95\" y1=\"0\" x2=\"205\" y2=\"0\" style=\"stroke-width:2\" />\n",
       "  <line x1=\"100\" y1=\"5\" x2=\"210\" y2=\"5\" />\n",
       "  <line x1=\"105\" y1=\"10\" x2=\"215\" y2=\"10\" />\n",
       "  <line x1=\"110\" y1=\"15\" x2=\"220\" y2=\"15\" />\n",
       "  <line x1=\"115\" y1=\"20\" x2=\"225\" y2=\"20\" />\n",
       "  <line x1=\"120\" y1=\"25\" x2=\"230\" y2=\"25\" />\n",
       "  <line x1=\"125\" y1=\"30\" x2=\"235\" y2=\"30\" style=\"stroke-width:2\" />\n",
       "\n",
       "  <!-- Vertical lines -->\n",
       "  <line x1=\"95\" y1=\"0\" x2=\"125\" y2=\"30\" style=\"stroke-width:2\" />\n",
       "  <line x1=\"205\" y1=\"0\" x2=\"235\" y2=\"30\" style=\"stroke-width:2\" />\n",
       "\n",
       "  <!-- Colored Rectangle -->\n",
       "  <polygon points=\"95.0,0.0 205.05917159763314,0.0 235.13226592412113,30.07309432648799 125.07309432648799,30.07309432648799\" style=\"fill:#ECB172A0;stroke-width:0\"/>\n",
       "\n",
       "  <!-- Horizontal lines -->\n",
       "  <line x1=\"125\" y1=\"30\" x2=\"235\" y2=\"30\" style=\"stroke-width:2\" />\n",
       "  <line x1=\"125\" y1=\"150\" x2=\"235\" y2=\"150\" style=\"stroke-width:2\" />\n",
       "\n",
       "  <!-- Vertical lines -->\n",
       "  <line x1=\"125\" y1=\"30\" x2=\"125\" y2=\"150\" style=\"stroke-width:2\" />\n",
       "  <line x1=\"235\" y1=\"30\" x2=\"235\" y2=\"150\" style=\"stroke-width:2\" />\n",
       "\n",
       "  <!-- Colored Rectangle -->\n",
       "  <polygon points=\"125.07309432648799,30.07309432648799 235.13226592412113,30.07309432648799 235.13226592412113,150.073094326488 125.07309432648799,150.073094326488\" style=\"fill:#ECB172A0;stroke-width:0\"/>\n",
       "\n",
       "  <!-- Text -->\n",
       "  <text x=\"180.102680\" y=\"170.073094\" font-size=\"1.0rem\" font-weight=\"100\" text-anchor=\"middle\" >775</text>\n",
       "  <text x=\"255.132266\" y=\"90.073094\" font-size=\"1.0rem\" font-weight=\"100\" text-anchor=\"middle\" transform=\"rotate(-90,255.132266,90.073094)\">845</text>\n",
       "  <text x=\"100.036547\" y=\"155.036547\" font-size=\"1.0rem\" font-weight=\"100\" text-anchor=\"middle\" transform=\"rotate(45,100.036547,155.036547)\">360</text>\n",
       "</svg>\n",
       "        </td>\n",
       "    </tr>\n",
       "</table></div></div></li><li class='xr-section-item'><input id='section-95783e7d-00b8-49a6-9e0e-85580cf108a5' class='xr-section-summary-in' type='checkbox'  checked><label for='section-95783e7d-00b8-49a6-9e0e-85580cf108a5' class='xr-section-summary' >Coordinates: <span>(3)</span></label><div class='xr-section-inline-details'></div><div class='xr-section-details'><ul class='xr-var-list'><li class='xr-var-item'><div class='xr-var-name'><span class='xr-has-index'>time</span></div><div class='xr-var-dims'>(time)</div><div class='xr-var-dtype'>datetime64[ns]</div><div class='xr-var-preview xr-preview'>1993-01-16T12:00:00 ... 2022-12-...</div><input id='attrs-d3781000-d9f6-4ff1-9e2a-0786bac6e4a9' class='xr-var-attrs-in' type='checkbox' ><label for='attrs-d3781000-d9f6-4ff1-9e2a-0786bac6e4a9' title='Show/Hide attributes'><svg class='icon xr-icon-file-text2'><use xlink:href='#icon-file-text2'></use></svg></label><input id='data-b26837db-d398-4708-835c-8bf08d13bc7e' class='xr-var-data-in' type='checkbox'><label for='data-b26837db-d398-4708-835c-8bf08d13bc7e' title='Show/Hide data repr'><svg class='icon xr-icon-database'><use xlink:href='#icon-database'></use></svg></label><div class='xr-var-attrs'><dl class='xr-attrs'><dt><span>long_name :</span></dt><dd>time</dd><dt><span>axis :</span></dt><dd>T</dd><dt><span>calendar_type :</span></dt><dd>GREGORIAN</dd><dt><span>bounds :</span></dt><dd>time_bnds</dd></dl></div><div class='xr-var-data'><pre>array([&#x27;1993-01-16T12:00:00.000000000&#x27;, &#x27;1993-02-15T00:00:00.000000000&#x27;,\n",
       "       &#x27;1993-03-16T12:00:00.000000000&#x27;, ..., &#x27;2022-10-16T12:00:00.000000000&#x27;,\n",
       "       &#x27;2022-11-16T00:00:00.000000000&#x27;, &#x27;2022-12-16T12:00:00.000000000&#x27;],\n",
       "      dtype=&#x27;datetime64[ns]&#x27;)</pre></div></li><li class='xr-var-item'><div class='xr-var-name'><span class='xr-has-index'>xh</span></div><div class='xr-var-dims'>(xh)</div><div class='xr-var-dtype'>float64</div><div class='xr-var-preview xr-preview'>-98.0 -97.92 ... -36.16 -36.08</div><input id='attrs-1036e7ea-e883-4f48-915d-a874eab4f921' class='xr-var-attrs-in' type='checkbox' ><label for='attrs-1036e7ea-e883-4f48-915d-a874eab4f921' title='Show/Hide attributes'><svg class='icon xr-icon-file-text2'><use xlink:href='#icon-file-text2'></use></svg></label><input id='data-5b2e3cbb-c302-45eb-bba9-51192b6690ec' class='xr-var-data-in' type='checkbox'><label for='data-5b2e3cbb-c302-45eb-bba9-51192b6690ec' title='Show/Hide data repr'><svg class='icon xr-icon-database'><use xlink:href='#icon-database'></use></svg></label><div class='xr-var-attrs'><dl class='xr-attrs'><dt><span>units :</span></dt><dd>degrees_east</dd><dt><span>long_name :</span></dt><dd>h point nominal longitude</dd><dt><span>axis :</span></dt><dd>X</dd></dl></div><div class='xr-var-data'><pre>array([-98.      , -97.920013, -97.839996, ..., -36.23999 , -36.160004,\n",
       "       -36.079987])</pre></div></li><li class='xr-var-item'><div class='xr-var-name'><span class='xr-has-index'>yh</span></div><div class='xr-var-dims'>(yh)</div><div class='xr-var-dtype'>float64</div><div class='xr-var-preview xr-preview'>5.273 5.352 5.432 ... 51.91 51.93</div><input id='attrs-cf2344bb-e632-495e-8fdb-e13e9fc5cd74' class='xr-var-attrs-in' type='checkbox' ><label for='attrs-cf2344bb-e632-495e-8fdb-e13e9fc5cd74' title='Show/Hide attributes'><svg class='icon xr-icon-file-text2'><use xlink:href='#icon-file-text2'></use></svg></label><input id='data-df4404cc-4d54-4b99-9ebf-de005274eb9f' class='xr-var-data-in' type='checkbox'><label for='data-df4404cc-4d54-4b99-9ebf-de005274eb9f' title='Show/Hide data repr'><svg class='icon xr-icon-database'><use xlink:href='#icon-database'></use></svg></label><div class='xr-var-attrs'><dl class='xr-attrs'><dt><span>units :</span></dt><dd>degrees_north</dd><dt><span>long_name :</span></dt><dd>h point nominal latitude</dd><dt><span>axis :</span></dt><dd>Y</dd></dl></div><div class='xr-var-data'><pre>array([ 5.272542,  5.352199,  5.431845, ..., 51.895451, 51.914215, 51.932964])</pre></div></li></ul></div></li><li class='xr-section-item'><input id='section-2fcdea41-40a3-466d-b3b0-f5fb3e0a2f6c' class='xr-section-summary-in' type='checkbox'  ><label for='section-2fcdea41-40a3-466d-b3b0-f5fb3e0a2f6c' class='xr-section-summary' >Indexes: <span>(3)</span></label><div class='xr-section-inline-details'></div><div class='xr-section-details'><ul class='xr-var-list'><li class='xr-var-item'><div class='xr-index-name'><div>time</div></div><div class='xr-index-preview'>PandasIndex</div><div></div><input id='index-4d0db13e-9565-4b76-9bda-8c8f871a04b8' class='xr-index-data-in' type='checkbox'/><label for='index-4d0db13e-9565-4b76-9bda-8c8f871a04b8' title='Show/Hide index repr'><svg class='icon xr-icon-database'><use xlink:href='#icon-database'></use></svg></label><div class='xr-index-data'><pre>PandasIndex(DatetimeIndex([&#x27;1993-01-16 12:00:00&#x27;, &#x27;1993-02-15 00:00:00&#x27;,\n",
       "               &#x27;1993-03-16 12:00:00&#x27;, &#x27;1993-04-16 00:00:00&#x27;,\n",
       "               &#x27;1993-05-16 12:00:00&#x27;, &#x27;1993-06-16 00:00:00&#x27;,\n",
       "               &#x27;1993-07-16 12:00:00&#x27;, &#x27;1993-08-16 12:00:00&#x27;,\n",
       "               &#x27;1993-09-16 00:00:00&#x27;, &#x27;1993-10-16 12:00:00&#x27;,\n",
       "               ...\n",
       "               &#x27;2022-03-16 12:00:00&#x27;, &#x27;2022-04-16 00:00:00&#x27;,\n",
       "               &#x27;2022-05-16 12:00:00&#x27;, &#x27;2022-06-16 00:00:00&#x27;,\n",
       "               &#x27;2022-07-16 12:00:00&#x27;, &#x27;2022-08-16 12:00:00&#x27;,\n",
       "               &#x27;2022-09-16 00:00:00&#x27;, &#x27;2022-10-16 12:00:00&#x27;,\n",
       "               &#x27;2022-11-16 00:00:00&#x27;, &#x27;2022-12-16 12:00:00&#x27;],\n",
       "              dtype=&#x27;datetime64[ns]&#x27;, name=&#x27;time&#x27;, length=360, freq=None))</pre></div></li><li class='xr-var-item'><div class='xr-index-name'><div>xh</div></div><div class='xr-index-preview'>PandasIndex</div><div></div><input id='index-a3b600ba-78e4-4a9c-afe2-07240eec7dad' class='xr-index-data-in' type='checkbox'/><label for='index-a3b600ba-78e4-4a9c-afe2-07240eec7dad' title='Show/Hide index repr'><svg class='icon xr-icon-database'><use xlink:href='#icon-database'></use></svg></label><div class='xr-index-data'><pre>PandasIndex(Index([              -98.0,  -97.92001342773438,  -97.83999633789062,\n",
       "          -97.760009765625,  -97.67999267578125,  -97.60000610351562,\n",
       "        -97.51998901367188,  -97.44000244140625,   -97.3599853515625,\n",
       "        -97.27999877929688,\n",
       "       ...\n",
       "        -36.79998779296875, -36.720001220703125,   -36.6400146484375,\n",
       "        -36.55999755859375, -36.480010986328125, -36.399993896484375,\n",
       "        -36.32000732421875,    -36.239990234375, -36.160003662109375,\n",
       "       -36.079986572265625],\n",
       "      dtype=&#x27;float64&#x27;, name=&#x27;xh&#x27;, length=775))</pre></div></li><li class='xr-var-item'><div class='xr-index-name'><div>yh</div></div><div class='xr-index-preview'>PandasIndex</div><div></div><input id='index-f3c13255-03d7-4caf-8bad-720b00338574' class='xr-index-data-in' type='checkbox'/><label for='index-f3c13255-03d7-4caf-8bad-720b00338574' title='Show/Hide index repr'><svg class='icon xr-icon-database'><use xlink:href='#icon-database'></use></svg></label><div class='xr-index-data'><pre>PandasIndex(Index([ 5.272542476654053,  5.352199077606201,  5.431845188140869,\n",
       "        5.511480331420898, 5.5911054611206055,  5.670719146728516,\n",
       "        5.750322341918945,  5.829914093017578,  5.909494400024414,\n",
       "        5.989063739776611,\n",
       "       ...\n",
       "       51.763702392578125,  51.78256607055664, 51.801414489746094,\n",
       "        51.82025146484375, 51.839073181152344, 51.857879638671875,\n",
       "       51.876670837402344, 51.895450592041016, 51.914215087890625,\n",
       "        51.93296432495117],\n",
       "      dtype=&#x27;float64&#x27;, name=&#x27;yh&#x27;, length=845))</pre></div></li></ul></div></li><li class='xr-section-item'><input id='section-a58a09ff-2f16-4677-a9a0-fdbc2e7c557e' class='xr-section-summary-in' type='checkbox'  checked><label for='section-a58a09ff-2f16-4677-a9a0-fdbc2e7c557e' class='xr-section-summary' >Attributes: <span>(5)</span></label><div class='xr-section-inline-details'></div><div class='xr-section-details'><dl class='xr-attrs'><dt><span>units :</span></dt><dd>m</dd><dt><span>long_name :</span></dt><dd>Sea Surface Height</dd><dt><span>cell_methods :</span></dt><dd>area:mean yh:mean xh:mean time: mean</dd><dt><span>cell_measures :</span></dt><dd>area: areacello</dd><dt><span>time_avg_info :</span></dt><dd>average_T1,average_T2,average_DT</dd></dl></div></li></ul></div></div>"
      ],
      "text/plain": [
       "<xarray.DataArray 'ssh' (member: 5, time: 360, yh: 845, xh: 775)> Size: 5GB\n",
       "dask.array<concatenate, shape=(5, 360, 845, 775), dtype=float32, chunksize=(1, 60, 845, 775), chunktype=numpy.ndarray>\n",
       "Coordinates:\n",
       "  * time     (time) datetime64[ns] 3kB 1993-01-16T12:00:00 ... 2022-12-16T12:...\n",
       "  * xh       (xh) float64 6kB -98.0 -97.92 -97.84 ... -36.24 -36.16 -36.08\n",
       "  * yh       (yh) float64 7kB 5.273 5.352 5.432 5.511 ... 51.88 51.9 51.91 51.93\n",
       "Dimensions without coordinates: member\n",
       "Attributes:\n",
       "    units:          m\n",
       "    long_name:      Sea Surface Height\n",
       "    cell_methods:   area:mean yh:mean xh:mean time: mean\n",
       "    cell_measures:  area: areacello\n",
       "    time_avg_info:  average_T1,average_T2,average_DT"
      ]
     },
     "execution_count": 64,
     "metadata": {},
     "output_type": "execute_result"
    }
   ],
   "source": [
    "all_members_med "
   ]
  },
  {
   "cell_type": "code",
   "execution_count": 65,
   "id": "078125c9-efe6-4f34-a361-3d2eab10571e",
   "metadata": {},
   "outputs": [
    {
     "name": "stderr",
     "output_type": "stream",
     "text": [
      "No artists with labels found to put in legend.  Note that artists whose label start with an underscore are ignored when legend() is called with no argument.\n",
      "/nbhome/Harris.Longfield/python/envs/py311_20240611/lib/python3.11/site-packages/IPython/core/events.py:82: UserWarning: This figure includes Axes that are not compatible with tight_layout, so results might be incorrect.\n",
      "  func(*args, **kwargs)\n",
      "/nbhome/Harris.Longfield/python/envs/py311_20240611/lib/python3.11/site-packages/IPython/core/pylabtools.py:170: UserWarning: This figure includes Axes that are not compatible with tight_layout, so results might be incorrect.\n",
      "  fig.canvas.print_figure(bytes_io, **kw)\n"
     ]
    },
    {
     "data": {
      "image/png": "[encoded data removed]",
      "text/plain": [
       "<Figure size 1000x600 with 3 Axes>"
      ]
     },
     "metadata": {},
     "output_type": "display_data"
    }
   ],
   "source": [
    "    fig = plt.figure(figsize=(10, 6), tight_layout=True)\n",
    "    gs = gridspec.GridSpec(2, 2, hspace=.25)\n",
    "    PC = ccrs.PlateCarree()\n",
    "    _LAND_50M = feature.NaturalEarthFeature(\n",
    "    'physical', 'land', '50m',\n",
    "    edgecolor='face',\n",
    "    facecolor='#999999'\n",
    "    )\n",
    "\n",
    "    ax = fig.add_subplot(gs[0, 0], projection=PC)\n",
    "    ax.add_feature(_LAND_50M)\n",
    "    ax.plot(obs_ssh_points.lat-360, obs_ssh_points.lon) \n",
    "    add_ticks(ax, xlabelinterval=5)\n",
    "    ax.set_extent([-82, -50, 25, 44])\n",
    "    ax.set_title('LOW vs. MED Atmospheric Forcing -- AVG')\n",
    "    ax.legend(ncol=4, loc='lower right', frameon=False, fontsize=8)\n",
    "\n",
    "    ax = fig.add_subplot(gs[0, 1], projection=PC)\n",
    "    ax.add_feature(_LAND_50M)\n",
    "    ax.plot(modelgsipointsmed1.lon-360, modelgsipointsmed1, c='r', linewidth='.5', label = 'Medium resolution')\n",
    "    ax.plot(modelgsipointslow1.lon-360, modelgsipointslow1, c='b', linewidth='.5', label = 'Low resloution') \n",
    "    ax.plot(modelgsipointsmed2.lon-360, modelgsipointsmed2, c='r', linewidth='.5')\n",
    "    ax.plot(modelgsipointslow2.lon-360, modelgsipointslow2, c='b', linewidth='.5') \n",
    "    ax.plot(modelgsipointsmed3.lon-360, modelgsipointsmed3, c='r', linewidth='.5')\n",
    "    ax.plot(modelgsipointslow3.lon-360, modelgsipointslow3, c='b', linewidth='.5') \n",
    "    ax.plot(modelgsipointsmed4.lon-360, modelgsipointsmed4, c='r', linewidth='.5')\n",
    "    ax.plot(modelgsipointslow4.lon-360, modelgsipointslow4, c='b', linewidth='.5') \n",
    "    ax.plot(modelgsipointsmed5.lon-360, modelgsipointsmed5, c='r', linewidth='.5')\n",
    "    ax.plot(modelgsipointslow5.lon-360, modelgsipointslow5, c='b', linewidth='.5')\n",
    "    add_ticks(ax, xlabelinterval=5)\n",
    "    ax.legend(ncol=4, loc='lower right', frameon=False, fontsize=8)\n",
    "    ax.set_extent([-82, -50, 25, 44])\n",
    "    ax.set_title('LOW vs MED Atmospheric Forcing -- All ENS')\n",
    "\n",
    "    ax = fig.add_subplot(gs[1,0]) \n",
    "    "
   ]
  },
  {
   "cell_type": "code",
   "execution_count": 66,
   "id": "a45dca99-6eef-4c72-94af-ebb5fb15790f",
   "metadata": {},
   "outputs": [],
   "source": [
    "from functools import reduce\n",
    "# also import pandas, xarray, etc as usual\n",
    "\n",
    "def shift_time_to_end(before, on):\n",
    "    \"\"\"\n",
    "    Given two xarray dataarrays/sets, both \n",
    "    with same frequency and an index named time,\n",
    "    this will add an appropriate number of years to\n",
    "    the second (on) so that the time begins after\n",
    "    the first (before). \n",
    "    \"\"\"\n",
    "    delta_years = int(before['time.year'][-1]) - int(on['time.year'][0]) + 1\n",
    "    shifted = on.assign_coords(time=on.indexes['time'] + pd.DateOffset(years=delta_years))\n",
    "    return shifted\n",
    "\n",
    "nens = 5\n",
    "res = 'med'\n",
    "members = []\n",
    "for ens in range(1, nens+1):\n",
    "    root = Path(f'/archive/Harris.Longfield/fre/NWA/2024_06/NWA12_COBALT_2024_06_{res}atm_ens_{ens}/gfdl.ncrc5-intel22-prod')\n",
    "    ssh = open_var(root, 'ocean_monthly', 'ssh').sel(time=slice('1997', None))\n",
    "    members.append(ssh)\n",
    "allconcat = reduce(lambda left, right: xarray.concat((left, shift_time_to_end(left, right)), dim='time'), members)"
   ]
  }
 ],
 "metadata": {
  "kernelspec": {
   "display_name": "Python 3 (ipykernel)",
   "language": "python",
   "name": "python3"
  },
  "language_info": {
   "codemirror_mode": {
    "name": "ipython",
    "version": 3
   },
   "file_extension": ".py",
   "mimetype": "text/x-python",
   "name": "python",
   "nbconvert_exporter": "python",
   "pygments_lexer": "ipython3",
   "version": "3.11.9"
  }
 },
 "nbformat": 4,
 "nbformat_minor": 5
}
